{
 "cells": [
  {
   "cell_type": "code",
   "execution_count": null,
   "metadata": {},
   "outputs": [],
   "source": [
    "a = 'python'\n",
    "\n",
    "syntax = var_name[start_index : stop_index : step]\n",
    "\n",
    "start_index is always inclusive\n",
    "stop_inex is always exclusive\n",
    "\n",
    "step \n",
    " +ve - acces the lement form l to r\n",
    " -ve - acces the element from r to l\n",
    "\n",
    "so steps can be\n",
    "\n",
    "+1 - accesing all the elements from l to r\n",
    "or\n",
    "-1 - accesing all the elements from r to l\n",
    "\n",
    "\n",
    "+2 - accesing every 2nd element from l to r\n",
    "or\n",
    "-2 - accesing every 2nd lement from r to left\n",
    "\n",
    "+n - accesiing every nth element from l to r\n",
    "or\n",
    "-n - accesing every nth element from r to l\n",
    "\n",
    "Note- The direction of start_index : Stop_index should as same as step\n",
    "    \n",
    "Deafult values\n",
    "\n",
    "var_name[:]\n",
    "start_index deafult value 0\n",
    "stop index deafualt value is len of string\n",
    "step is +1\n",
    "\n",
    "if step is +\n",
    "start_index deafult value 0\n",
    "stop index deafualt value is len of string\n",
    "\n",
    "if step is -\n",
    "start_index deafult value -1\n",
    "stop index deafualt value is -len(str)-1"
   ]
  },
  {
   "cell_type": "code",
   "execution_count": 4,
   "metadata": {},
   "outputs": [
    {
     "data": {
      "text/plain": [
       "'ohty'"
      ]
     },
     "execution_count": 4,
     "metadata": {},
     "output_type": "execute_result"
    }
   ],
   "source": [
    "a = 'python'\n",
    "\n",
    "# extract ytho\n",
    "\n",
    "a[1:5:-1]\n",
    "\n",
    "#extract 'ohty'\n",
    "a[-2:-6:-1]\n",
    "\n",
    "# r:l  step: l:r  - contracting ---> empty string\n"
   ]
  },
  {
   "cell_type": "code",
   "execution_count": 5,
   "metadata": {},
   "outputs": [
    {
     "data": {
      "text/plain": [
       "'python'"
      ]
     },
     "execution_count": 5,
     "metadata": {},
     "output_type": "execute_result"
    }
   ],
   "source": [
    "a = 'python'\n",
    "a[:]"
   ]
  },
  {
   "cell_type": "code",
   "execution_count": 6,
   "metadata": {},
   "outputs": [
    {
     "data": {
      "text/plain": [
       "'nohtyp'"
      ]
     },
     "execution_count": 6,
     "metadata": {},
     "output_type": "execute_result"
    }
   ],
   "source": [
    "a = 'python'\n",
    "a[-1:-7:-1]"
   ]
  },
  {
   "cell_type": "code",
   "execution_count": 7,
   "metadata": {},
   "outputs": [
    {
     "data": {
      "text/plain": [
       "'htyp'"
      ]
     },
     "execution_count": 7,
     "metadata": {},
     "output_type": "execute_result"
    }
   ],
   "source": [
    "a[-3::-1]"
   ]
  },
  {
   "cell_type": "code",
   "execution_count": 9,
   "metadata": {},
   "outputs": [
    {
     "data": {
      "text/plain": [
       "'ymedaca'"
      ]
     },
     "execution_count": 9,
     "metadata": {},
     "output_type": "execute_result"
    }
   ],
   "source": [
    "a = 'tutort academy'\n",
    "\n",
    "# extract acadmey in reverse\n",
    "\n",
    "a[-1:-8:-1]\n",
    "\n",
    "a[:-8:-1]"
   ]
  },
  {
   "cell_type": "code",
   "execution_count": 10,
   "metadata": {},
   "outputs": [
    {
     "data": {
      "text/plain": [
       "'pto'"
      ]
     },
     "execution_count": 10,
     "metadata": {},
     "output_type": "execute_result"
    }
   ],
   "source": [
    "a = 'python'\n",
    "a[::2]\n"
   ]
  },
  {
   "cell_type": "code",
   "execution_count": 11,
   "metadata": {},
   "outputs": [
    {
     "data": {
      "text/plain": [
       "'tut'"
      ]
     },
     "execution_count": 11,
     "metadata": {},
     "output_type": "execute_result"
    }
   ],
   "source": [
    "a = 'tutort academy'\n",
    "a[:3]"
   ]
  },
  {
   "cell_type": "code",
   "execution_count": 12,
   "metadata": {},
   "outputs": [
    {
     "data": {
      "text/plain": [
       "'to am'"
      ]
     },
     "execution_count": 12,
     "metadata": {},
     "output_type": "execute_result"
    }
   ],
   "source": [
    "a = 'tutort academy'\n",
    "a[::3]"
   ]
  },
  {
   "cell_type": "code",
   "execution_count": 13,
   "metadata": {},
   "outputs": [
    {
     "data": {
      "text/plain": [
       "'yatu'"
      ]
     },
     "execution_count": 13,
     "metadata": {},
     "output_type": "execute_result"
    }
   ],
   "source": [
    "a = 'tutort academy'\n",
    "a[::-4]"
   ]
  },
  {
   "cell_type": "code",
   "execution_count": 15,
   "metadata": {},
   "outputs": [
    {
     "name": "stdout",
     "output_type": "stream",
     "text": [
      "palindrome\n"
     ]
    }
   ],
   "source": [
    "# palindrome\n",
    "\n",
    "a = 'level'\n",
    "b = a[::-1]\n",
    "\n",
    "if a == b:\n",
    "    print('palindrome')\n",
    "else:\n",
    "    print('not a plindrome')"
   ]
  },
  {
   "cell_type": "code",
   "execution_count": null,
   "metadata": {},
   "outputs": [],
   "source": [
    "# propterties of string\n",
    "\n",
    "- it is a seq data type\n",
    "- indexing and slicing\n",
    "- +ve indexing starts from 0\n",
    "- -ve indexing starts from -1\n",
    "- indexing , slicing , concatination , repetion ,Identity, membership\n",
    "- string is immutable - item assignment is not possible , you cannot chnage the object"
   ]
  },
  {
   "cell_type": "code",
   "execution_count": null,
   "metadata": {},
   "outputs": [],
   "source": [
    "3. Concatination\n",
    "\n",
    "op - +\n",
    "operands - both should be string"
   ]
  },
  {
   "cell_type": "code",
   "execution_count": 16,
   "metadata": {},
   "outputs": [
    {
     "data": {
      "text/plain": [
       "'abcxyz'"
      ]
     },
     "execution_count": 16,
     "metadata": {},
     "output_type": "execute_result"
    }
   ],
   "source": [
    "a = 'abc'\n",
    "\n",
    "b = 'xyz'\n",
    "\n",
    "a+b"
   ]
  },
  {
   "cell_type": "code",
   "execution_count": 17,
   "metadata": {},
   "outputs": [
    {
     "ename": "TypeError",
     "evalue": "can only concatenate str (not \"int\") to str",
     "output_type": "error",
     "traceback": [
      "\u001b[0;31m---------------------------------------------------------------------------\u001b[0m",
      "\u001b[0;31mTypeError\u001b[0m                                 Traceback (most recent call last)",
      "\u001b[0;32m<ipython-input-17-a736356a3d46>\u001b[0m in \u001b[0;36m<module>\u001b[0;34m\u001b[0m\n\u001b[1;32m      3\u001b[0m \u001b[0mb\u001b[0m \u001b[0;34m=\u001b[0m \u001b[0;36m1\u001b[0m\u001b[0;34m\u001b[0m\u001b[0;34m\u001b[0m\u001b[0m\n\u001b[1;32m      4\u001b[0m \u001b[0;34m\u001b[0m\u001b[0m\n\u001b[0;32m----> 5\u001b[0;31m \u001b[0ma\u001b[0m\u001b[0;34m+\u001b[0m\u001b[0mb\u001b[0m\u001b[0;34m\u001b[0m\u001b[0;34m\u001b[0m\u001b[0m\n\u001b[0m",
      "\u001b[0;31mTypeError\u001b[0m: can only concatenate str (not \"int\") to str"
     ]
    }
   ],
   "source": [
    "a = 'abc'\n",
    "\n",
    "b = 1\n",
    "\n",
    "a+b"
   ]
  },
  {
   "cell_type": "code",
   "execution_count": null,
   "metadata": {},
   "outputs": [],
   "source": [
    "repetition\n",
    "op - *\n",
    "operands - one should be string and other should be integer"
   ]
  },
  {
   "cell_type": "code",
   "execution_count": 19,
   "metadata": {},
   "outputs": [
    {
     "data": {
      "text/plain": [
       "'afsaanafsaanafsaan'"
      ]
     },
     "execution_count": 19,
     "metadata": {},
     "output_type": "execute_result"
    }
   ],
   "source": [
    "a = 'afsaan'\n",
    "b = 3\n",
    "\n",
    "a * b"
   ]
  },
  {
   "cell_type": "code",
   "execution_count": 20,
   "metadata": {},
   "outputs": [
    {
     "ename": "TypeError",
     "evalue": "can't multiply sequence by non-int of type 'float'",
     "output_type": "error",
     "traceback": [
      "\u001b[0;31m---------------------------------------------------------------------------\u001b[0m",
      "\u001b[0;31mTypeError\u001b[0m                                 Traceback (most recent call last)",
      "\u001b[0;32m<ipython-input-20-36ab25f3eab4>\u001b[0m in \u001b[0;36m<module>\u001b[0;34m\u001b[0m\n\u001b[1;32m      2\u001b[0m \u001b[0mb\u001b[0m \u001b[0;34m=\u001b[0m \u001b[0;36m3.2\u001b[0m\u001b[0;34m\u001b[0m\u001b[0;34m\u001b[0m\u001b[0m\n\u001b[1;32m      3\u001b[0m \u001b[0;34m\u001b[0m\u001b[0m\n\u001b[0;32m----> 4\u001b[0;31m \u001b[0ma\u001b[0m \u001b[0;34m*\u001b[0m \u001b[0mb\u001b[0m\u001b[0;34m\u001b[0m\u001b[0;34m\u001b[0m\u001b[0m\n\u001b[0m",
      "\u001b[0;31mTypeError\u001b[0m: can't multiply sequence by non-int of type 'float'"
     ]
    }
   ],
   "source": [
    "a = 'afsaan'\n",
    "b = 3.2\n",
    "\n",
    "a * b"
   ]
  },
  {
   "cell_type": "code",
   "execution_count": 21,
   "metadata": {},
   "outputs": [
    {
     "ename": "TypeError",
     "evalue": "can't multiply sequence by non-int of type 'str'",
     "output_type": "error",
     "traceback": [
      "\u001b[0;31m---------------------------------------------------------------------------\u001b[0m",
      "\u001b[0;31mTypeError\u001b[0m                                 Traceback (most recent call last)",
      "\u001b[0;32m<ipython-input-21-4e98e0db4b17>\u001b[0m in \u001b[0;36m<module>\u001b[0;34m\u001b[0m\n\u001b[1;32m      2\u001b[0m \u001b[0mb\u001b[0m \u001b[0;34m=\u001b[0m \u001b[0;34m'abc'\u001b[0m\u001b[0;34m\u001b[0m\u001b[0;34m\u001b[0m\u001b[0m\n\u001b[1;32m      3\u001b[0m \u001b[0;34m\u001b[0m\u001b[0m\n\u001b[0;32m----> 4\u001b[0;31m \u001b[0ma\u001b[0m \u001b[0;34m*\u001b[0m \u001b[0mb\u001b[0m\u001b[0;34m\u001b[0m\u001b[0;34m\u001b[0m\u001b[0m\n\u001b[0m",
      "\u001b[0;31mTypeError\u001b[0m: can't multiply sequence by non-int of type 'str'"
     ]
    }
   ],
   "source": [
    "a = 'afsaan'\n",
    "b = 'abc'\n",
    "\n",
    "a * b"
   ]
  },
  {
   "cell_type": "code",
   "execution_count": 22,
   "metadata": {},
   "outputs": [
    {
     "name": "stdout",
     "output_type": "stream",
     "text": [
      "140122527363696\n",
      "140122527363696\n",
      "True\n"
     ]
    }
   ],
   "source": [
    "# identity - whether the memory adddres of the both the varibale is same or not\n",
    "op - is and is not\n",
    "\n",
    "\n",
    "a = 'afsaan'\n",
    "b = 'afsaan'\n",
    "\n",
    "print(id(a))\n",
    "print(id(b))\n",
    "\n",
    "print(a is b)"
   ]
  },
  {
   "cell_type": "code",
   "execution_count": 23,
   "metadata": {},
   "outputs": [
    {
     "name": "stdout",
     "output_type": "stream",
     "text": [
      "140122527383344\n",
      "140122527383344\n",
      "True\n"
     ]
    }
   ],
   "source": [
    "a = 'afsaan1'\n",
    "b = 'afsaan1'\n",
    "\n",
    "print(id(a))\n",
    "print(id(b))\n",
    "\n",
    "print(a is b)"
   ]
  },
  {
   "cell_type": "code",
   "execution_count": 24,
   "metadata": {},
   "outputs": [
    {
     "name": "stdout",
     "output_type": "stream",
     "text": [
      "140122527380016\n",
      "140122527380336\n",
      "False\n"
     ]
    }
   ],
   "source": [
    "a = 'afsaan khan'\n",
    "b = 'afsaan khan'\n",
    "\n",
    "print(id(a))\n",
    "print(id(b))\n",
    "\n",
    "print(a is b)"
   ]
  },
  {
   "cell_type": "code",
   "execution_count": null,
   "metadata": {},
   "outputs": [],
   "source": [
    "Obejct resuabilty concept\n",
    "\n",
    "str - A-Z , a-z , 0-9 , _"
   ]
  },
  {
   "cell_type": "code",
   "execution_count": 25,
   "metadata": {},
   "outputs": [
    {
     "name": "stdout",
     "output_type": "stream",
     "text": [
      "140122527377520\n",
      "140122527377520\n",
      "True\n"
     ]
    }
   ],
   "source": [
    "a = 'afsaankhan_'\n",
    "b = 'afsaankhan_'\n",
    "\n",
    "print(id(a))\n",
    "print(id(b))\n",
    "\n",
    "print(a is b)"
   ]
  },
  {
   "cell_type": "code",
   "execution_count": 26,
   "metadata": {},
   "outputs": [
    {
     "name": "stdout",
     "output_type": "stream",
     "text": [
      "140122527375856\n",
      "140122527376624\n",
      "False\n"
     ]
    }
   ],
   "source": [
    "a = 'afsaankhan@'\n",
    "b = 'afsaankhan@'\n",
    "\n",
    "print(id(a))\n",
    "print(id(b))\n",
    "\n",
    "print(a is b)"
   ]
  },
  {
   "cell_type": "code",
   "execution_count": 27,
   "metadata": {},
   "outputs": [
    {
     "name": "stdout",
     "output_type": "stream",
     "text": [
      "140122527364784\n",
      "140122527366192\n",
      "True\n"
     ]
    }
   ],
   "source": [
    "a = 'afsaankhan-'\n",
    "b = 'afsaankhan-'\n",
    "\n",
    "print(id(a))\n",
    "print(id(b))\n",
    "\n",
    "print(a is not b)"
   ]
  },
  {
   "cell_type": "code",
   "execution_count": 28,
   "metadata": {},
   "outputs": [
    {
     "name": "stdout",
     "output_type": "stream",
     "text": [
      "True\n"
     ]
    }
   ],
   "source": [
    "# Membership op - is to tell whether a substring is present in the main string or not\n",
    "op - in and not in\n",
    "\n",
    "\n",
    "a = 'afsaan'\n",
    "b = 'aa'\n",
    "\n",
    "print(b in a)"
   ]
  },
  {
   "cell_type": "code",
   "execution_count": 29,
   "metadata": {},
   "outputs": [
    {
     "name": "stdout",
     "output_type": "stream",
     "text": [
      "False\n"
     ]
    }
   ],
   "source": [
    "a = 'afsaan'\n",
    "b = 'aaf'\n",
    "\n",
    "print(b in a)"
   ]
  },
  {
   "cell_type": "code",
   "execution_count": 31,
   "metadata": {},
   "outputs": [
    {
     "ename": "TypeError",
     "evalue": "'str' object does not support item assignment",
     "output_type": "error",
     "traceback": [
      "\u001b[0;31m---------------------------------------------------------------------------\u001b[0m",
      "\u001b[0;31mTypeError\u001b[0m                                 Traceback (most recent call last)",
      "\u001b[0;32m<ipython-input-31-f0d3d29d3e41>\u001b[0m in \u001b[0;36m<module>\u001b[0;34m\u001b[0m\n\u001b[1;32m      1\u001b[0m \u001b[0;31m# immutable\u001b[0m\u001b[0;34m\u001b[0m\u001b[0;34m\u001b[0m\u001b[0;34m\u001b[0m\u001b[0m\n\u001b[1;32m      2\u001b[0m \u001b[0ma\u001b[0m \u001b[0;34m=\u001b[0m \u001b[0;34m'python'\u001b[0m\u001b[0;34m\u001b[0m\u001b[0;34m\u001b[0m\u001b[0m\n\u001b[0;32m----> 3\u001b[0;31m \u001b[0ma\u001b[0m\u001b[0;34m[\u001b[0m\u001b[0;36m0\u001b[0m\u001b[0;34m]\u001b[0m \u001b[0;34m=\u001b[0m \u001b[0;34m'c'\u001b[0m\u001b[0;34m\u001b[0m\u001b[0;34m\u001b[0m\u001b[0m\n\u001b[0m\u001b[1;32m      4\u001b[0m \u001b[0mprint\u001b[0m\u001b[0;34m(\u001b[0m\u001b[0ma\u001b[0m\u001b[0;34m)\u001b[0m\u001b[0;34m\u001b[0m\u001b[0;34m\u001b[0m\u001b[0m\n",
      "\u001b[0;31mTypeError\u001b[0m: 'str' object does not support item assignment"
     ]
    }
   ],
   "source": [
    "# immutable - thte once created caanot be chnaged\n",
    "a = 'python'\n",
    "a[0] = 'c'\n",
    "print(a)"
   ]
  },
  {
   "cell_type": "markdown",
   "metadata": {},
   "source": [
    "# String methods"
   ]
  },
  {
   "cell_type": "code",
   "execution_count": 32,
   "metadata": {},
   "outputs": [
    {
     "name": "stdout",
     "output_type": "stream",
     "text": [
      "['__add__', '__class__', '__contains__', '__delattr__', '__dir__', '__doc__', '__eq__', '__format__', '__ge__', '__getattribute__', '__getitem__', '__getnewargs__', '__gt__', '__hash__', '__init__', '__init_subclass__', '__iter__', '__le__', '__len__', '__lt__', '__mod__', '__mul__', '__ne__', '__new__', '__reduce__', '__reduce_ex__', '__repr__', '__rmod__', '__rmul__', '__setattr__', '__sizeof__', '__str__', '__subclasshook__', 'capitalize', 'casefold', 'center', 'count', 'encode', 'endswith', 'expandtabs', 'find', 'format', 'format_map', 'index', 'isalnum', 'isalpha', 'isascii', 'isdecimal', 'isdigit', 'isidentifier', 'islower', 'isnumeric', 'isprintable', 'isspace', 'istitle', 'isupper', 'join', 'ljust', 'lower', 'lstrip', 'maketrans', 'partition', 'replace', 'rfind', 'rindex', 'rjust', 'rpartition', 'rsplit', 'rstrip', 'split', 'splitlines', 'startswith', 'strip', 'swapcase', 'title', 'translate', 'upper', 'zfill']\n"
     ]
    }
   ],
   "source": [
    "# to check all the methods in string\n",
    "print(dir(str))"
   ]
  },
  {
   "cell_type": "code",
   "execution_count": 38,
   "metadata": {},
   "outputs": [
    {
     "name": "stdout",
     "output_type": "stream",
     "text": [
      "This is python class\n",
      "THIS IS PYTHON CLASS\n",
      "afsaan\n",
      "aFSaaN\n",
      "This Is Python Class\n"
     ]
    }
   ],
   "source": [
    "s = 'this is python class'\n",
    "s1 = 'AFSAAN'\n",
    "s3 = 'AfsAAn'\n",
    "\n",
    "# capitalise - it capitalise the first letter of the sentence\n",
    "print(s.capitalize())\n",
    "\n",
    "# upper - converts to upper case\n",
    "print(s.upper())\n",
    "\n",
    "# lower - converts to lower case\n",
    "print(s1.lower())\n",
    "\n",
    "# swapcase - convert uppercase to lowercase and vice versa\n",
    "print(s3.swapcase())\n",
    "\n",
    "\n",
    "# title - each words first letter will be uppercase\n",
    "print(s.title())"
   ]
  },
  {
   "cell_type": "code",
   "execution_count": 44,
   "metadata": {},
   "outputs": [
    {
     "name": "stdout",
     "output_type": "stream",
     "text": [
      "True\n",
      "True\n",
      "True\n",
      "False\n"
     ]
    }
   ],
   "source": [
    "# fucntion that returns Boolean value\n",
    "s = 'hello world'\n",
    "\n",
    "# 1. startswith - rteurn True if string starts with the specified prefix , else false\n",
    "\n",
    "print(s.startswith('he'))\n",
    "print(s.startswith('ello' , 1 , 9))\n",
    "\n",
    "\n",
    "#2. endswith - Return True if String ends with the given suffix , else false\n",
    "\n",
    "print(s.endswith('ld'))\n",
    "print(s.endswith('ld' , 1,7))"
   ]
  },
  {
   "cell_type": "code",
   "execution_count": 51,
   "metadata": {},
   "outputs": [
    {
     "name": "stdout",
     "output_type": "stream",
     "text": [
      "True\n",
      "True\n",
      "False\n",
      "True\n",
      "-------------------------------------------------------\n",
      "True\n",
      "False\n",
      "False\n",
      "False\n",
      "-------------------------------------------------------\n",
      "False\n",
      "False\n",
      "False\n",
      "True\n",
      "-------------------------------------------------------\n",
      "True\n",
      "False\n",
      "False\n",
      "False\n",
      "-------------------------------------------------------\n",
      "True\n",
      "True\n",
      "True\n",
      "True\n"
     ]
    }
   ],
   "source": [
    "s1 = 'abc'\n",
    "s2 = '123abc'\n",
    "s3 = '*'\n",
    "s4 = '112'\n",
    "\n",
    "# isalnum - return true if string is either aplhbet , numeric , alphanumeric , else false\n",
    "print(s1.isalnum()) # True\n",
    "print(s2.isalnum()) # true\n",
    "print(s3.isalnum()) # False\n",
    "print(s4.isalnum()) # True\n",
    "\n",
    "print('-------------------------------------------------------')\n",
    "\n",
    "# isalpha - return true if string is only aplhbet else false\n",
    "print(s1.isalpha()) # True\n",
    "print(s2.isalpha()) # False\n",
    "print(s3.isalpha()) # False\n",
    "print(s4.isalpha()) # False\n",
    "\n",
    "print('-------------------------------------------------------')\n",
    "\n",
    "s1 = 'abc'\n",
    "s2 = '123abc'\n",
    "s3 = '*'\n",
    "s4 = '112'\n",
    "\n",
    "# isnumeric - return true if string is only numeric else false\n",
    "print(s1.isnumeric()) # False\n",
    "print(s2.isnumeric()) # False\n",
    "print(s3.isnumeric()) # False\n",
    "print(s4.isnumeric()) # True\n",
    "\n",
    "print('-------------------------------------------------------')\n",
    "\n",
    "# isidentifier- return true if string is identifier else false\n",
    "print(s1.isidentifier()) # True\n",
    "print(s2.isidentifier()) # False\n",
    "print(s3.isidentifier()) # False\n",
    "print(s4.isidentifier()) # False\n",
    "\n",
    "\n",
    "print('-------------------------------------------------------')\n",
    "\n",
    "s1 = 'abc'\n",
    "s2 = '123abc'\n",
    "s3 = '*'\n",
    "s4 = '112'\n",
    "\n",
    "# isascii- return true if all the char in string has ascii value else false\n",
    "print(s1.isascii()) # True\n",
    "print(s2.isascii()) # True\n",
    "print(s3.isascii()) # True\n",
    "print(s4.isascii()) # True"
   ]
  },
  {
   "cell_type": "markdown",
   "metadata": {},
   "source": [
    "# Escape characters"
   ]
  },
  {
   "cell_type": "code",
   "execution_count": 52,
   "metadata": {},
   "outputs": [
    {
     "name": "stdout",
     "output_type": "stream",
     "text": [
      "hello\n",
      "world\n"
     ]
    }
   ],
   "source": [
    "#\\n - new line\n",
    "\n",
    "print('hello\\nworld')"
   ]
  },
  {
   "cell_type": "code",
   "execution_count": 70,
   "metadata": {},
   "outputs": [
    {
     "name": "stdout",
     "output_type": "stream",
     "text": [
      "line1line2line3\n"
     ]
    }
   ],
   "source": [
    "# \\ -back slash - escapes the new line\n",
    "\n",
    "print('line1\\\n",
    "line2\\\n",
    "line3')"
   ]
  },
  {
   "cell_type": "code",
   "execution_count": 56,
   "metadata": {},
   "outputs": [
    {
     "name": "stdout",
     "output_type": "stream",
     "text": [
      "it's a python class\n"
     ]
    }
   ],
   "source": [
    "# \\' - considers ' as a char of a string\n",
    "\n",
    "a = 'it\\'s a python class'\n",
    "print(a)"
   ]
  },
  {
   "cell_type": "code",
   "execution_count": 58,
   "metadata": {},
   "outputs": [
    {
     "name": "stdout",
     "output_type": "stream",
     "text": [
      "it\"s a python class\n"
     ]
    }
   ],
   "source": [
    "# \\\" - considers ' as a char of a string\n",
    "\n",
    "a = \"it\\\"s a python class\"\n",
    "print(a)"
   ]
  },
  {
   "cell_type": "code",
   "execution_count": 59,
   "metadata": {},
   "outputs": [
    {
     "name": "stdout",
     "output_type": "stream",
     "text": [
      "afsaan\bkhan\n"
     ]
    }
   ],
   "source": [
    "# \\b - backspace - Deleets the previous character\n",
    "\n",
    "a = \"afsaan\\bkhan\"\n",
    "print(a)\n",
    "\n",
    "# afsaakhan"
   ]
  },
  {
   "cell_type": "code",
   "execution_count": 60,
   "metadata": {},
   "outputs": [
    {
     "name": "stdout",
     "output_type": "stream",
     "text": [
      "abc\bef\n"
     ]
    }
   ],
   "source": [
    "a = \"abc\\bef\"\n",
    "print(a)"
   ]
  },
  {
   "cell_type": "code",
   "execution_count": 61,
   "metadata": {},
   "outputs": [
    {
     "name": "stdout",
     "output_type": "stream",
     "text": [
      "ab\bc\n"
     ]
    }
   ],
   "source": [
    "print('ab' + '\\b' +'c')"
   ]
  },
  {
   "cell_type": "code",
   "execution_count": 62,
   "metadata": {},
   "outputs": [
    {
     "name": "stdout",
     "output_type": "stream",
     "text": [
      "hello\r",
      "wor\n"
     ]
    }
   ],
   "source": [
    "# \\r - carriage return\n",
    "\n",
    "text = 'hello\\rwor'\n",
    "print(text)\n",
    "# worlo"
   ]
  },
  {
   "cell_type": "code",
   "execution_count": 63,
   "metadata": {},
   "outputs": [
    {
     "name": "stdout",
     "output_type": "stream",
     "text": [
      "afsaan\r",
      "khan\n"
     ]
    }
   ],
   "source": [
    "text = 'afsaan\\rkhan'\n",
    "print(text)\n",
    "\n",
    "# khanan"
   ]
  },
  {
   "cell_type": "code",
   "execution_count": 64,
   "metadata": {},
   "outputs": [
    {
     "name": "stdout",
     "output_type": "stream",
     "text": [
      "afsan\tkhan\n"
     ]
    }
   ],
   "source": [
    "# \\t - tab\n",
    "print('afsan\\tkhan')"
   ]
  },
  {
   "cell_type": "code",
   "execution_count": 69,
   "metadata": {},
   "outputs": [
    {
     "name": "stdout",
     "output_type": "stream",
     "text": [
      "hello\\nword\n",
      "hello\\bword\n",
      "hello\\tword\n",
      "hello\\rword\n"
     ]
    }
   ],
   "source": [
    "# r - raw string\n",
    "\n",
    "text = r'hello\\nword'\n",
    "print(text)\n",
    "\n",
    "text = r'hello\\bword'\n",
    "print(text)\n",
    "\n",
    "text = r'hello\\tword'\n",
    "print(text)\n",
    "\n",
    "text = r'hello\\rword'\n",
    "print(text)"
   ]
  },
  {
   "cell_type": "code",
   "execution_count": 72,
   "metadata": {},
   "outputs": [
    {
     "name": "stdout",
     "output_type": "stream",
     "text": [
      "khan\r",
      "afsaan\n"
     ]
    }
   ],
   "source": [
    "print('khan\\rafsaan')"
   ]
  },
  {
   "cell_type": "code",
   "execution_count": 77,
   "metadata": {},
   "outputs": [
    {
     "name": "stdout",
     "output_type": "stream",
     "text": [
      "False\n",
      "True\n",
      "False\n",
      "False\n",
      "False\n",
      "-------------------------------------------------------\n",
      "True\n",
      "False\n",
      "False\n",
      "False\n",
      "True\n",
      "-------------------------------------------------------\n",
      "False\n",
      "False\n",
      "False\n",
      "False\n",
      "False\n",
      "True\n",
      "-------------------------------------------------------\n",
      "True\n",
      "True\n",
      "True\n",
      "False\n",
      "False\n",
      "False\n"
     ]
    }
   ],
   "source": [
    "s1 = 'abc'\n",
    "s2 = 'ABC'\n",
    "s3 = '*'\n",
    "s4 = '112'\n",
    "s5 = 'python class'\n",
    "s6 = 'Python Class'\n",
    "\n",
    "\n",
    "# isupper - tells whether string is in upper case or not\n",
    "print(s1.isupper()) # False\n",
    "print(s2.isupper()) # True\n",
    "print(s3.isupper()) # False\n",
    "print(s4.isupper()) # False\n",
    "print(s5.isupper()) # False\n",
    "\n",
    "\n",
    "print('-------------------------------------------------------')\n",
    "# islower - tells whether string is in lower case or not\n",
    "print(s1.islower()) # True\n",
    "print(s2.islower()) # False\n",
    "print(s3.islower()) # False\n",
    "print(s4.islower()) # False\n",
    "print(s5.islower()) # true\n",
    "\n",
    "\n",
    "s1 = 'abc'\n",
    "s2 = 'ABC'\n",
    "s3 = '*'\n",
    "s4 = '112'\n",
    "s5 = 'python class'\n",
    "s6 = 'Python Class'\n",
    "\n",
    "print('-------------------------------------------------------')\n",
    "# istitle - tells whether string is titlecased case or not\n",
    "print(s1.istitle()) # false\n",
    "print(s2.istitle()) # False\n",
    "print(s3.istitle()) # False\n",
    "print(s4.istitle()) # False\n",
    "print(s5.istitle()) # False\n",
    "print(s6.istitle()) # true\n",
    "\n",
    "print('-------------------------------------------------------')\n",
    "# isspace - tells whether string has only the space character\n",
    "print(' '.isspace()) # True\n",
    "print('\\t'.isspace()) # true\n",
    "print('\\n'.isspace()) # True\n",
    "print('abc\\n'.isspace()) # False\n",
    "print('abc\\txyz'.isspace()) # False\n",
    "print(s6.isspace()) # False"
   ]
  },
  {
   "cell_type": "code",
   "execution_count": 83,
   "metadata": {},
   "outputs": [
    {
     "name": "stdout",
     "output_type": "stream",
     "text": [
      " python  8\n",
      "python 6\n",
      "**python** 10\n",
      "python 6\n",
      "-----------------------rstrip-------------------------\n",
      " python  8\n",
      " python 7\n",
      "**python** 10\n",
      "**python 8\n",
      "-----------------------lstrip-------------------------\n",
      " python  8\n",
      "python  7\n",
      "**python** 10\n",
      "python** 8\n"
     ]
    }
   ],
   "source": [
    "#strip , rstrip , lstrip\n",
    "# removes the specified character from the end\n",
    "\n",
    "# Strip - removes the spaces from the end\n",
    "print(' python ' , len(' python '))\n",
    "print(' python '.strip() , len(' python '.strip()))\n",
    "\n",
    "print('**python**' , len('**python**'))\n",
    "print('**python**'.strip('*') , len('**python**'.strip('*')))\n",
    "\n",
    "print('-----------------------rstrip-------------------------')\n",
    "#rstrip - remove the specified from the right\n",
    "print(' python ' , len(' python '))\n",
    "print(' python '.rstrip() , len(' python '.rstrip()))\n",
    "\n",
    "print('**python**' , len('**python**'))\n",
    "print('**python**'.rstrip('*') , len('**python**'.rstrip('*')))\n",
    "\n",
    "\n",
    "print('-----------------------lstrip-------------------------')\n",
    "#rstrip - remove the specified from the right\n",
    "print(' python ' , len(' python '))\n",
    "print(' python '.lstrip() , len(' python '.lstrip()))\n",
    "\n",
    "print('**python**' , len('**python**'))\n",
    "print('**python**'.lstrip('*') , len('**python**'.lstrip('*')))"
   ]
  },
  {
   "cell_type": "code",
   "execution_count": 86,
   "metadata": {},
   "outputs": [
    {
     "name": "stdout",
     "output_type": "stream",
     "text": [
      "1\n",
      "0\n"
     ]
    }
   ],
   "source": [
    "# count - how many chcarcetrs or group char are present\n",
    "\n",
    "my_str = 'python class'\n",
    "print(my_str.count('ss'))\n",
    "\n",
    "# we can specify the range\n",
    "\n",
    "my_str = 'python class'\n",
    "print(my_str.count('ss' ,1,6))"
   ]
  },
  {
   "cell_type": "code",
   "execution_count": 94,
   "metadata": {},
   "outputs": [
    {
     "name": "stdout",
     "output_type": "stream",
     "text": [
      "13\n",
      "6\n"
     ]
    }
   ],
   "source": [
    "# find , rfind , index , rindex - this methods finds the staring index of a char / group of character\n",
    "\n",
    "# find - finds the index from l to r\n",
    "str1 = 'Afsaan loves to watch footbal'\n",
    "print(str1.find('to'))\n",
    "\n",
    "# rfind - finds the index from r to l\n",
    "str1 = 'pytoohon'\n",
    "print(str1.rfind('o'))"
   ]
  },
  {
   "cell_type": "code",
   "execution_count": 98,
   "metadata": {},
   "outputs": [
    {
     "name": "stdout",
     "output_type": "stream",
     "text": [
      "13\n",
      "9\n"
     ]
    }
   ],
   "source": [
    "# index - finds the index from l to r\n",
    "str1 = 'Afsaan loves to watch footbal'\n",
    "print(str1.find('to'))\n",
    "\n",
    "# rindex - finds the index from r to l\n",
    "str1 = 'pytoohonnn'\n",
    "print(str1.rfind('n'))"
   ]
  },
  {
   "cell_type": "code",
   "execution_count": 96,
   "metadata": {},
   "outputs": [
    {
     "name": "stdout",
     "output_type": "stream",
     "text": [
      "-1\n"
     ]
    }
   ],
   "source": [
    "# index anf find ---> find will return -1 if char is not present wheras index will give an error\n",
    "\n",
    "str1 = 'Afsaan loves to watch footbal'\n",
    "print(str1.find('messi'))"
   ]
  },
  {
   "cell_type": "code",
   "execution_count": 97,
   "metadata": {},
   "outputs": [
    {
     "ename": "ValueError",
     "evalue": "substring not found",
     "output_type": "error",
     "traceback": [
      "\u001b[0;31m---------------------------------------------------------------------------\u001b[0m",
      "\u001b[0;31mValueError\u001b[0m                                Traceback (most recent call last)",
      "\u001b[0;32m<ipython-input-97-62421b18a27e>\u001b[0m in \u001b[0;36m<module>\u001b[0;34m\u001b[0m\n\u001b[1;32m      1\u001b[0m \u001b[0mstr1\u001b[0m \u001b[0;34m=\u001b[0m \u001b[0;34m'Afsaan loves to watch footbal'\u001b[0m\u001b[0;34m\u001b[0m\u001b[0;34m\u001b[0m\u001b[0m\n\u001b[0;32m----> 2\u001b[0;31m \u001b[0mprint\u001b[0m\u001b[0;34m(\u001b[0m\u001b[0mstr1\u001b[0m\u001b[0;34m.\u001b[0m\u001b[0mindex\u001b[0m\u001b[0;34m(\u001b[0m\u001b[0;34m'messi'\u001b[0m\u001b[0;34m)\u001b[0m\u001b[0;34m)\u001b[0m\u001b[0;34m\u001b[0m\u001b[0;34m\u001b[0m\u001b[0m\n\u001b[0m",
      "\u001b[0;31mValueError\u001b[0m: substring not found"
     ]
    }
   ],
   "source": [
    "str1 = 'Afsaan loves to watch footbal'\n",
    "print(str1.index('messi'))"
   ]
  },
  {
   "cell_type": "code",
   "execution_count": null,
   "metadata": {},
   "outputs": [],
   "source": []
  }
 ],
 "metadata": {
  "kernelspec": {
   "display_name": "Python 3",
   "language": "python",
   "name": "python3"
  },
  "language_info": {
   "codemirror_mode": {
    "name": "ipython",
    "version": 3
   },
   "file_extension": ".py",
   "mimetype": "text/x-python",
   "name": "python",
   "nbconvert_exporter": "python",
   "pygments_lexer": "ipython3",
   "version": "3.8.5"
  }
 },
 "nbformat": 4,
 "nbformat_minor": 4
}
