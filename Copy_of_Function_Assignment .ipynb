{
  "nbformat": 4,
  "nbformat_minor": 0,
  "metadata": {
    "colab": {
      "name": "Copy of Function_Assignment.ipynb",
      "provenance": [],
      "collapsed_sections": []
    },
    "kernelspec": {
      "name": "python3",
      "display_name": "Python 3"
    }
  },
  "cells": [
    {
      "cell_type": "code",
      "metadata": {
        "id": "1YVTYu-CuCOO"
      },
      "source": [
        "# Define a function calls addNumber(x, y) that takes in two number and returns the sum of the two numbers.\n",
        "\n",
        "def addNumber(x, y):\n",
        "  return x+y\n",
        "\n",
        "result = addNumber(10,20)\n",
        "print(result)\n",
        "\n",
        "\n",
        "\n"
      ],
      "execution_count": null,
      "outputs": []
    },
    {
      "cell_type": "code",
      "metadata": {
        "id": "1-gIq-Rju2i2"
      },
      "source": [
        "# Define a function calls subtractNumber(x, y) that takes in two numbers and returns the difference of the two numbers.\n",
        "\n",
        "def subtractNumber(x, y):\n",
        "  return x-y\n",
        "\n",
        "result = subtractNumber(10,20)\n",
        "\n",
        "print(result)\n"
      ],
      "execution_count": null,
      "outputs": []
    },
    {
      "cell_type": "code",
      "metadata": {
        "id": "kiAE0iLbviG9"
      },
      "source": [
        "# Write a function getBiggerNumber(x, y) that takes in two numbers as arguments and returns the bigger number.\n",
        "\n",
        "def getBiggerNumber(x, y):\n",
        "  if x>=y:\n",
        "    return x\n",
        "  else:\n",
        "    return y\n",
        "\n",
        "max = getBiggerNumber(10, 20)\n",
        "print(max)\n"
      ],
      "execution_count": null,
      "outputs": []
    },
    {
      "cell_type": "code",
      "metadata": {
        "id": "10B5oVcZh16d"
      },
      "source": [
        "# Python provides many built-in modules with many useful functions. \n",
        "# One such module is the math module. The math module provides many useful functions such as sqrt(x), pow(x, y), ceil(x), floor(x) etc. \n",
        "# You will need to do a \"import math\" before you are allowed to use the functions within the math module.\n",
        "\n",
        "\n",
        "import math\n",
        "\n",
        "# Calculate the square root of 16 and stores it in the variable a\n",
        "a = math.sqrt(16)\n",
        "\n",
        "# Calculate 3 to the power of 5 and stores it in the variable b\n",
        "b = math.pow(3, 5)\n",
        "\n",
        "# Calculate area of circle with radius = 3.0 by making use of the math.pi constant and store it in the variable c\n",
        "c = math.pi * math.pow(3, 2)\n",
        "\n"
      ],
      "execution_count": null,
      "outputs": []
    },
    {
      "cell_type": "code",
      "metadata": {
        "id": "Yado0B99h2E_"
      },
      "source": [
        "# Write a function to convert temperature from Celsius to Fahrenheit scale.\n",
        "# oC to oF Conversion: Multipy by 9, then divide by 5, then add 32.\n",
        "\n",
        "def celciusToFahrenheit(c):\n",
        "  return (c*9/5)+32\n",
        "\n",
        "celcius = eval(input(\"Enter temperature in celcius:- \"))\n",
        "fahrenheit = celciusToFahrenheit(celcius)\n",
        "\n",
        "print(\"Output:- \",fahrenheit)\n",
        "# Note: Return a string of 2 decimal places.\n",
        "# In - Cel2Fah(28.0)\n",
        "# Out - '82.40'\n",
        "# In - Cel2Fah(0.00)\n",
        "# Out - '32.00'"
      ],
      "execution_count": null,
      "outputs": []
    },
    {
      "cell_type": "code",
      "metadata": {
        "id": "n7lsFol9h2ID"
      },
      "source": [
        "# Write a function to compute the BMI of a person.\n",
        "#     BMI = weight(kg)  /  ( height(m)*height(m) )\n",
        "\n",
        "def BMI(height, weight):\n",
        "  return weight/(height*height)\n",
        "\n",
        "weight = eval(input(\"Enter weight in kg(s):- \"))\n",
        "height = eval(input(\"Enter height in metre(s):- \"))\n",
        "\n",
        "result = BMI(height, weight)\n",
        "print(result)\n",
        "# Note: Return a string of 1 decimal place.\n",
        "# In - BMI(63, 1.7)\n",
        "# Out - '21.8'\n",
        "# In - BMI(110, 2)\n",
        "# Out - '27.5'\n",
        "\n"
      ],
      "execution_count": null,
      "outputs": []
    },
    {
      "cell_type": "code",
      "metadata": {
        "id": "f2tV1AU8h2LN"
      },
      "source": [
        "# Write a function percent(value, total) that takes in two numbers as arguments, and returns the percentage value as an integer.\n",
        "# In - percent(46, 90)\n",
        "# Out - 51\n",
        "# In - percent(51, 51)\n",
        "# Out - 100\n",
        "# In - percent(63, 12)\n",
        "# Out - 525\n",
        "\n",
        "import math\n",
        "\n",
        "def percent(value, total):\n",
        "  return value/total*100\n",
        "\n",
        "value = eval(input(\"Value:- \"))\n",
        "total = eval(input(\"Total:- \"))\n",
        "\n",
        "result = percent(value, total)\n",
        "print(\"Output:- \", math.floor(result))\n",
        "\n"
      ],
      "execution_count": null,
      "outputs": []
    },
    {
      "cell_type": "code",
      "metadata": {
        "id": "QyoWR3dQh2OZ"
      },
      "source": [
        "# Write a function to compute the hypotenuse given sides a and b of the triangle.\n",
        "# Hint: You can use math.sqrt(x) to compute the square root of x.\n",
        "# In - hypotenuse(3, 4)\n",
        "# Out - 5\n",
        "# In - hypotenuse(5, 12)\n",
        "# Out - 13\n",
        "\n",
        "import math\n",
        "\n",
        "def hypotenuse(x, y):\n",
        "  return math.sqrt((math.pow(x,2)+math.pow(y,2)))\n",
        "\n",
        "x = eval(input(\"Enter x:- \"))\n",
        "y = eval(input(\"Enter y:- \"))\n",
        "\n",
        "hyp = hypotenuse(x, y)\n",
        "print(hyp)\n"
      ],
      "execution_count": null,
      "outputs": []
    },
    {
      "cell_type": "code",
      "metadata": {
        "id": "XthPUigkh2Ro",
        "colab": {
          "base_uri": "https://localhost:8080/"
        },
        "outputId": "2df2453f-4b4d-41dc-c0f6-4658fd5c3969"
      },
      "source": [
        "# Write a function getSumOfLastDigits() that takes in a list of positive numbers and returns the sum of all the last digits in the list.\n",
        "# getSumOfLastDigits([2, 3, 4])\n",
        "# 9\n",
        "# getSumOfLastDigits([1, 23, 456])\n",
        "# 10\n",
        "\n",
        "def getSumOfLastDigits(list_inp):\n",
        "  sum = 0\n",
        "  for i in list_inp:\n",
        "    str_i = str(i)\n",
        "    last_num = int(str_i[-1])\n",
        "    sum+=last_num\n",
        "  return sum\n",
        "\n",
        "list_inp = eval(input(\"Enter list of integers:- \"))\n",
        "\n",
        "result = getSumOfLastDigits(list_inp)\n",
        "print(\"Output:- \", result)"
      ],
      "execution_count": null,
      "outputs": [
        {
          "output_type": "stream",
          "name": "stdout",
          "text": [
            "Enter list of integers:- [1, 23, 456]\n",
            "Output:-  10\n"
          ]
        }
      ]
    },
    {
      "cell_type": "code",
      "metadata": {
        "id": "T-uIqm9Mh2Un",
        "colab": {
          "base_uri": "https://localhost:8080/"
        },
        "outputId": "12e21fa5-5508-485f-eeab-ab27bcd9104b"
      },
      "source": [
        "# Write a function that uses a default value.\n",
        "# In - introduce('Lim', 20)\n",
        "# Out - 'My name is Lim. I am 20 years old.'\n",
        "# In - introduce('Ahmad')\n",
        "# Out - 'My name is Ahmad. My age is secret.'\n",
        "\n",
        "def introduce(name, age=None):\n",
        "  print(f\"My name is {name}.\", end=' ')\n",
        "  if age==None:\n",
        "    print(f\"My age is secret\")\n",
        "  else:\n",
        "    print(f\"I'm {age} years old\")\n",
        "\n",
        "introduce('Ahmad')\n",
        "introduce('Lim', 20)\n",
        "\n"
      ],
      "execution_count": null,
      "outputs": [
        {
          "output_type": "stream",
          "name": "stdout",
          "text": [
            "My name is Ahmad. My age is secret\n",
            "My name is Lim. I'm 20 years old\n"
          ]
        }
      ]
    },
    {
      "cell_type": "code",
      "metadata": {
        "id": "h0pXo5vH6wA-",
        "colab": {
          "base_uri": "https://localhost:8080/"
        },
        "outputId": "55f2c52a-b0c2-4a30-e8ac-02df5738af64"
      },
      "source": [
        "# Write a function isEquilateral(x, y, z) that accepts the 3 sides of a triangle as arguments. \n",
        "# The program should return True if it is an equilateral triangle.\n",
        "\n",
        "def isEquilateral(s1, s2, s3):\n",
        "  if s1==s2 and s2==s3 and s1>=0 and s2>=0 and s3>=0: \n",
        "    return True\n",
        "  else:\n",
        "    return False\n",
        "\n",
        "s1 = int(input(\"Enter side 1: \"))\n",
        "s2 = int(input(\"Enter side 2: \"))\n",
        "s3 = int(input(\"Enter side 3: \"))\n",
        "\n",
        "print(\"Equilateral: \", isEquilateral(s1, s2, s3))\n",
        "\n",
        "# In - isEquilateral(2, 4, 3)\n",
        "# False - False\n",
        "# In - isEquilateral(3, 3, 3)\n",
        "# Out - True\n",
        "# In - isEquilateral(-3, -3, -3)\n",
        "# Out - False"
      ],
      "execution_count": null,
      "outputs": [
        {
          "output_type": "stream",
          "name": "stdout",
          "text": [
            "Enter side 1: 3\n",
            "Enter side 2: 3\n",
            "Enter side 3: 3\n",
            "Equilateral:  True\n"
          ]
        }
      ]
    },
    {
      "cell_type": "code",
      "metadata": {
        "id": "3NvcKCkn6wFy",
        "colab": {
          "base_uri": "https://localhost:8080/"
        },
        "outputId": "980367c3-9186-4a7a-b6dc-5a70fb828f9f"
      },
      "source": [
        "3# For a quadratic equation in the form of ax2+bx+c, the discriminant, D is b2-4ac. Write a function to compute the discriminant, D.\n",
        "# In - quadratic(1, 2, 3)\n",
        "# Out - 'The discriminant is -8.'\n",
        "# In - quadratic(1, 3, 2)\n",
        "# Out - 'The discriminant is 1.'\n",
        "# In - quadratic(1, 4, 4)\n",
        "# Out - 'The discriminant is 0.'\n",
        "import math\n",
        "\n",
        "def quadratic(a, b, c):\n",
        "  return math.pow(b,2)-4*a*c\n",
        "\n",
        "a = int(input(\"Enter a: \"))\n",
        "b = int(input(\"Enter b: \"))\n",
        "c = int(input(\"Enter c: \"))\n",
        "\n",
        "print(\"Output: \", quadratic(a, b, c))\n",
        "\n",
        "\n"
      ],
      "execution_count": null,
      "outputs": [
        {
          "output_type": "stream",
          "name": "stdout",
          "text": [
            "Enter a: 1\n",
            "Enter b: 3\n",
            "Enter c: 2\n",
            "Output:-  1.0\n"
          ]
        }
      ]
    },
    {
      "cell_type": "code",
      "metadata": {
        "id": "ihmuttBS6wJQ",
        "colab": {
          "base_uri": "https://localhost:8080/"
        },
        "outputId": "b7df6b54-00f3-4e66-d425-c621d25e5088"
      },
      "source": [
        "# Define a function calls addFirstAndLast(x) that takes in a list of numbers and returns the sum of the first and last numbers.\n",
        "# In - addFirstAndLast([])\n",
        "# Out - 0\n",
        "# In - addFirstAndLast([2, 7, 3])\n",
        "# Out - 5\n",
        "# In - addFirstAndLast([10])\n",
        "# Out - 10\n",
        "\n",
        "def addFirstAndLast(lst):\n",
        "  if len(lst) == 1:\n",
        "    return lst[0]\n",
        "  elif lst:\n",
        "    return lst[0] + lst[-1]\n",
        "  else:\n",
        "    return 'List is empty'\n",
        "\n",
        "addFirstAndLast([2,7,3])"
      ],
      "execution_count": null,
      "outputs": [
        {
          "output_type": "execute_result",
          "data": {
            "text/plain": [
              "5"
            ]
          },
          "metadata": {},
          "execution_count": 18
        }
      ]
    },
    {
      "cell_type": "code",
      "metadata": {
        "id": "lEt9HNPI6wM0",
        "colab": {
          "base_uri": "https://localhost:8080/"
        },
        "outputId": "6e058e95-199c-4038-fa08-e51a0e6e8363"
      },
      "source": [
        "# Complete the 'lambda' expression so that it returns True if the argument is an even number, and False otherwise.\n",
        "\n",
        "(lambda num : True if num%2 == 0 else False)(6)"
      ],
      "execution_count": null,
      "outputs": [
        {
          "output_type": "execute_result",
          "data": {
            "text/plain": [
              "True"
            ]
          },
          "metadata": {},
          "execution_count": 19
        }
      ]
    },
    {
      "cell_type": "code",
      "metadata": {
        "id": "JYWSZXPg6wQN",
        "colab": {
          "base_uri": "https://localhost:8080/",
          "height": 35
        },
        "outputId": "8a0c77fb-decc-4927-e133-1e86cf7d11d8"
      },
      "source": [
        "# getScore.__doc__\n",
        "# 'A function that computes and returns the final score.'\n",
        "\n",
        "def getScore():\n",
        "  ''''A function that computes and returns the final score.'''\n",
        "  pass\n",
        "getScore.__doc__"
      ],
      "execution_count": null,
      "outputs": [
        {
          "output_type": "execute_result",
          "data": {
            "application/vnd.google.colaboratory.intrinsic+json": {
              "type": "string"
            },
            "text/plain": [
              "\"'A function that computes and returns the final score.\""
            ]
          },
          "metadata": {},
          "execution_count": 20
        }
      ]
    },
    {
      "cell_type": "code",
      "metadata": {
        "id": "zmi81hi76wTK",
        "colab": {
          "base_uri": "https://localhost:8080/"
        },
        "outputId": "3542fbcc-c498-4681-f5db-5e983b2ef211"
      },
      "source": [
        "# In Python, it is possible to pass a function as a argument to another function. \n",
        "# Write a function useFunction(func, num) that takes in a function and a number as arguments. \n",
        "# The useFunction should produce the output shown in the examples given below.\n",
        "\n",
        "# def addOne(x):\n",
        "#   return x + 1\n",
        "# useFunction(addOne, 4)\n",
        "# 25\n",
        "# useFunction(addOne, 9)\n",
        "# 100\n",
        "# useFunction(addOne, 0)\n",
        "# 1\n",
        "\n",
        "\n",
        "def addOne(x):\n",
        "  return x + 1\n",
        "\n",
        "def useFunction(addOne, n):\n",
        "  print(addOne(n)**2)\n",
        "\n",
        "useFunction(addOne, 4)\n",
        "\n",
        "\n"
      ],
      "execution_count": null,
      "outputs": [
        {
          "output_type": "stream",
          "name": "stdout",
          "text": [
            "25\n"
          ]
        }
      ]
    },
    {
      "cell_type": "code",
      "metadata": {
        "id": "JJm1zFMX6wWK"
      },
      "source": [
        "# def f1():\n",
        "#   print('This is f1 function')\n",
        "#   f1()\n",
        "# f1()"
      ],
      "execution_count": null,
      "outputs": []
    },
    {
      "cell_type": "code",
      "metadata": {
        "id": "PBvBwg0O6waD",
        "colab": {
          "base_uri": "https://localhost:8080/",
          "height": 34
        },
        "outputId": "57768b69-c749-4d88-be06-7a9d41a98de2"
      },
      "source": [
        "print('\\\\t')"
      ],
      "execution_count": null,
      "outputs": [
        {
          "output_type": "stream",
          "text": [
            "\\t\n"
          ],
          "name": "stdout"
        }
      ]
    }
  ]
}