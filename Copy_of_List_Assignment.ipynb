{
  "nbformat": 4,
  "nbformat_minor": 0,
  "metadata": {
    "colab": {
      "name": "Copy of List_Assignment.ipynb",
      "provenance": [],
      "collapsed_sections": []
    },
    "kernelspec": {
      "name": "python3",
      "display_name": "Python 3"
    }
  },
  "cells": [
    {
      "cell_type": "code",
      "metadata": {
        "id": "gtlAv2oq9yzd",
        "colab": {
          "base_uri": "https://localhost:8080/"
        },
        "outputId": "eb3a0ce5-05b1-4c24-fa59-04856b0232d9"
      },
      "source": [
        "#Write a Python program to find the sum of all elements in a list using loop.\n",
        "#Input:- [10,20,30,40]\n",
        "#Output:- 100\n",
        "\n",
        "list_num = eval(input(\"Input a list:- \"))\n",
        "sum = 0\n",
        "\n",
        "for num in list_num:\n",
        "  sum+=num\n",
        "\n",
        "print(\"Output:-\",sum)\n",
        "\n",
        "\n",
        "\n"
      ],
      "execution_count": null,
      "outputs": [
        {
          "output_type": "stream",
          "name": "stdout",
          "text": [
            "Input a list:- [1,2,3]\n",
            "Output:- 6\n"
          ]
        }
      ]
    },
    {
      "cell_type": "code",
      "metadata": {
        "id": "gTbA8psa93Y_",
        "colab": {
          "base_uri": "https://localhost:8080/"
        },
        "outputId": "51b2baf0-f81f-4875-80bf-e5b9b8b2cf2d"
      },
      "source": [
        "#Write a Python program to find the multiplication of all elements in a list using loop.\n",
        "#Input:- [10,20,30,40]\n",
        "#Output:- 240000\n",
        "\n",
        "list_num = eval(input(\"Input a list:- \"))\n",
        "product = 1\n",
        "\n",
        "for num in list_num:\n",
        "  product*=num\n",
        "\n",
        "print(\"Output:-\",product)\n",
        "\n",
        "\n"
      ],
      "execution_count": null,
      "outputs": [
        {
          "output_type": "stream",
          "name": "stdout",
          "text": [
            "Input a list:- [10,20,30,40]\n",
            "Output:- 240000\n"
          ]
        }
      ]
    },
    {
      "cell_type": "code",
      "metadata": {
        "id": "XBCrEtLN94Lj",
        "colab": {
          "base_uri": "https://localhost:8080/"
        },
        "outputId": "b0dd31f6-10ec-41cd-9797-1013b6dff963"
      },
      "source": [
        "#Write a Python program to find the largest number from a list using loop.\n",
        "#Input:- [10,100,2321, 1,200,2]\n",
        "#Output:- 2321\n",
        "\n",
        "list_num = eval(input(\"Input a list:- \"))\n",
        "largest = list_num[0]\n",
        "\n",
        "for num in list_num:\n",
        "  if num> largest:\n",
        "    largest = num\n",
        "\n",
        "print(\"Output:-\",largest)\n",
        "\n",
        "\n"
      ],
      "execution_count": null,
      "outputs": [
        {
          "output_type": "stream",
          "name": "stdout",
          "text": [
            "Input a list:- [10,100,2321, 1,200,2]\n",
            "Output:- 2321\n"
          ]
        }
      ]
    },
    {
      "cell_type": "code",
      "metadata": {
        "id": "l3paUtbH94Vw",
        "colab": {
          "base_uri": "https://localhost:8080/"
        },
        "outputId": "5b7721d0-101e-449b-fe1a-327ce671c480"
      },
      "source": [
        "#Write a Python program to find the smallest number from a list using loop.\n",
        "#Input:- [10,100,2321, 1,200,2]\n",
        "#Output:- 1\n",
        "\n",
        "list_num = eval(input(\"Input a list:- \"))\n",
        "smallest = list_num[0]\n",
        "\n",
        "for num in list_num:\n",
        "  if num< smallest:\n",
        "    smallest = num\n",
        "\n",
        "print(\"Output:-\",smallest)\n",
        "\n",
        "\n"
      ],
      "execution_count": null,
      "outputs": [
        {
          "output_type": "stream",
          "name": "stdout",
          "text": [
            "Input a list:- [10,100,2321, 1,200,2]\n",
            "Output:- 1\n"
          ]
        }
      ]
    },
    {
      "cell_type": "code",
      "metadata": {
        "id": "JTVgy5VD94cE",
        "colab": {
          "base_uri": "https://localhost:8080/"
        },
        "outputId": "df749fc1-3bf5-4947-bb2e-1701ab13e76e"
      },
      "source": [
        "#Write a Python program to count the number of strings having length more than 2 and are palindrome in a list using l0oop.\n",
        "#Input:- ['ab', 'abc', 'aba', 'xyz', '1991']\n",
        "#Output:- 2\n",
        "\n",
        "inp_str = eval(input(\"Input a list:- \"))\n",
        "count = 0\n",
        "\n",
        "for str in inp_str:\n",
        "  if len(str)>2:\n",
        "    if str == str[::-1]:\n",
        "      count+=1\n",
        "\n",
        "print(\"Output:-\", count)\n"
      ],
      "execution_count": null,
      "outputs": [
        {
          "output_type": "stream",
          "name": "stdout",
          "text": [
            "Input a list:- ['ab', 'abc', 'aba', 'xyz', '1991']\n",
            "Output:- 2\n"
          ]
        }
      ]
    },
    {
      "cell_type": "code",
      "metadata": {
        "id": "xs-ZGJbJ94gr",
        "colab": {
          "base_uri": "https://localhost:8080/"
        },
        "outputId": "d4966d5d-abb3-421a-e2d6-75d3f8baf86b"
      },
      "source": [
        "#Write a Python program to sort a list in ascending order using loop.\n",
        "#Input:- ]\n",
        "#Output:- [1,2,9,10,65,80,100,298,483,9213,49876]\n",
        "\n",
        "list_num = eval(input(\"Input a list:- \"))\n",
        "\n",
        "for i in range(0,len(list_num)):\n",
        "  for j in range(0, len(list_num)-i-1):\n",
        "    if list_num[j]>=list_num[j+1]:\n",
        "      temp = list_num[j]\n",
        "      list_num[j] = list_num[j+1]\n",
        "      list_num[j+1] = temp\n",
        "\n",
        "\n",
        "print(\"Output:-\",list_num)"
      ],
      "execution_count": null,
      "outputs": [
        {
          "output_type": "stream",
          "name": "stdout",
          "text": [
            "Input a list:- [100,10,1,298,65,483,49876,2,80,9,9213]\n",
            "[1, 2, 9, 10, 65, 80, 100, 298, 483, 9213, 49876]\n"
          ]
        }
      ]
    },
    {
      "cell_type": "code",
      "metadata": {
        "id": "VhKQJizZ94kg",
        "colab": {
          "base_uri": "https://localhost:8080/"
        },
        "outputId": "73fa498a-bfe4-42ff-9f5c-03ddd8bdbce3"
      },
      "source": [
        "#Write a Python program to get a sorted list in increasing order of last element in each tuple in a given list using loop.\n",
        "#Input:- [(5,4),(9,1),(2,3),(5,9),(7,6),(5,5)]\n",
        "#output:- [(9,1),(2,3),(5,4),(5,5),(7,6),(5,9)]\n",
        "\n",
        "list_tuple = eval(input(\"Input a list:- \"))\n",
        "\n",
        "for i in range(0,len(list_tuple)):\n",
        "  for j in range(0, len(list_tuple)-i-1):\n",
        "    if list_tuple[j][1]>=list_tuple[j+1][1]:\n",
        "      temp = list_tuple[j]\n",
        "      list_tuple[j] = list_tuple[j+1]\n",
        "      list_tuple[j+1] = temp\n",
        "\n",
        "print(\"Output:-\", list_tuple)\n",
        "\n",
        "\n"
      ],
      "execution_count": null,
      "outputs": [
        {
          "output_type": "stream",
          "name": "stdout",
          "text": [
            "Input a list:- [(5,4),(9,1),(2,3),(5,9),(7,6),(5,5)]\n",
            "Output:- [(9, 1), (2, 3), (5, 4), (5, 5), (7, 6), (5, 9)]\n"
          ]
        }
      ]
    },
    {
      "cell_type": "code",
      "metadata": {
        "id": "YJrCLYp694n_",
        "colab": {
          "base_uri": "https://localhost:8080/"
        },
        "outputId": "194821ce-f5ba-44d8-a78a-24b578298946"
      },
      "source": [
        "#Write a Python program to remove duplicate element from a list using loop.\n",
        "#Input:- [10,1,11,1,29,876,768,10,11,1,92,29,876]\n",
        "#Output:- [10,1,11,29,876,768,92]\n",
        "\n",
        "list_num = eval(input(\"Input a list:- \"))\n",
        "new_list = []\n",
        "for i in range(0, len(list_num)):\n",
        "  found =False\n",
        "  for j in range(i+1, len(list_num)):\n",
        "    if list_num[i]==list_num[j]:\n",
        "      found = True\n",
        "  if found==False:\n",
        "    new_list.append(list_num[i])\n",
        "    \n",
        "\n",
        "print(\"Output:-\",new_list)\n",
        "\n"
      ],
      "execution_count": 2,
      "outputs": [
        {
          "output_type": "stream",
          "name": "stdout",
          "text": [
            "Input a list:- [10,10,1,1,2,3,2,1,10,3]\n",
            "Output:- [2, 1, 10, 3]\n"
          ]
        }
      ]
    },
    {
      "cell_type": "code",
      "metadata": {
        "id": "koYe4YCu94rh",
        "colab": {
          "base_uri": "https://localhost:8080/"
        },
        "outputId": "4f8548a7-5d07-437a-a554-8c31fbb64864"
      },
      "source": [
        "#Write a Python program to check a list is empty or not?\n",
        "#Input:- []\n",
        "#Output:- List is empty\n",
        "#Input:- [10,20,30]\n",
        "#Output:- List is not empty\n",
        "\n",
        "list_num = eval(input(\"Input a list:- \"))\n",
        "\n",
        "if len(list_num)==0:\n",
        "  print(\"List is empty\")\n",
        "else:\n",
        "  print(\"List is not empty\")\n"
      ],
      "execution_count": 7,
      "outputs": [
        {
          "output_type": "stream",
          "name": "stdout",
          "text": [
            "Input a list:- []\n",
            "List is empty\n"
          ]
        }
      ]
    },
    {
      "cell_type": "code",
      "metadata": {
        "id": "mES1WANa94u5",
        "colab": {
          "base_uri": "https://localhost:8080/"
        },
        "outputId": "84328010-c506-4fc4-bcc0-6ec01814c8c8"
      },
      "source": [
        "#Write a Python program to copy a list using loop.\n",
        "#inp_lst = [10,10.20,10+20j, 'Python', [10,20], (10,20)]\n",
        "#out_lst = [10,10.20,10+20j, 'Python', [10,20], (10,20)]\n",
        "\n",
        "list_inp = eval(input(\"inp_lst = \"))\n",
        "new_list = []\n",
        "for i in range(0, len(list_inp)):\n",
        "  new_list.append(list_inp[i])\n",
        "    \n",
        "\n",
        "print(\"out_lst = \",new_list)\n",
        "\n",
        "\n",
        "\n"
      ],
      "execution_count": 4,
      "outputs": [
        {
          "output_type": "stream",
          "name": "stdout",
          "text": [
            "inp_lst = [10,10.20,10+20j, 'Python', [10,20], (10,20)]\n",
            "out_lst =  [10, 10.2, (10+20j), 'Python', [10, 20], (10, 20)]\n"
          ]
        }
      ]
    },
    {
      "cell_type": "code",
      "metadata": {
        "id": "CpBh31WO94yi",
        "colab": {
          "base_uri": "https://localhost:8080/"
        },
        "outputId": "a938fd76-956f-46da-b047-83ccc91449dc"
      },
      "source": [
        "#Write a Python program to find the list of words that are longer than or equal to 4 from a given string.\n",
        "#Input:- 'How much wood would a woodchuck chuck if a woodchuck could chuck wood'\n",
        "#Output:- ['much', 'wood', 'would', 'woodchuck', 'chuck', 'could']\n",
        "#Note:- Duplicate should be avoided.\n",
        "\n",
        "def removeDuplicates(list_inp):\n",
        "  new_list = []\n",
        "  for i in range(0, len(list_inp)):\n",
        "    found =False\n",
        "    for j in range(i+1, len(list_inp)):\n",
        "      if list_inp[i]==list_inp[j]:\n",
        "        found = True\n",
        "    if found==False:\n",
        "      new_list.append(list_inp[i])\n",
        "  return new_list\n",
        "  \n",
        "input_str = eval(input(\"Input:- \"))\n",
        "\n",
        "list_inp = input_str.split(' ')\n",
        "\n",
        "new_list = removeDuplicates(list_inp)\n",
        "output = []\n",
        "for str1 in new_list:\n",
        "  if len(str1)>=4:\n",
        "    output.append(str1)\n",
        "  \n",
        "print(\"Output:- \", output)\n",
        "    \n",
        "\n"
      ],
      "execution_count": 8,
      "outputs": [
        {
          "output_type": "stream",
          "name": "stdout",
          "text": [
            "Input:- 'How much wood would a woodchuck chuck if a woodchuck could chuck wood'\n",
            "Output:-  ['much', 'would', 'woodchuck', 'could', 'chuck', 'wood']\n"
          ]
        }
      ]
    },
    {
      "cell_type": "code",
      "metadata": {
        "id": "YVfj0fgZ9416",
        "colab": {
          "base_uri": "https://localhost:8080/"
        },
        "outputId": "e8416d8a-3e99-412a-82b6-234d22281390"
      },
      "source": [
        "#Write a Python program which takes two list as input and returns True if they have at least 3 common elements.\n",
        "#inp_lst1 = [10,20,'Python', 10.20, 10+20j, [10,20,30], (10,20,30)]\n",
        "#inp_lst2 = [(10,20,30),1,20+3j,100.2, 10+20j, [10,20,30],'Python']\n",
        "#Output:- True\n",
        "list_inp1 = eval(input(\"inp_lst1 = \"))\n",
        "list_inp2 = eval(input(\"inp_lst2 = \"))\n",
        "\n",
        "#Determinin which is biggest and smallest list to ensure minimum loops traversal\n",
        "smallest_list = list_inp1\n",
        "biggest_list = list_inp2\n",
        "\n",
        "if len(list_inp1)>=len(list_inp2):\n",
        "  smallest_list = list_inp2\n",
        "  biggest_list = list_inp1\n",
        "\n",
        "count = 0\n",
        "for i in smallest_list:\n",
        "  if i in biggest_list:\n",
        "    count+=1\n",
        "\n",
        "if count>=3:\n",
        "  print(\"Output:- \", True)\n",
        "else:\n",
        "  print(\"Output:- \", False)  \n"
      ],
      "execution_count": 12,
      "outputs": [
        {
          "output_type": "stream",
          "name": "stdout",
          "text": [
            "inp_lst1 = [1,2,3]\n",
            "inp_lst2 = [1,2,3]\n",
            "Output:-  True\n"
          ]
        }
      ]
    },
    {
      "cell_type": "code",
      "metadata": {
        "id": "7vwc3pjR945O",
        "colab": {
          "base_uri": "https://localhost:8080/"
        },
        "outputId": "e04fee88-8d75-4ea0-8ba8-4699d29266bd"
      },
      "source": [
        "#Write a Python program to create a 4X4 2D matrix with below elements using loop and list comprehension both.\n",
        "#Output:- [[0,0,0,0],[0,1,2,3],[0,2,4,6],[0,3,6,9]]\n",
        "\n",
        "# Using Loop\n",
        "\n",
        "print(\"Using Loop\")\n",
        "row = []\n",
        "\n",
        "for i in range(0, 4):\n",
        "  col = []\n",
        "  for j in range(0, 4):\n",
        "    col.append(i*j)\n",
        "  row.append(col)\n",
        "print(row)\n",
        "print(\"-----------------------------------------------------------\")\n",
        "\n",
        "print(\"Using comprehension\")\n",
        "\n",
        "output = [[i*j for j in range(0,4)] for i in range(0,4)]\n",
        "print(output)\n",
        "\n",
        "\n",
        "\n"
      ],
      "execution_count": 27,
      "outputs": [
        {
          "output_type": "stream",
          "name": "stdout",
          "text": [
            "Using Loop\n",
            "[[0, 0, 0, 0], [0, 1, 2, 3], [0, 2, 4, 6], [0, 3, 6, 9]]\n",
            "-----------------------------------------------------------\n",
            "Using comprehension\n",
            "[[0, 0, 0, 0], [0, 1, 2, 3], [0, 2, 4, 6], [0, 3, 6, 9]]\n"
          ]
        }
      ]
    },
    {
      "cell_type": "code",
      "metadata": {
        "id": "Pxafor84948b",
        "colab": {
          "base_uri": "https://localhost:8080/"
        },
        "outputId": "a082b4f7-ee43-4413-8d50-f875e932db18"
      },
      "source": [
        "#Write a Python program to create a 3X4X6 3D matrix wiith below elements using loop\n",
        "#Output:- \n",
        "# [\n",
        "#     [[0,0,0,0,0,0],[0,0,0,0,0,0],[0,0,0,0,0,0],[0,0,0,0,0,0]],\n",
        "#     [[0,0,0,0,0,0],[1,1,1,1,1,1],[2,2,2,2,2,2],[3,3,3,3,3,3]],\n",
        "#     [[0,0,0,0,0,0],[2,2,2,2,2,2],[4,4,4,4,4,4],[6,6,6,6,6,6]]\n",
        "# ]\n",
        "\n",
        "\n",
        "outermostList = []\n",
        "\n",
        "for i in range(0,3):\n",
        "  listSurroundingInnermostList = []\n",
        "  for j in range(0,4):\n",
        "    innermostList = []\n",
        "    for k in range(0,6):\n",
        "      innermostList.append(j*i)\n",
        "    listSurroundingInnermostList.append(innermostList)\n",
        "  outermostList.append(listSurroundingInnermostList)\n",
        "\n",
        "print(outermostList)\n",
        "\n",
        "\n",
        "\n"
      ],
      "execution_count": 29,
      "outputs": [
        {
          "output_type": "stream",
          "name": "stdout",
          "text": [
            "[[[0, 0, 0, 0, 0, 0], [0, 0, 0, 0, 0, 0], [0, 0, 0, 0, 0, 0], [0, 0, 0, 0, 0, 0]], [[0, 0, 0, 0, 0, 0], [1, 1, 1, 1, 1, 1], [2, 2, 2, 2, 2, 2], [3, 3, 3, 3, 3, 3]], [[0, 0, 0, 0, 0, 0], [2, 2, 2, 2, 2, 2], [4, 4, 4, 4, 4, 4], [6, 6, 6, 6, 6, 6]]]\n"
          ]
        }
      ]
    },
    {
      "cell_type": "code",
      "metadata": {
        "id": "lYNv8gk794_p",
        "colab": {
          "base_uri": "https://localhost:8080/"
        },
        "outputId": "b2477237-44da-4de4-9f07-06399209cbab"
      },
      "source": [
        "#Write a Python program which takes a list of numbers as input and prints a new list after removing even numbers from it.\n",
        "#Input:- [10,21,22,98,87,45,33,1,2,100]\n",
        "#Output:- [21,87,45,33,1]\n",
        "\n",
        "list_inp = eval(input(\"Input:- \"))\n",
        "new_list = []\n",
        "\n",
        "for i in list_inp:\n",
        "  if i%2!=0:\n",
        "    new_list.append(i)\n",
        "print(\"Output:- \", new_list)\n",
        "\n",
        "#Using comprehension\n",
        "\n",
        "print(\"---------------------------------------------------\")\n",
        "print(\"Using comprehension\")\n",
        "new_list = [i for i in list_inp if i%2!=0]\n",
        "print(new_list)"
      ],
      "execution_count": 3,
      "outputs": [
        {
          "output_type": "stream",
          "name": "stdout",
          "text": [
            "Input:- [10,21,22,98,87,45,33,1,2,100]\n",
            "Output:-  [21, 87, 45, 33, 1]\n",
            "---------------------------------------------------\n",
            "\t\tUsing comprehension\n",
            "[21, 87, 45, 33, 1]\n"
          ]
        }
      ]
    },
    {
      "cell_type": "code",
      "metadata": {
        "id": "3BaCb-rB95B7",
        "colab": {
          "base_uri": "https://localhost:8080/"
        },
        "outputId": "e176ee01-a487-4c18-fe9d-6d1df4088b08"
      },
      "source": [
        "#Write a Python program which takes a list from the user and prints it after reshuffling the elements of the list.\n",
        "#Input:- [10,21,22,98,87,45,33,1,2,100]\n",
        "#Output:- [1,87,21,10,33,2,100,45,98,22] (It may be any randon list but with same elements)\n",
        "\n",
        "import random\n",
        "\n",
        "list_inp = eval(input(\"Enter \"))\n",
        "\n",
        "random_indices = random.sample(range(0, len(list_inp)), len(list_inp))\n",
        "\n",
        "for i in range(0, len(list_inp)):\n",
        "  temp = list_inp[i]\n",
        "  list_inp[i] = list_inp[random_indices[i]]\n",
        "  list_inp[random_indices[i]] = temp\n",
        "\n",
        "print(\"Output:- \", list_inp)"
      ],
      "execution_count": 5,
      "outputs": [
        {
          "output_type": "stream",
          "name": "stdout",
          "text": [
            "Enter [10,21,22,98,87,45,33,1,2,100]\n",
            "Output:-  [21, 98, 100, 87, 33, 2, 45, 22, 10, 1]\n"
          ]
        }
      ]
    },
    {
      "cell_type": "code",
      "metadata": {
        "id": "VIEljI6ooiar"
      },
      "source": [
        ""
      ],
      "execution_count": null,
      "outputs": []
    }
  ]
}