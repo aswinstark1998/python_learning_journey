{
 "cells": [
  {
   "cell_type": "code",
   "execution_count": null,
   "metadata": {},
   "outputs": [],
   "source": [
    "covered till date\n",
    "\n",
    "1. Data types\n",
    "2. integer and properties\n",
    "3. float and properties\n",
    "4. Boolean and properties\n",
    "5. complex and properties\n",
    "6. String and properties with methods\n",
    "7. list and properties and methods\n",
    "\n",
    "11 and 12 sep\n",
    "\n",
    "11 . \n",
    "Shallow and deep copy in list - done\n",
    "for loop -\n",
    "list comphresion\n",
    "\n",
    "\n",
    "12\n",
    "tuple\n",
    "try to solve problems\n",
    "dict"
   ]
  },
  {
   "cell_type": "markdown",
   "metadata": {},
   "source": [
    "# shallow and Deep copy"
   ]
  },
  {
   "cell_type": "code",
   "execution_count": 1,
   "metadata": {},
   "outputs": [
    {
     "name": "stdout",
     "output_type": "stream",
     "text": [
      "140474706279040\n",
      "140474706287232\n"
     ]
    }
   ],
   "source": [
    "a = [1,2,3,4,5]\n",
    "b = [1,2,3,4,5]\n",
    "\n",
    "print(id(a))\n",
    "print(id(b))"
   ]
  },
  {
   "cell_type": "code",
   "execution_count": 4,
   "metadata": {},
   "outputs": [
    {
     "name": "stdout",
     "output_type": "stream",
     "text": [
      "[1, 2, 3, 4, 5] 140474706442496\n",
      "[1, 2, 3, 4, 5] 140474706442496\n",
      "[400, 2, 3, 4, 5] 140474706442496\n",
      "[400, 2, 3, 4, 5] 140474706442496\n"
     ]
    }
   ],
   "source": [
    "# lets no try this\n",
    "\n",
    "a = [1,2,3,4,5]\n",
    "b = a  # aliasing\n",
    "\n",
    "print(a, id(a))\n",
    "print(b, id(b))\n",
    "\n",
    "b[0] = 400\n",
    "\n",
    "print(a, id(a))\n",
    "print(b, id(b))"
   ]
  },
  {
   "cell_type": "markdown",
   "metadata": {},
   "source": [
    "#### to overcome the above probelm we have something called as SHallow copy"
   ]
  },
  {
   "cell_type": "code",
   "execution_count": 7,
   "metadata": {},
   "outputs": [
    {
     "name": "stdout",
     "output_type": "stream",
     "text": [
      "[1, 2, 3, 4, 5] 140474697632192\n",
      "[1, 2, 3, 4, 5] 140474793074496\n",
      "[1, 2, 3, 4, 5] 140474697632192\n",
      "[400, 2, 3, 4, 5] 140474793074496\n"
     ]
    }
   ],
   "source": [
    "# Shallow copy\n",
    "\n",
    "a = [1,2,3,4,5]\n",
    "b = a.copy()\n",
    "\n",
    "print(a, id(a))\n",
    "print(b, id(b))\n",
    "\n",
    "b[0] = 400\n",
    "\n",
    "print(a, id(a))\n",
    "print(b, id(b))"
   ]
  },
  {
   "cell_type": "code",
   "execution_count": null,
   "metadata": {},
   "outputs": [],
   "source": [
    "a.) both will change\n",
    "b.) a will change and b will be same\n",
    "c.) b will chnage and a will be same - correct\n",
    "d.) bot will remain same"
   ]
  },
  {
   "cell_type": "code",
   "execution_count": null,
   "metadata": {},
   "outputs": [],
   "source": [
    "# aliasing and shallow copy - "
   ]
  },
  {
   "cell_type": "code",
   "execution_count": 9,
   "metadata": {},
   "outputs": [
    {
     "name": "stdout",
     "output_type": "stream",
     "text": [
      "[1, 2, 3, 4, [1, 2, 3]] 140474706499008\n",
      "[1, 2, 3, 4, [1, 2, 3]] 140474706506688\n",
      "[1, 2, 3, 4, [100, 2, 3]] 140474706499008\n",
      "[1, 2, 3, 4, [100, 2, 3]] 140474706506688\n"
     ]
    }
   ],
   "source": [
    "# Problem with shallow- it will not work for nested list\n",
    "\n",
    "a = [1,2,3,4,[1,2,3]]\n",
    "b = a.copy()\n",
    "\n",
    "print(a , id(a))\n",
    "print(b, id(b))\n",
    "\n",
    "b[-1][0] = 100\n",
    "\n",
    "print(a , id(a))\n",
    "print(b, id(b))"
   ]
  },
  {
   "cell_type": "code",
   "execution_count": null,
   "metadata": {},
   "outputs": [],
   "source": [
    "a.) both will change - coorect\n",
    "b.) a will change and b will be same\n",
    "c.) b will chnage and a will be same\n",
    "d.) both will remain same"
   ]
  },
  {
   "cell_type": "code",
   "execution_count": 11,
   "metadata": {},
   "outputs": [
    {
     "name": "stdout",
     "output_type": "stream",
     "text": [
      "[1, 2, 3] 140474697651328\n",
      "[1, 2, 3] 140474706506688\n"
     ]
    }
   ],
   "source": [
    "# Deep copy\n"
   ]
  },
  {
   "cell_type": "code",
   "execution_count": 15,
   "metadata": {},
   "outputs": [
    {
     "name": "stdout",
     "output_type": "stream",
     "text": [
      "[1, 2, 3, 4, [1, 2, 3]] 140474706507968\n",
      "[1, 2, 3, 4, [1, 2, 3]] 140474697611200\n",
      "[1, 2, 3, 4, [1, 2, 3]] 140474706507968\n",
      "[1, 2, 3, 4, [100, 2, 3]] 140474697611200\n"
     ]
    }
   ],
   "source": [
    "from copy import deepcopy\n",
    "\n",
    "a = [1,2,3,4,[1,2,3]]\n",
    "b = deepcopy(a)\n",
    "\n",
    "print(a , id(a))\n",
    "print(b, id(b))\n",
    "\n",
    "b[-1][0] = 100\n",
    "\n",
    "print(a , id(a))\n",
    "print(b, id(b))"
   ]
  },
  {
   "cell_type": "code",
   "execution_count": null,
   "metadata": {},
   "outputs": [],
   "source": [
    "a.) both will change - coorect\n",
    "b.) a will change and b will be same\n",
    "c.) b will chnage and a will be same - correct\n",
    "d.) both will remain same"
   ]
  },
  {
   "cell_type": "code",
   "execution_count": null,
   "metadata": {},
   "outputs": [],
   "source": [
    "1 use case\n",
    "\n",
    "list has email address\n",
    "\n",
    "b = list.copy()"
   ]
  },
  {
   "cell_type": "code",
   "execution_count": null,
   "metadata": {},
   "outputs": [],
   "source": [
    "b = "
   ]
  },
  {
   "cell_type": "code",
   "execution_count": 16,
   "metadata": {},
   "outputs": [],
   "source": [
    "# list of employees\n",
    "\n",
    "a = [['afsaan' , 24 , 2] , ['Dishali' , 24 , 2]]\n",
    "b = a.copy()"
   ]
  },
  {
   "cell_type": "code",
   "execution_count": 18,
   "metadata": {},
   "outputs": [
    {
     "data": {
      "text/plain": [
       "[['mayank', 24, 2], ['Dishali', 24, 2]]"
      ]
     },
     "execution_count": 18,
     "metadata": {},
     "output_type": "execute_result"
    }
   ],
   "source": [
    "b[0][0] = 'mayank'\n",
    "\n",
    "b"
   ]
  },
  {
   "cell_type": "code",
   "execution_count": 19,
   "metadata": {},
   "outputs": [
    {
     "data": {
      "text/plain": [
       "[['mayank', 24, 2], ['Dishali', 24, 2]]"
      ]
     },
     "execution_count": 19,
     "metadata": {},
     "output_type": "execute_result"
    }
   ],
   "source": [
    "a"
   ]
  },
  {
   "cell_type": "code",
   "execution_count": 20,
   "metadata": {},
   "outputs": [],
   "source": [
    "a = [['afsaan' , 24 , 2] , ['Dishali' , 24 , 2]]\n",
    "b = deepcopy(a)"
   ]
  },
  {
   "cell_type": "code",
   "execution_count": 21,
   "metadata": {},
   "outputs": [],
   "source": [
    "b[0][0] = 'mayank'"
   ]
  },
  {
   "cell_type": "code",
   "execution_count": 22,
   "metadata": {},
   "outputs": [
    {
     "data": {
      "text/plain": [
       "[['mayank', 24, 2], ['Dishali', 24, 2]]"
      ]
     },
     "execution_count": 22,
     "metadata": {},
     "output_type": "execute_result"
    }
   ],
   "source": [
    "b"
   ]
  },
  {
   "cell_type": "code",
   "execution_count": 23,
   "metadata": {},
   "outputs": [
    {
     "data": {
      "text/plain": [
       "[['afsaan', 24, 2], ['Dishali', 24, 2]]"
      ]
     },
     "execution_count": 23,
     "metadata": {},
     "output_type": "execute_result"
    }
   ],
   "source": [
    "a"
   ]
  },
  {
   "cell_type": "code",
   "execution_count": 25,
   "metadata": {},
   "outputs": [
    {
     "data": {
      "text/plain": [
       "['ArithmeticError',\n",
       " 'AssertionError',\n",
       " 'AttributeError',\n",
       " 'BaseException',\n",
       " 'BlockingIOError',\n",
       " 'BrokenPipeError',\n",
       " 'BufferError',\n",
       " 'BytesWarning',\n",
       " 'ChildProcessError',\n",
       " 'ConnectionAbortedError',\n",
       " 'ConnectionError',\n",
       " 'ConnectionRefusedError',\n",
       " 'ConnectionResetError',\n",
       " 'DeprecationWarning',\n",
       " 'EOFError',\n",
       " 'Ellipsis',\n",
       " 'EnvironmentError',\n",
       " 'Exception',\n",
       " 'False',\n",
       " 'FileExistsError',\n",
       " 'FileNotFoundError',\n",
       " 'FloatingPointError',\n",
       " 'FutureWarning',\n",
       " 'GeneratorExit',\n",
       " 'IOError',\n",
       " 'ImportError',\n",
       " 'ImportWarning',\n",
       " 'IndentationError',\n",
       " 'IndexError',\n",
       " 'InterruptedError',\n",
       " 'IsADirectoryError',\n",
       " 'KeyError',\n",
       " 'KeyboardInterrupt',\n",
       " 'LookupError',\n",
       " 'MemoryError',\n",
       " 'ModuleNotFoundError',\n",
       " 'NameError',\n",
       " 'None',\n",
       " 'NotADirectoryError',\n",
       " 'NotImplemented',\n",
       " 'NotImplementedError',\n",
       " 'OSError',\n",
       " 'OverflowError',\n",
       " 'PendingDeprecationWarning',\n",
       " 'PermissionError',\n",
       " 'ProcessLookupError',\n",
       " 'RecursionError',\n",
       " 'ReferenceError',\n",
       " 'ResourceWarning',\n",
       " 'RuntimeError',\n",
       " 'RuntimeWarning',\n",
       " 'StopAsyncIteration',\n",
       " 'StopIteration',\n",
       " 'SyntaxError',\n",
       " 'SyntaxWarning',\n",
       " 'SystemError',\n",
       " 'SystemExit',\n",
       " 'TabError',\n",
       " 'TimeoutError',\n",
       " 'True',\n",
       " 'TypeError',\n",
       " 'UnboundLocalError',\n",
       " 'UnicodeDecodeError',\n",
       " 'UnicodeEncodeError',\n",
       " 'UnicodeError',\n",
       " 'UnicodeTranslateError',\n",
       " 'UnicodeWarning',\n",
       " 'UserWarning',\n",
       " 'ValueError',\n",
       " 'Warning',\n",
       " 'ZeroDivisionError',\n",
       " '__IPYTHON__',\n",
       " '__build_class__',\n",
       " '__debug__',\n",
       " '__doc__',\n",
       " '__import__',\n",
       " '__loader__',\n",
       " '__name__',\n",
       " '__package__',\n",
       " '__spec__',\n",
       " 'abs',\n",
       " 'all',\n",
       " 'any',\n",
       " 'ascii',\n",
       " 'bin',\n",
       " 'bool',\n",
       " 'breakpoint',\n",
       " 'bytearray',\n",
       " 'bytes',\n",
       " 'callable',\n",
       " 'chr',\n",
       " 'classmethod',\n",
       " 'compile',\n",
       " 'complex',\n",
       " 'copyright',\n",
       " 'credits',\n",
       " 'delattr',\n",
       " 'dict',\n",
       " 'dir',\n",
       " 'display',\n",
       " 'divmod',\n",
       " 'enumerate',\n",
       " 'eval',\n",
       " 'exec',\n",
       " 'filter',\n",
       " 'float',\n",
       " 'format',\n",
       " 'frozenset',\n",
       " 'get_ipython',\n",
       " 'getattr',\n",
       " 'globals',\n",
       " 'hasattr',\n",
       " 'hash',\n",
       " 'help',\n",
       " 'hex',\n",
       " 'id',\n",
       " 'input',\n",
       " 'int',\n",
       " 'isinstance',\n",
       " 'issubclass',\n",
       " 'iter',\n",
       " 'len',\n",
       " 'license',\n",
       " 'list',\n",
       " 'locals',\n",
       " 'map',\n",
       " 'max',\n",
       " 'memoryview',\n",
       " 'min',\n",
       " 'next',\n",
       " 'object',\n",
       " 'oct',\n",
       " 'open',\n",
       " 'ord',\n",
       " 'pow',\n",
       " 'print',\n",
       " 'property',\n",
       " 'range',\n",
       " 'repr',\n",
       " 'reversed',\n",
       " 'round',\n",
       " 'set',\n",
       " 'setattr',\n",
       " 'slice',\n",
       " 'sorted',\n",
       " 'staticmethod',\n",
       " 'str',\n",
       " 'sum',\n",
       " 'super',\n",
       " 'tuple',\n",
       " 'type',\n",
       " 'vars',\n",
       " 'zip']"
      ]
     },
     "execution_count": 25,
     "metadata": {},
     "output_type": "execute_result"
    }
   ],
   "source": [
    "dir(__builtin__)"
   ]
  },
  {
   "cell_type": "code",
   "execution_count": 28,
   "metadata": {},
   "outputs": [
    {
     "name": "stdout",
     "output_type": "stream",
     "text": [
      "[1, 2, 3, 4, [1, 2, 3]] 140474793074496\n",
      "[1, 2, 3, 4, [1, 2, 3]] 140474793074496\n"
     ]
    }
   ],
   "source": [
    "a = [1,2,3,4,[1,2,3]]\n",
    "b = a.copy()\n",
    "\n",
    "print(a , id(a[-1]))\n",
    "print(b, id(b[-1]))\n",
    "\n",
    "# b[-1][0] = 100\n",
    "\n",
    "# print(a , id(a))\n",
    "# print(b, id(b))"
   ]
  },
  {
   "cell_type": "code",
   "execution_count": 29,
   "metadata": {},
   "outputs": [
    {
     "name": "stdout",
     "output_type": "stream",
     "text": [
      "[1, 2, 3, 4, [1, 2, 3]] 140474697632192\n",
      "[1, 2, 3, 4, [1, 2, 3]] 140474697610816\n"
     ]
    }
   ],
   "source": [
    "a = [1,2,3,4,[1,2,3]]\n",
    "b = deepcopy(a)\n",
    "\n",
    "print(a , id(a[-1]))\n",
    "print(b, id(b[-1]))"
   ]
  },
  {
   "cell_type": "code",
   "execution_count": null,
   "metadata": {},
   "outputs": [],
   "source": [
    "for loop\n",
    "\n",
    "syntax = \n",
    "\n",
    "for var in iterables:\n",
    "    print(statment1)\n",
    "    stament2\n",
    "    statment3"
   ]
  },
  {
   "cell_type": "code",
   "execution_count": null,
   "metadata": {},
   "outputs": [],
   "source": [
    "iterables - object that we can iterate through are called as iterables\n",
    "\n",
    "tip 1\n",
    "iterables objects are those objects are those objects on which len function will work\n",
    "\n",
    "tip 2\n",
    "when you do dir(object) if you see __iter__ method then it is an iterbale object"
   ]
  },
  {
   "cell_type": "code",
   "execution_count": null,
   "metadata": {},
   "outputs": [],
   "source": [
    "int\n",
    "float\n",
    "complex\n",
    "bool\n",
    "string\n",
    "list\n",
    "tuple\n",
    "dic\n",
    "set"
   ]
  },
  {
   "cell_type": "code",
   "execution_count": 35,
   "metadata": {},
   "outputs": [
    {
     "data": {
      "text/plain": [
       "4"
      ]
     },
     "execution_count": 35,
     "metadata": {},
     "output_type": "execute_result"
    }
   ],
   "source": [
    "# len(1) - not iterable\n",
    "# len(1.2) - not iterable\n",
    "# len(1+6j) - not iterable\n",
    "# len(True) not iterable\n",
    "# len('afsaan') - iterable\n",
    "len([1,2,3,4]) - iterbale"
   ]
  },
  {
   "cell_type": "code",
   "execution_count": 37,
   "metadata": {
    "scrolled": true
   },
   "outputs": [
    {
     "data": {
      "text/plain": [
       "['__add__',\n",
       " '__class__',\n",
       " '__contains__',\n",
       " '__delattr__',\n",
       " '__dir__',\n",
       " '__doc__',\n",
       " '__eq__',\n",
       " '__format__',\n",
       " '__ge__',\n",
       " '__getattribute__',\n",
       " '__getitem__',\n",
       " '__getnewargs__',\n",
       " '__gt__',\n",
       " '__hash__',\n",
       " '__init__',\n",
       " '__init_subclass__',\n",
       " '__iter__',\n",
       " '__le__',\n",
       " '__len__',\n",
       " '__lt__',\n",
       " '__mul__',\n",
       " '__ne__',\n",
       " '__new__',\n",
       " '__reduce__',\n",
       " '__reduce_ex__',\n",
       " '__repr__',\n",
       " '__rmul__',\n",
       " '__setattr__',\n",
       " '__sizeof__',\n",
       " '__str__',\n",
       " '__subclasshook__',\n",
       " 'count',\n",
       " 'index']"
      ]
     },
     "execution_count": 37,
     "metadata": {},
     "output_type": "execute_result"
    }
   ],
   "source": [
    "dir((1,2,3))"
   ]
  },
  {
   "cell_type": "code",
   "execution_count": null,
   "metadata": {},
   "outputs": [],
   "source": [
    "for var in iterables:\n",
    "    statment1\n",
    "    stament2\n",
    "    statment3"
   ]
  },
  {
   "cell_type": "code",
   "execution_count": 38,
   "metadata": {},
   "outputs": [
    {
     "name": "stdout",
     "output_type": "stream",
     "text": [
      "afsaan\n",
      "afsaan\n",
      "afsaan\n",
      "afsaan\n"
     ]
    }
   ],
   "source": [
    "for i in [100,200,300,400]:\n",
    "    print('afsaan')"
   ]
  },
  {
   "cell_type": "code",
   "execution_count": null,
   "metadata": {},
   "outputs": [],
   "source": [
    "# how many times this for lopp will run? 4 (num of elemenst)"
   ]
  },
  {
   "cell_type": "code",
   "execution_count": null,
   "metadata": {},
   "outputs": [],
   "source": [
    "iteration 1  i = 100\n",
    "afsaan\n",
    "\n",
    "iteration 2 i = 200\n",
    "afsaan\n",
    "\n",
    "iteration 3 i = 300\n",
    "afsaan\n",
    "\n",
    "iteration 4 i = 400\n",
    "afsaan\n",
    "\n",
    "iteration 5 i = stop the ietration"
   ]
  },
  {
   "cell_type": "code",
   "execution_count": 39,
   "metadata": {},
   "outputs": [
    {
     "name": "stdout",
     "output_type": "stream",
     "text": [
      "100\n",
      "200\n",
      "300\n",
      "400\n"
     ]
    }
   ],
   "source": [
    "for i in [100,200,300,400]:\n",
    "    print(i)"
   ]
  },
  {
   "cell_type": "code",
   "execution_count": null,
   "metadata": {},
   "outputs": [],
   "source": [
    "iteration 1  i = 100\n",
    "100\n",
    "\n",
    "iteration 2 i = 200\n",
    "200\n",
    "\n",
    "iteration 3 i = 300\n",
    "300\n",
    "\n",
    "iteration 4 i = 400\n",
    "400\n",
    "\n",
    "iteration 5 i = stop the ietration"
   ]
  },
  {
   "cell_type": "code",
   "execution_count": 40,
   "metadata": {},
   "outputs": [
    {
     "name": "stdout",
     "output_type": "stream",
     "text": [
      "001\n",
      "002\n",
      "003\n",
      "004\n"
     ]
    }
   ],
   "source": [
    "for i in ['100','200','300','400']:\n",
    "    print(i[::-1])"
   ]
  },
  {
   "cell_type": "code",
   "execution_count": null,
   "metadata": {},
   "outputs": [],
   "source": [
    "iteration 1  i = '100'\n",
    "'001'\n",
    "\n",
    "iteration 2 i = '200'\n",
    "'002'\n",
    "\n",
    "iteration 3 i = '300'\n",
    "'003'\n",
    "\n",
    "iteration 4 i = '400'\n",
    "'004'\n",
    "\n",
    "iteration 5 i = stop the ietration"
   ]
  },
  {
   "cell_type": "code",
   "execution_count": 42,
   "metadata": {},
   "outputs": [
    {
     "name": "stdout",
     "output_type": "stream",
     "text": [
      "000\n",
      "000\n",
      "000\n",
      "000\n"
     ]
    }
   ],
   "source": [
    "for i in ['100','200','300','400']:\n",
    "    print(i[1]*3)"
   ]
  },
  {
   "cell_type": "code",
   "execution_count": null,
   "metadata": {},
   "outputs": [],
   "source": [
    "iteration 1  i = '100'\n",
    "'0' * 3\n",
    "\n",
    "iteration 2 i = '200'\n",
    "'0' * 3\n",
    "\n",
    "iteration 3 i = '300'\n",
    "'0' * 3\n",
    "\n",
    "iteration 4 i = '400'\n",
    "'0' * 3\n",
    "\n",
    "iteration 5 i = stop the ietration"
   ]
  },
  {
   "cell_type": "code",
   "execution_count": 43,
   "metadata": {},
   "outputs": [
    {
     "name": "stdout",
     "output_type": "stream",
     "text": [
      "100\n",
      "200\n",
      "300\n",
      "400\n"
     ]
    }
   ],
   "source": [
    "for i in ['100@gmail','200@gmail','300@gmail','400@gmail']:\n",
    "    print(i.split('@')[0])"
   ]
  },
  {
   "cell_type": "code",
   "execution_count": null,
   "metadata": {},
   "outputs": [],
   "source": [
    "# question 1\n",
    "\n",
    "you have list = [20,30,40,50,60]\n",
    "generate on new list where in the new list each element is square of list\n",
    "\n",
    "\n",
    "a = [20,30,40,50,60]\n",
    "b = [20*20 , 30*30 , 40*40 , 50*50 , 60*60]\n",
    "\n",
    "tips :\n",
    "1. one method of list\n",
    "2. for loop"
   ]
  },
  {
   "cell_type": "code",
   "execution_count": 45,
   "metadata": {},
   "outputs": [
    {
     "name": "stdout",
     "output_type": "stream",
     "text": [
      "[400, 900, 1600, 2500, 3600]\n"
     ]
    }
   ],
   "source": [
    "a = [20,30,40,50,60]\n",
    "b = []\n",
    "\n",
    "for i in a:\n",
    "    b.append(i*i)\n",
    "    \n",
    "print(b)"
   ]
  },
  {
   "cell_type": "code",
   "execution_count": 46,
   "metadata": {},
   "outputs": [
    {
     "name": "stdout",
     "output_type": "stream",
     "text": [
      "[3, 4, 5, 6, 7]\n"
     ]
    }
   ],
   "source": [
    "# sample output\n",
    "\n",
    "# a = ['20','30','40','50','60']\n",
    "# b = [3,4,5,6,7]\n",
    "\n",
    "\n",
    "a = ['20','30','40','50','60']\n",
    "b = []\n",
    "\n",
    "for i in a:\n",
    "    b.append(int(i[0])+1)\n",
    "    \n",
    "print(b)"
   ]
  },
  {
   "cell_type": "code",
   "execution_count": null,
   "metadata": {},
   "outputs": [],
   "source": [
    "a = ['60','70','80','90','10']\n",
    "b = [7,8,9,10,2]\n",
    "\n",
    "for i in a:\n",
    "    b.append(int(i[0])+1)\n",
    "    \n",
    "print(b)"
   ]
  },
  {
   "cell_type": "code",
   "execution_count": null,
   "metadata": {},
   "outputs": [],
   "source": [
    "# list comphresion\n",
    "\n",
    "syntax = [expression for var in iterable condtion]"
   ]
  },
  {
   "cell_type": "code",
   "execution_count": 48,
   "metadata": {},
   "outputs": [
    {
     "name": "stdout",
     "output_type": "stream",
     "text": [
      "[10, 20, 30, 40, 50]\n"
     ]
    }
   ],
   "source": [
    "a = [1,2,3,4,5]\n",
    "# b = [10,20,30,40,50]\n",
    "\n",
    "b = []\n",
    "\n",
    "for i in a:\n",
    "    b.append(i*10)\n",
    "    \n",
    "print(b)"
   ]
  },
  {
   "cell_type": "code",
   "execution_count": 49,
   "metadata": {},
   "outputs": [
    {
     "name": "stdout",
     "output_type": "stream",
     "text": [
      "[10, 20, 30, 40, 50]\n"
     ]
    }
   ],
   "source": [
    "a = [1,2,3,4,5]\n",
    "\n",
    "b = [i*10 for i in a]\n",
    "\n",
    "print(b)"
   ]
  },
  {
   "cell_type": "code",
   "execution_count": 50,
   "metadata": {},
   "outputs": [
    {
     "name": "stdout",
     "output_type": "stream",
     "text": [
      "[10.0, 20.0, 30.0, 40.0, 50.0]\n"
     ]
    }
   ],
   "source": [
    "a = [100,200,300,400,500]\n",
    "\n",
    "b = []\n",
    "\n",
    "for i in a:\n",
    "    b.append(i/10)\n",
    "    \n",
    "print(b)"
   ]
  },
  {
   "cell_type": "code",
   "execution_count": null,
   "metadata": {},
   "outputs": [],
   "source": [
    "a = [100,200,300,400,500]\n",
    "b = [i/10 for i in a]"
   ]
  },
  {
   "cell_type": "code",
   "execution_count": null,
   "metadata": {},
   "outputs": [],
   "source": [
    "#q1 - solve using list comphresion\n",
    "you have list = [20,30,40,50,60]\n",
    "generate on new list where in the new list each element is square of list\n",
    "\n",
    "\n",
    "a = [20,30,40,50,60]\n",
    "b = [20*20 , 30*30 , 40*40 , 50*50 , 60*60]"
   ]
  },
  {
   "cell_type": "code",
   "execution_count": null,
   "metadata": {},
   "outputs": [],
   "source": [
    "#q2 - solve using list comphresion\n",
    "\n",
    "# sample output\n",
    "\n",
    "# a = ['20','30','40','50','60']\n",
    "# b = [3,4,5,6,7]\n",
    "\n",
    "\n",
    "a = ['20','30','40','50','60']\n",
    "b = []\n",
    "\n",
    "for i in a:\n",
    "    b.append(int(i[0])+1)\n",
    "    \n",
    "print(b)"
   ]
  },
  {
   "cell_type": "code",
   "execution_count": 51,
   "metadata": {},
   "outputs": [
    {
     "name": "stdout",
     "output_type": "stream",
     "text": [
      "[400, 900, 1600, 2500, 3600]\n"
     ]
    }
   ],
   "source": [
    "a=[20,30,40,50,60] \n",
    "b=[i*i for i in a]\n",
    "print(b)"
   ]
  },
  {
   "cell_type": "code",
   "execution_count": 52,
   "metadata": {},
   "outputs": [
    {
     "name": "stdout",
     "output_type": "stream",
     "text": [
      "[3, 4, 5, 6, 7]\n"
     ]
    }
   ],
   "source": [
    "a=['20','30','40','50','60'] \n",
    "b=[int(i[0])+1 for i in a]\n",
    "print(b)"
   ]
  },
  {
   "cell_type": "code",
   "execution_count": 53,
   "metadata": {},
   "outputs": [
    {
     "name": "stdout",
     "output_type": "stream",
     "text": [
      "[2, 4, 6, 8, 10]\n",
      "[1, 3, 5, 7, 9]\n"
     ]
    }
   ],
   "source": [
    "a = [1,2,3,4,5,6,7,8,9,10]\n",
    "# b = [it should contain all even numbers]\n",
    "# c = [it should contain all odd numbers]\n",
    "\n",
    "# using for loop\n",
    "\n",
    "b=[]\n",
    "c=[]\n",
    "\n",
    "for i in a:\n",
    "    if i%2==0:\n",
    "        b.append(i)\n",
    "    else:\n",
    "        c.append(i)\n",
    "        \n",
    "print(b)\n",
    "print(c)"
   ]
  },
  {
   "cell_type": "code",
   "execution_count": null,
   "metadata": {},
   "outputs": [],
   "source": [
    "syntax = [expression for var in iterable condtion]"
   ]
  },
  {
   "cell_type": "code",
   "execution_count": 55,
   "metadata": {},
   "outputs": [
    {
     "name": "stdout",
     "output_type": "stream",
     "text": [
      "[2, 4, 6, 8, 10]\n",
      "[1, 3, 5, 7, 9]\n"
     ]
    }
   ],
   "source": [
    "a = [1,2,3,4,5,6,7,8,9,10]\n",
    "b = [i for i in a if i%2==0 ]\n",
    "c = [i for i in a if i%2!=0 ]\n",
    "print(b)\n",
    "print(c)"
   ]
  },
  {
   "cell_type": "code",
   "execution_count": 57,
   "metadata": {},
   "outputs": [
    {
     "name": "stdout",
     "output_type": "stream",
     "text": [
      "['101', '707', '909', '11011', 'level', 'oho']\n"
     ]
    }
   ],
   "source": [
    "a = ['101' , '204' , '600' , '707' , '909' , '11011' , 'level' , 'ohk' , 'oho']\n",
    "# b = [all the palindrome string should be here]\n",
    "\n",
    "# list comphresion\n",
    "\n",
    "b = [i for i in a if i==i[::-1]] \n",
    "print(b)"
   ]
  },
  {
   "cell_type": "code",
   "execution_count": 58,
   "metadata": {},
   "outputs": [],
   "source": [
    "# extract al the username and store in list\n",
    "a = ['afsaan@gmail.com' , 'akash@email.com' , 'gulab@gmail.com' , 'krishna@yahoo.in' , 'pranali@xyz.in']\n",
    "# b = [this list should contgain only the username]"
   ]
  },
  {
   "cell_type": "code",
   "execution_count": 59,
   "metadata": {},
   "outputs": [
    {
     "name": "stdout",
     "output_type": "stream",
     "text": [
      "['afsaan', 'akash', 'gulab', 'krishna', 'pranali']\n"
     ]
    }
   ],
   "source": [
    "b = [i.split('@')[0] for i in a] \n",
    "print(b) "
   ]
  },
  {
   "cell_type": "code",
   "execution_count": null,
   "metadata": {},
   "outputs": [],
   "source": []
  }
 ],
 "metadata": {
  "kernelspec": {
   "display_name": "Python 3",
   "language": "python",
   "name": "python3"
  },
  "language_info": {
   "codemirror_mode": {
    "name": "ipython",
    "version": 3
   },
   "file_extension": ".py",
   "mimetype": "text/x-python",
   "name": "python",
   "nbconvert_exporter": "python",
   "pygments_lexer": "ipython3",
   "version": "3.8.5"
  }
 },
 "nbformat": 4,
 "nbformat_minor": 4
}
