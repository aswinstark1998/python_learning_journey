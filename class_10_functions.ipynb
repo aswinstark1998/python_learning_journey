{
 "cells": [
  {
   "cell_type": "code",
   "execution_count": null,
   "metadata": {},
   "outputs": [],
   "source": [
    "#Functions - DRY ( Do not repeat yourself)\n",
    "\n",
    "'''function have two things\n",
    "\n",
    "1. function defination - we dedine the fucntion or we defin the task\n",
    "2. function call - we execute the function\n",
    "\n",
    "\n",
    "syntax\n",
    "1. function defination\n",
    "\n",
    "        def funct_name(paramters):\n",
    "            \n",
    "            statment1\n",
    "            statment2\n",
    "            \n",
    "            return statement3\n",
    "\n",
    "        thinigs whihc are optional\n",
    "            paramters\n",
    "            return statment\n",
    "        \n",
    "2. function call\n",
    "\n",
    "    function_name(args)\n",
    "    \n",
    "Note - if paramater is der in fucntion defination then der should be args in function call'''"
   ]
  },
  {
   "cell_type": "code",
   "execution_count": 3,
   "metadata": {},
   "outputs": [
    {
     "name": "stdout",
     "output_type": "stream",
     "text": [
      "palindrome\n"
     ]
    }
   ],
   "source": [
    "# palindrome\n",
    "\n",
    "# function defination\n",
    "\n",
    "def palindrome():\n",
    "    a = 'level'\n",
    "    if a == a[::-1]:\n",
    "        print('palindrome')\n",
    "    else:\n",
    "        print('not a palindrome')\n",
    "\n",
    "# function call\n",
    "palindrome()"
   ]
  },
  {
   "cell_type": "code",
   "execution_count": 2,
   "metadata": {},
   "outputs": [
    {
     "name": "stdout",
     "output_type": "stream",
     "text": [
      "palindrome\n"
     ]
    }
   ],
   "source": [
    "poblems - static\n",
    "\n",
    "soluntion\n",
    "\n",
    "1. can write the input in the function defination itself"
   ]
  },
  {
   "cell_type": "code",
   "execution_count": 6,
   "metadata": {},
   "outputs": [
    {
     "name": "stdout",
     "output_type": "stream",
     "text": [
      "please enetr a stringlevel \n",
      "not a palindrome\n"
     ]
    }
   ],
   "source": [
    "def palindrome():\n",
    "    a = input('please enetr a string')\n",
    "    if a == a[::-1]:\n",
    "        print('palindrome')\n",
    "    else:\n",
    "        print('not a palindrome')\n",
    "\n",
    "# function call\n",
    "palindrome()"
   ]
  },
  {
   "cell_type": "code",
   "execution_count": 7,
   "metadata": {},
   "outputs": [
    {
     "name": "stdout",
     "output_type": "stream",
     "text": [
      "please enetr a textlevel \n",
      "palindrome\n"
     ]
    }
   ],
   "source": [
    "def palindrome(string):\n",
    "    if string == string[::-1]:\n",
    "        print('palindrome')\n",
    "    else:\n",
    "        print('not a palindrome')\n",
    "\n",
    "# function call\n",
    "a = input('please enetr a text')\n",
    "a = a.strip()\n",
    "palindrome(a)"
   ]
  },
  {
   "cell_type": "markdown",
   "metadata": {},
   "source": [
    "# Types of arguments\n",
    "\n",
    "there 3 types of arguments\n",
    "\n",
    "1. Positional args\n",
    "\n",
    "- the order is imp\n",
    "- number of args == number of parameters"
   ]
  },
  {
   "cell_type": "code",
   "execution_count": 8,
   "metadata": {},
   "outputs": [],
   "source": [
    "def emp_info(emp_name , emp_sal, emp_age):\n",
    "    print(emp_name)\n",
    "    print(emp_sal)    \n",
    "    print(emp_age)"
   ]
  },
  {
   "cell_type": "code",
   "execution_count": 9,
   "metadata": {},
   "outputs": [
    {
     "ename": "TypeError",
     "evalue": "emp_info() missing 2 required positional arguments: 'emp_sal' and 'emp_age'",
     "output_type": "error",
     "traceback": [
      "\u001b[0;31m---------------------------------------------------------------------------\u001b[0m",
      "\u001b[0;31mTypeError\u001b[0m                                 Traceback (most recent call last)",
      "\u001b[0;32m<ipython-input-9-3d5e42012705>\u001b[0m in \u001b[0;36m<module>\u001b[0;34m\u001b[0m\n\u001b[0;32m----> 1\u001b[0;31m \u001b[0memp_info\u001b[0m\u001b[0;34m(\u001b[0m\u001b[0;34m'afsaan'\u001b[0m\u001b[0;34m)\u001b[0m\u001b[0;34m\u001b[0m\u001b[0;34m\u001b[0m\u001b[0m\n\u001b[0m",
      "\u001b[0;31mTypeError\u001b[0m: emp_info() missing 2 required positional arguments: 'emp_sal' and 'emp_age'"
     ]
    }
   ],
   "source": [
    "emp_info('afsaan')"
   ]
  },
  {
   "cell_type": "code",
   "execution_count": 10,
   "metadata": {},
   "outputs": [
    {
     "name": "stdout",
     "output_type": "stream",
     "text": [
      "afsaan\n",
      "20k\n",
      "24\n"
     ]
    }
   ],
   "source": [
    "emp_info('afsaan' , '20k' , 24)"
   ]
  },
  {
   "cell_type": "code",
   "execution_count": 11,
   "metadata": {},
   "outputs": [
    {
     "name": "stdout",
     "output_type": "stream",
     "text": [
      "24\n",
      "afsaan\n",
      "20k\n"
     ]
    }
   ],
   "source": [
    "emp_info(24 , 'afsaan' , '20k' )"
   ]
  },
  {
   "cell_type": "code",
   "execution_count": 12,
   "metadata": {},
   "outputs": [
    {
     "name": "stdout",
     "output_type": "stream",
     "text": [
      "afsaan\n",
      "20k\n",
      "24\n",
      "banglore\n"
     ]
    }
   ],
   "source": [
    "# 2. Default args\n",
    "\n",
    "def emp_info(emp_name , emp_sal, emp_age , emp_location = 'banglore'):\n",
    "    print(emp_name)\n",
    "    print(emp_sal)    \n",
    "    print(emp_age)\n",
    "    print(emp_location) \n",
    "    \n",
    "emp_info('afsaan' , '20k' ,'24')"
   ]
  },
  {
   "cell_type": "code",
   "execution_count": 13,
   "metadata": {},
   "outputs": [
    {
     "name": "stdout",
     "output_type": "stream",
     "text": [
      "afsaan\n",
      "20k\n",
      "24\n",
      "goa\n"
     ]
    }
   ],
   "source": [
    "def emp_info(emp_name , emp_sal, emp_age , emp_location = 'banglore'):\n",
    "    print(emp_name)\n",
    "    print(emp_sal)    \n",
    "    print(emp_age)\n",
    "    print(emp_location) \n",
    "    \n",
    "emp_info('afsaan' , '20k' ,'24' , 'goa')"
   ]
  },
  {
   "cell_type": "markdown",
   "metadata": {},
   "source": [
    "imp point - if der is a combination of postional args and default args then default args will alawys followd by positonal args"
   ]
  },
  {
   "cell_type": "code",
   "execution_count": 14,
   "metadata": {},
   "outputs": [
    {
     "name": "stdout",
     "output_type": "stream",
     "text": [
      "afsaan\n",
      "20k\n",
      "24\n",
      "goa\n",
      "101\n"
     ]
    }
   ],
   "source": [
    "def emp_info(emp_name , emp_sal, emp_age , emp_location = 'banglore' , emp_id = '101'):\n",
    "    print(emp_name)\n",
    "    print(emp_sal)    \n",
    "    print(emp_age)\n",
    "    print(emp_location) \n",
    "    print(emp_id) \n",
    "    \n",
    "    \n",
    "emp_info('afsaan' , '20k' ,'24' , 'goa')"
   ]
  },
  {
   "cell_type": "code",
   "execution_count": 19,
   "metadata": {},
   "outputs": [
    {
     "name": "stdout",
     "output_type": "stream",
     "text": [
      "afsaan\n",
      "20\n",
      "24.2\n",
      "(10+6j)\n",
      "True\n"
     ]
    }
   ],
   "source": [
    "def emp_info( emp_name , emp_sal, emp_age , emp_id = '101', emp_location = 'banglore'):\n",
    "    print(emp_name)\n",
    "    print(emp_sal)    \n",
    "    print(emp_age)\n",
    "    print(emp_location) \n",
    "    print(emp_id) \n",
    "    \n",
    "    \n",
    "emp_info('afsaan' , 20 ,  24.2 , True , 10 + 6j)"
   ]
  },
  {
   "cell_type": "code",
   "execution_count": 21,
   "metadata": {},
   "outputs": [
    {
     "name": "stdout",
     "output_type": "stream",
     "text": [
      "afsaan\n",
      "20k\n",
      "24\n",
      "banglore\n",
      "101\n"
     ]
    }
   ],
   "source": [
    "# 3. keyword args\n",
    "\n",
    "def emp_info( emp_name , emp_sal, emp_age , emp_id = '101', emp_location = 'banglore'):\n",
    "    print(emp_name)\n",
    "    print(emp_sal)    \n",
    "    print(emp_age)\n",
    "    print(emp_location) \n",
    "    print(emp_id) \n",
    "    \n",
    "    \n",
    "emp_info(emp_name = 'afsaan' , emp_sal = '20k' , emp_age = 24)"
   ]
  },
  {
   "cell_type": "code",
   "execution_count": 22,
   "metadata": {},
   "outputs": [
    {
     "name": "stdout",
     "output_type": "stream",
     "text": [
      "afsaan\n",
      "20k\n",
      "24\n",
      "banglore\n",
      "101\n"
     ]
    }
   ],
   "source": [
    "def emp_info( emp_name , emp_sal, emp_age , emp_id = '101', emp_location = 'banglore'):\n",
    "    print(emp_name)\n",
    "    print(emp_sal)    \n",
    "    print(emp_age)\n",
    "    print(emp_location) \n",
    "    print(emp_id) \n",
    "    \n",
    "    \n",
    "emp_info(emp_sal = '20k' , emp_age = 24 , emp_name = 'afsaan' )"
   ]
  },
  {
   "cell_type": "code",
   "execution_count": null,
   "metadata": {},
   "outputs": [],
   "source": [
    "# write a fucntion to take a user input as a list of numbers sep out the even and od numbers\n",
    "\n",
    "[1,2,3,4,5,6,7,8,9,10]\n",
    "\n",
    "even list are - [2,4,6,8,10]\n",
    "odd list are - [1,3,5,7,9]"
   ]
  },
  {
   "cell_type": "code",
   "execution_count": 24,
   "metadata": {},
   "outputs": [],
   "source": [
    "def even_odd(list_numbers):\n",
    "    \n",
    "    even_list = [ i for i in list_numbers if i%2==0]\n",
    "    odd_list = [ i for i in list_numbers if i%2!=0]   \n",
    "    \n",
    "    print(f'evem list are {even_list}')\n",
    "    print(f'odd list are {odd_list}')    "
   ]
  },
  {
   "cell_type": "code",
   "execution_count": 26,
   "metadata": {},
   "outputs": [
    {
     "name": "stdout",
     "output_type": "stream",
     "text": [
      "evem list are [2, 4, 6, 8, 10, 12]\n",
      "odd list are [1, 3, 5, 7, 9, 11]\n"
     ]
    }
   ],
   "source": [
    "even_odd([1,2,3,4,5,6,7,8,9,10,11,12])"
   ]
  },
  {
   "cell_type": "code",
   "execution_count": 28,
   "metadata": {},
   "outputs": [],
   "source": [
    "def even_odd(list_numbers):\n",
    "    \n",
    "    even_list = [ i for i in list_numbers if i%2==0]\n",
    "    odd_list = [ i for i in list_numbers if i%2!=0]   \n",
    "    "
   ]
  },
  {
   "cell_type": "code",
   "execution_count": 29,
   "metadata": {},
   "outputs": [
    {
     "name": "stdout",
     "output_type": "stream",
     "text": [
      "None\n"
     ]
    }
   ],
   "source": [
    "print(even_odd([1,2,3,4,5,6,7,8,9,10,11,12]))"
   ]
  },
  {
   "cell_type": "code",
   "execution_count": null,
   "metadata": {},
   "outputs": [],
   "source": [
    "def even_odd(list_numbers):\n",
    "    \n",
    "    even_list = [ i for i in list_numbers if i%2==0]\n",
    "    odd_list = [ i for i in list_numbers if i%2!=0] \n",
    "    \n",
    "    return None"
   ]
  },
  {
   "cell_type": "code",
   "execution_count": 30,
   "metadata": {},
   "outputs": [
    {
     "name": "stdout",
     "output_type": "stream",
     "text": [
      "None\n"
     ]
    }
   ],
   "source": [
    "print(even_odd([1,2,3,4]))"
   ]
  },
  {
   "cell_type": "code",
   "execution_count": 47,
   "metadata": {},
   "outputs": [],
   "source": [
    "def even_odd(list_numbers):\n",
    "    \n",
    "    even_list = [ i for i in list_numbers if i%2==0]\n",
    "    odd_list = [ i for i in list_numbers if i%2!=0] \n",
    "    \n",
    "    return odd_list ,  even_list"
   ]
  },
  {
   "cell_type": "code",
   "execution_count": 48,
   "metadata": {},
   "outputs": [
    {
     "name": "stdout",
     "output_type": "stream",
     "text": [
      "([1, 3], [2, 4])\n"
     ]
    }
   ],
   "source": [
    "a = even_odd([1,2,3,4])\n",
    "print(a)"
   ]
  },
  {
   "cell_type": "code",
   "execution_count": null,
   "metadata": {},
   "outputs": [],
   "source": [
    "type(even_odd([1,2,3,4]))\n"
   ]
  },
  {
   "cell_type": "code",
   "execution_count": 32,
   "metadata": {},
   "outputs": [
    {
     "name": "stdout",
     "output_type": "stream",
     "text": [
      "hello world\n"
     ]
    }
   ],
   "source": [
    "a = 'hello world'\n",
    "print(a)"
   ]
  },
  {
   "cell_type": "code",
   "execution_count": null,
   "metadata": {},
   "outputs": [],
   "source": [
    "# return statment in function\n",
    "\n",
    "- it is optional\n",
    "- if not used the default value that will be returned will be None\n",
    "- it used the the used value will be returned\n",
    "- type of the fucntion == the type of the value returend by return statemnt\n",
    "- you can return any object\n",
    "- you can return a fucnion also"
   ]
  },
  {
   "cell_type": "code",
   "execution_count": 51,
   "metadata": {},
   "outputs": [
    {
     "name": "stdout",
     "output_type": "stream",
     "text": [
      "<class 'tuple'>\n"
     ]
    }
   ],
   "source": [
    "def even_odd(list_numbers):\n",
    "    \n",
    "    even_list = [ i for i in list_numbers if i%2==0]\n",
    "    odd_list = [ i for i in list_numbers if i%2!=0] \n",
    "    \n",
    "    return 11,12,13\n",
    "\n",
    "print(type(even_odd([1,2])))"
   ]
  },
  {
   "cell_type": "code",
   "execution_count": 56,
   "metadata": {},
   "outputs": [
    {
     "name": "stdout",
     "output_type": "stream",
     "text": [
      "[2]\n",
      "[1]\n",
      "[2, 2, 2]\n",
      "[1]\n"
     ]
    }
   ],
   "source": [
    "def even_odd(list_numbers):\n",
    "    \n",
    "    even_list = [ i for i in list_numbers if i%2==0]\n",
    "    odd_list = [ i for i in list_numbers if i%2!=0] \n",
    "    \n",
    "    print(even_list)\n",
    "    print(odd_list)\n",
    "    \n",
    "    return even_list , odd_list\n",
    "    \n",
    "\n",
    "a , b = even_odd([1,2])\n",
    "\n",
    "print(a*3)\n",
    "print(b)"
   ]
  },
  {
   "cell_type": "code",
   "execution_count": null,
   "metadata": {},
   "outputs": [],
   "source": [
    "# find the fact of a number using function\n",
    "\n",
    "- Recursive function - when function returns itself"
   ]
  },
  {
   "cell_type": "code",
   "execution_count": 62,
   "metadata": {},
   "outputs": [
    {
     "data": {
      "text/plain": [
       "120"
      ]
     },
     "execution_count": 62,
     "metadata": {},
     "output_type": "execute_result"
    }
   ],
   "source": [
    "def fact(num):\n",
    "    if num ==0:\n",
    "        return 1\n",
    "\n",
    "    else:\n",
    "        return num * fact(num-1)\n",
    "\n",
    "fact(5)"
   ]
  },
  {
   "cell_type": "code",
   "execution_count": null,
   "metadata": {},
   "outputs": [],
   "source": [
    "# Anonymous function( function without a name) - lambda function\n",
    "\n",
    "- lambda function is a small anonymous function\n",
    "- a lambda function can take any number of args , but can have only one expression\n",
    "\n",
    "syntax\n",
    "\n",
    "lambda args : expression"
   ]
  },
  {
   "cell_type": "code",
   "execution_count": 64,
   "metadata": {},
   "outputs": [
    {
     "data": {
      "text/plain": [
       "30"
      ]
     },
     "execution_count": 64,
     "metadata": {},
     "output_type": "execute_result"
    }
   ],
   "source": [
    "# write a function to add 2 numbers\n",
    "\n",
    "def add (a,b):\n",
    "    return a +b\n",
    "\n",
    "add(10,20)"
   ]
  },
  {
   "cell_type": "code",
   "execution_count": 65,
   "metadata": {},
   "outputs": [],
   "source": [
    "x = lambda a,b : a+b"
   ]
  },
  {
   "cell_type": "code",
   "execution_count": 67,
   "metadata": {},
   "outputs": [
    {
     "data": {
      "text/plain": [
       "5"
      ]
     },
     "execution_count": 67,
     "metadata": {},
     "output_type": "execute_result"
    }
   ],
   "source": [
    "x(3,2)"
   ]
  },
  {
   "cell_type": "code",
   "execution_count": 68,
   "metadata": {},
   "outputs": [
    {
     "data": {
      "text/plain": [
       "30"
      ]
     },
     "execution_count": 68,
     "metadata": {},
     "output_type": "execute_result"
    }
   ],
   "source": [
    "x = (lambda a,b : a+b)(10,20)\n",
    "x"
   ]
  },
  {
   "cell_type": "code",
   "execution_count": 77,
   "metadata": {},
   "outputs": [
    {
     "data": {
      "text/plain": [
       "'equal'"
      ]
     },
     "execution_count": 77,
     "metadata": {},
     "output_type": "execute_result"
    }
   ],
   "source": [
    "# 3. write  lambda fucntion to find if number is even or odd\n",
    "\n",
    "(lambda a,b : 'more' if a>b else 'less' if a<b else 'equal')(11,11)"
   ]
  },
  {
   "cell_type": "code",
   "execution_count": null,
   "metadata": {},
   "outputs": [],
   "source": [
    "1 - to make code shorter\n",
    "2 - some fucntion works good with lambda function"
   ]
  },
  {
   "cell_type": "markdown",
   "metadata": {},
   "source": [
    "# local and Global variable\n",
    "\n",
    "- global varibale is a varibale which you can use in entire code\n",
    "- local varbale is a varibale whihc you can use only a particular funcition"
   ]
  },
  {
   "cell_type": "code",
   "execution_count": 78,
   "metadata": {},
   "outputs": [
    {
     "ename": "SyntaxError",
     "evalue": "invalid syntax (<ipython-input-78-c6eca76aa588>, line 10)",
     "output_type": "error",
     "traceback": [
      "\u001b[0;36m  File \u001b[0;32m\"<ipython-input-78-c6eca76aa588>\"\u001b[0;36m, line \u001b[0;32m10\u001b[0m\n\u001b[0;31m    print(a)print(a)\u001b[0m\n\u001b[0m            ^\u001b[0m\n\u001b[0;31mSyntaxError\u001b[0m\u001b[0;31m:\u001b[0m invalid syntax\n"
     ]
    }
   ],
   "source": [
    "#global varibale\n",
    "a = 15\n",
    "b = 10\n",
    "\n",
    "def add():\n",
    "    c = a + b # local varibales\n",
    "    print(c)\n",
    "    \n",
    "add()\n",
    "\n",
    "print(a)\n",
    "print(b)\n",
    "print(c)"
   ]
  },
  {
   "cell_type": "code",
   "execution_count": 82,
   "metadata": {},
   "outputs": [
    {
     "name": "stdout",
     "output_type": "stream",
     "text": [
      "30\n",
      "40\n"
     ]
    }
   ],
   "source": [
    "def add(a,b):\n",
    "    c = a + b\n",
    "    return c\n",
    "    \n",
    "c = add(20,50)\n",
    "\n",
    "print(c+10)"
   ]
  },
  {
   "cell_type": "code",
   "execution_count": 80,
   "metadata": {},
   "outputs": [
    {
     "name": "stdout",
     "output_type": "stream",
     "text": [
      "300\n"
     ]
    }
   ],
   "source": [
    "add(100,200)"
   ]
  },
  {
   "cell_type": "code",
   "execution_count": null,
   "metadata": {},
   "outputs": [],
   "source": [
    "map . reuduce , filter , enumrate , iterator , module - sat\n",
    "\n",
    "file handling - sunday"
   ]
  },
  {
   "cell_type": "code",
   "execution_count": null,
   "metadata": {},
   "outputs": [],
   "source": []
  },
  {
   "cell_type": "code",
   "execution_count": null,
   "metadata": {},
   "outputs": [],
   "source": []
  }
 ],
 "metadata": {
  "kernelspec": {
   "display_name": "Python 3",
   "language": "python",
   "name": "python3"
  },
  "language_info": {
   "codemirror_mode": {
    "name": "ipython",
    "version": 3
   },
   "file_extension": ".py",
   "mimetype": "text/x-python",
   "name": "python",
   "nbconvert_exporter": "python",
   "pygments_lexer": "ipython3",
   "version": "3.8.5"
  }
 },
 "nbformat": 4,
 "nbformat_minor": 4
}
