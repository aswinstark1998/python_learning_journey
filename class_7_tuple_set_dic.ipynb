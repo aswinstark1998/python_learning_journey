{
 "cells": [
  {
   "cell_type": "code",
   "execution_count": null,
   "metadata": {},
   "outputs": [],
   "source": [
    "12\n",
    "tuple\n",
    "set\n",
    "dict\n",
    "problems"
   ]
  },
  {
   "cell_type": "code",
   "execution_count": null,
   "metadata": {},
   "outputs": [],
   "source": [
    "# Tuple \n",
    "\n",
    "anything that can ve written inside a () (optional) and elements are sep by commas"
   ]
  },
  {
   "cell_type": "code",
   "execution_count": 1,
   "metadata": {},
   "outputs": [
    {
     "name": "stdout",
     "output_type": "stream",
     "text": [
      "(1, 2, 3, 4, 5) <class 'tuple'>\n"
     ]
    }
   ],
   "source": [
    "a = (1,2,3,4,5)\n",
    "print(a, type(a))"
   ]
  },
  {
   "cell_type": "code",
   "execution_count": 2,
   "metadata": {},
   "outputs": [
    {
     "name": "stdout",
     "output_type": "stream",
     "text": [
      "(1, 2, 3, 4, 5) <class 'tuple'>\n"
     ]
    }
   ],
   "source": [
    "a = 1,2,3,4,5\n",
    "print(a , type(a))"
   ]
  },
  {
   "cell_type": "markdown",
   "metadata": {},
   "source": [
    "# Creation of tuple"
   ]
  },
  {
   "cell_type": "code",
   "execution_count": 3,
   "metadata": {},
   "outputs": [
    {
     "name": "stdout",
     "output_type": "stream",
     "text": [
      "(1, 2, 3, 4, 5) <class 'tuple'>\n"
     ]
    }
   ],
   "source": [
    "# 1. we already know the element\n",
    "\n",
    "tup1 = (1,2,3)\n",
    "print(a , type(a))"
   ]
  },
  {
   "cell_type": "code",
   "execution_count": 5,
   "metadata": {},
   "outputs": [
    {
     "name": "stdout",
     "output_type": "stream",
     "text": [
      "enter the tuple(1,2,3,4)\n",
      "<class 'tuple'>\n",
      "(1, 2, 3, 4)\n"
     ]
    }
   ],
   "source": [
    "# 2. taking a user input\n",
    "\n",
    "tup2 = eval(input('enter the tuple'))\n",
    "print(type(tup2))\n",
    "print(tup2)"
   ]
  },
  {
   "cell_type": "code",
   "execution_count": 8,
   "metadata": {},
   "outputs": [
    {
     "ename": "TypeError",
     "evalue": "'int' object is not iterable",
     "output_type": "error",
     "traceback": [
      "\u001b[0;31m---------------------------------------------------------------------------\u001b[0m",
      "\u001b[0;31mTypeError\u001b[0m                                 Traceback (most recent call last)",
      "\u001b[0;32m<ipython-input-8-ce53bb23760f>\u001b[0m in \u001b[0;36m<module>\u001b[0;34m\u001b[0m\n\u001b[1;32m      5\u001b[0m \u001b[0mc\u001b[0m \u001b[0;34m=\u001b[0m \u001b[0;36m3\u001b[0m\u001b[0;34m\u001b[0m\u001b[0;34m\u001b[0m\u001b[0m\n\u001b[1;32m      6\u001b[0m \u001b[0;34m\u001b[0m\u001b[0m\n\u001b[0;32m----> 7\u001b[0;31m \u001b[0mprint\u001b[0m\u001b[0;34m(\u001b[0m\u001b[0mtuple\u001b[0m\u001b[0;34m(\u001b[0m\u001b[0mc\u001b[0m\u001b[0;34m)\u001b[0m\u001b[0;34m)\u001b[0m\u001b[0;34m\u001b[0m\u001b[0;34m\u001b[0m\u001b[0m\n\u001b[0m",
      "\u001b[0;31mTypeError\u001b[0m: 'int' object is not iterable"
     ]
    }
   ],
   "source": [
    "# 3. typecasting\n",
    "\n",
    "a = 'afsaan'\n",
    "b = [1,2,3]\n",
    "c = 3\n",
    "\n",
    "print(tuple(c))"
   ]
  },
  {
   "cell_type": "code",
   "execution_count": 9,
   "metadata": {},
   "outputs": [],
   "source": [
    "# list tuple set - they only take iterable objects"
   ]
  },
  {
   "cell_type": "code",
   "execution_count": null,
   "metadata": {},
   "outputs": [],
   "source": [
    "Properties of tuple\n",
    "\n",
    "1. Seq data type\n",
    "2. supports +ve and -ve indexing\n",
    "3. indexing(accessing one elem at a time) and slicing(accesing multiple ele)\n",
    "4. immutable - assignmet is not possible and any op on tuple will result in new object\n",
    "5. allow duplicate \n",
    "6. hetrogenous - all type of data types can be stored\n",
    "7. basic op - slicing , indexing,concatination , repetition, identity , memebrship"
   ]
  },
  {
   "cell_type": "code",
   "execution_count": 11,
   "metadata": {},
   "outputs": [
    {
     "data": {
      "text/plain": [
       "'f'"
      ]
     },
     "execution_count": 11,
     "metadata": {},
     "output_type": "execute_result"
    }
   ],
   "source": [
    "# 2. supports +ve and -ve indexing\n",
    "\n",
    "a = 10,20,30,40,50,'afsaan khan'\n",
    "\n",
    "# extract f\n",
    "\n",
    "a[-1][1]\n",
    "\n",
    "a[5][1]"
   ]
  },
  {
   "cell_type": "code",
   "execution_count": 16,
   "metadata": {},
   "outputs": [
    {
     "data": {
      "text/plain": [
       "'nah'"
      ]
     },
     "execution_count": 16,
     "metadata": {},
     "output_type": "execute_result"
    }
   ],
   "source": [
    "# 3. indexing(accessing one elem at a time) and slicing(accesing multiple ele)\n",
    "\n",
    "a = 10,20,30,40,50,'afsaan khan'\n",
    "\n",
    "# ouput should be nahk\n",
    "a[-1][-1:-5:-1]\n",
    "\n",
    "a[-1][:6:-1] \n",
    "\n",
    "a[-1][-1:-4:-1] "
   ]
  },
  {
   "cell_type": "code",
   "execution_count": 17,
   "metadata": {},
   "outputs": [
    {
     "ename": "TypeError",
     "evalue": "'tuple' object does not support item assignment",
     "output_type": "error",
     "traceback": [
      "\u001b[0;31m---------------------------------------------------------------------------\u001b[0m",
      "\u001b[0;31mTypeError\u001b[0m                                 Traceback (most recent call last)",
      "\u001b[0;32m<ipython-input-17-c0ced39c0bcc>\u001b[0m in \u001b[0;36m<module>\u001b[0;34m\u001b[0m\n\u001b[1;32m      2\u001b[0m \u001b[0;34m\u001b[0m\u001b[0m\n\u001b[1;32m      3\u001b[0m \u001b[0ma\u001b[0m \u001b[0;34m=\u001b[0m \u001b[0;34m(\u001b[0m\u001b[0;36m1\u001b[0m\u001b[0;34m,\u001b[0m\u001b[0;36m2\u001b[0m\u001b[0;34m,\u001b[0m\u001b[0;36m3\u001b[0m\u001b[0;34m,\u001b[0m\u001b[0;36m4\u001b[0m\u001b[0;34m,\u001b[0m\u001b[0;36m5\u001b[0m\u001b[0;34m)\u001b[0m\u001b[0;34m\u001b[0m\u001b[0;34m\u001b[0m\u001b[0m\n\u001b[0;32m----> 4\u001b[0;31m \u001b[0ma\u001b[0m\u001b[0;34m[\u001b[0m\u001b[0;36m0\u001b[0m\u001b[0;34m]\u001b[0m \u001b[0;34m=\u001b[0m \u001b[0;36m100\u001b[0m\u001b[0;34m\u001b[0m\u001b[0;34m\u001b[0m\u001b[0m\n\u001b[0m\u001b[1;32m      5\u001b[0m \u001b[0mprint\u001b[0m\u001b[0;34m(\u001b[0m\u001b[0ma\u001b[0m\u001b[0;34m)\u001b[0m\u001b[0;34m\u001b[0m\u001b[0;34m\u001b[0m\u001b[0m\n",
      "\u001b[0;31mTypeError\u001b[0m: 'tuple' object does not support item assignment"
     ]
    }
   ],
   "source": [
    "# 4. immutable - assignmet is not possible and any op on tuple will result in new object\n",
    "\n",
    "a = (1,2,3,4,5)\n",
    "a[0] = 100\n",
    "print(a)"
   ]
  },
  {
   "cell_type": "code",
   "execution_count": 18,
   "metadata": {},
   "outputs": [
    {
     "name": "stdout",
     "output_type": "stream",
     "text": [
      "(1, 1, 1, 2, 3, 4, 5, 5, 5) <class 'tuple'>\n"
     ]
    }
   ],
   "source": [
    "# 5. allow duplicate element\n",
    "\n",
    "a = (1,1,1,2,3,4,5,5,5)\n",
    "print(a, type(a))"
   ]
  },
  {
   "cell_type": "code",
   "execution_count": 19,
   "metadata": {},
   "outputs": [
    {
     "name": "stdout",
     "output_type": "stream",
     "text": [
      "(1, 1.2, (3+6j), [1, 2, 3], (1, 2, 3), None, 'afsaan')\n"
     ]
    }
   ],
   "source": [
    "# 6. hetrogenous - all type of data types can be stored\n",
    "\n",
    "a = (1 , 1.2 , 3+6j, [1,2,3] , (1,2,3) , None , 'afsaan')\n",
    "print(a)"
   ]
  },
  {
   "cell_type": "code",
   "execution_count": 20,
   "metadata": {},
   "outputs": [],
   "source": [
    "# 7. basic op - slicing , indexing,concatination , repetition, identity , memebrship"
   ]
  },
  {
   "cell_type": "code",
   "execution_count": 21,
   "metadata": {},
   "outputs": [
    {
     "data": {
      "text/plain": [
       "(1, 2, 3, 5, 6, 7)"
      ]
     },
     "execution_count": 21,
     "metadata": {},
     "output_type": "execute_result"
    }
   ],
   "source": [
    "#concatination\n",
    "\n",
    "'''op - +\n",
    "2 operands - both should be tuple'''\n",
    "\n",
    "a = (1,2,3)\n",
    "b = (5,6,7)\n",
    "\n",
    "a + b"
   ]
  },
  {
   "cell_type": "code",
   "execution_count": 23,
   "metadata": {},
   "outputs": [
    {
     "ename": "TypeError",
     "evalue": "can't multiply sequence by non-int of type 'float'",
     "output_type": "error",
     "traceback": [
      "\u001b[0;31m---------------------------------------------------------------------------\u001b[0m",
      "\u001b[0;31mTypeError\u001b[0m                                 Traceback (most recent call last)",
      "\u001b[0;32m<ipython-input-23-dc7f4f3073da>\u001b[0m in \u001b[0;36m<module>\u001b[0;34m\u001b[0m\n\u001b[1;32m      8\u001b[0m \u001b[0mc\u001b[0m \u001b[0;34m=\u001b[0m \u001b[0;36m2.4\u001b[0m\u001b[0;34m\u001b[0m\u001b[0;34m\u001b[0m\u001b[0m\n\u001b[1;32m      9\u001b[0m \u001b[0;34m\u001b[0m\u001b[0m\n\u001b[0;32m---> 10\u001b[0;31m \u001b[0ma\u001b[0m \u001b[0;34m*\u001b[0m \u001b[0mc\u001b[0m\u001b[0;34m\u001b[0m\u001b[0;34m\u001b[0m\u001b[0m\n\u001b[0m",
      "\u001b[0;31mTypeError\u001b[0m: can't multiply sequence by non-int of type 'float'"
     ]
    }
   ],
   "source": [
    "#repetition\n",
    "\n",
    "'''op - *\n",
    "2 operands - one should be tuple and other should be int'''\n",
    "\n",
    "a = (1,2,3)\n",
    "b = 2\n",
    "c = 2.4\n",
    "\n",
    "a * c"
   ]
  },
  {
   "cell_type": "code",
   "execution_count": 24,
   "metadata": {},
   "outputs": [
    {
     "name": "stdout",
     "output_type": "stream",
     "text": [
      "False\n"
     ]
    }
   ],
   "source": [
    "# identity\n",
    "\n",
    "'''identity op are used to compare the address of two varibales\n",
    "op - is and is not\n",
    "'''\n",
    "\n",
    "a = (1,2,3)\n",
    "b = (1,2,3)\n",
    "print(a is b)"
   ]
  },
  {
   "cell_type": "code",
   "execution_count": 25,
   "metadata": {},
   "outputs": [
    {
     "data": {
      "text/plain": [
       "True"
      ]
     },
     "execution_count": 25,
     "metadata": {},
     "output_type": "execute_result"
    }
   ],
   "source": [
    "# memebrship\n",
    "\n",
    "'''op - in , not in\n",
    "check wherther eleme is a memeber of main tuple or not'''\n",
    "\n",
    "a= (1,2,3)\n",
    "1 in a"
   ]
  },
  {
   "cell_type": "code",
   "execution_count": 26,
   "metadata": {},
   "outputs": [
    {
     "data": {
      "text/plain": [
       "['__add__',\n",
       " '__class__',\n",
       " '__contains__',\n",
       " '__delattr__',\n",
       " '__dir__',\n",
       " '__doc__',\n",
       " '__eq__',\n",
       " '__format__',\n",
       " '__ge__',\n",
       " '__getattribute__',\n",
       " '__getitem__',\n",
       " '__getnewargs__',\n",
       " '__gt__',\n",
       " '__hash__',\n",
       " '__init__',\n",
       " '__init_subclass__',\n",
       " '__iter__',\n",
       " '__le__',\n",
       " '__len__',\n",
       " '__lt__',\n",
       " '__mul__',\n",
       " '__ne__',\n",
       " '__new__',\n",
       " '__reduce__',\n",
       " '__reduce_ex__',\n",
       " '__repr__',\n",
       " '__rmul__',\n",
       " '__setattr__',\n",
       " '__sizeof__',\n",
       " '__str__',\n",
       " '__subclasshook__',\n",
       " 'count',\n",
       " 'index']"
      ]
     },
     "execution_count": 26,
     "metadata": {},
     "output_type": "execute_result"
    }
   ],
   "source": [
    "# methods in tuple\n",
    "\n",
    "dir(tuple)"
   ]
  },
  {
   "cell_type": "markdown",
   "metadata": {},
   "source": [
    "1. count\n",
    "2. index"
   ]
  },
  {
   "cell_type": "code",
   "execution_count": 29,
   "metadata": {},
   "outputs": [
    {
     "name": "stdout",
     "output_type": "stream",
     "text": [
      "3\n"
     ]
    }
   ],
   "source": [
    "# Count - count of an element\n",
    "\n",
    "a = 10,20,30,40,50 , 10,10,50\n",
    "print(a.count(10))"
   ]
  },
  {
   "cell_type": "code",
   "execution_count": 30,
   "metadata": {},
   "outputs": [
    {
     "name": "stdout",
     "output_type": "stream",
     "text": [
      "2\n"
     ]
    }
   ],
   "source": [
    "# index - is used to find the index of an element\n",
    "\n",
    "a = 10,20,30,40,50,60,60,10,20\n",
    "print(a.index(30))"
   ]
  },
  {
   "cell_type": "code",
   "execution_count": 32,
   "metadata": {},
   "outputs": [
    {
     "ename": "ValueError",
     "evalue": "tuple.index(x): x not in tuple",
     "output_type": "error",
     "traceback": [
      "\u001b[0;31m---------------------------------------------------------------------------\u001b[0m",
      "\u001b[0;31mValueError\u001b[0m                                Traceback (most recent call last)",
      "\u001b[0;32m<ipython-input-32-867864074d2e>\u001b[0m in \u001b[0;36m<module>\u001b[0;34m\u001b[0m\n\u001b[1;32m      1\u001b[0m \u001b[0ma\u001b[0m \u001b[0;34m=\u001b[0m \u001b[0;36m10\u001b[0m\u001b[0;34m,\u001b[0m\u001b[0;36m20\u001b[0m\u001b[0;34m,\u001b[0m\u001b[0;36m30\u001b[0m\u001b[0;34m,\u001b[0m\u001b[0;36m40\u001b[0m\u001b[0;34m,\u001b[0m\u001b[0;36m50\u001b[0m\u001b[0;34m,\u001b[0m\u001b[0;36m60\u001b[0m\u001b[0;34m,\u001b[0m\u001b[0;36m60\u001b[0m\u001b[0;34m,\u001b[0m\u001b[0;36m10\u001b[0m\u001b[0;34m,\u001b[0m\u001b[0;36m20\u001b[0m\u001b[0;34m\u001b[0m\u001b[0;34m\u001b[0m\u001b[0m\n\u001b[0;32m----> 2\u001b[0;31m \u001b[0mprint\u001b[0m\u001b[0;34m(\u001b[0m\u001b[0ma\u001b[0m\u001b[0;34m.\u001b[0m\u001b[0mindex\u001b[0m\u001b[0;34m(\u001b[0m\u001b[0;36m10\u001b[0m \u001b[0;34m,\u001b[0m \u001b[0;36m4\u001b[0m\u001b[0;34m,\u001b[0m \u001b[0;36m7\u001b[0m\u001b[0;34m)\u001b[0m\u001b[0;34m)\u001b[0m\u001b[0;34m\u001b[0m\u001b[0;34m\u001b[0m\u001b[0m\n\u001b[0m",
      "\u001b[0;31mValueError\u001b[0m: tuple.index(x): x not in tuple"
     ]
    }
   ],
   "source": [
    "a = 10,20,30,40,50,60,60,10,20\n",
    "print(a.index(10 , 4, 7))"
   ]
  },
  {
   "cell_type": "code",
   "execution_count": null,
   "metadata": {},
   "outputs": [],
   "source": [
    "# Tuple packing and unpcaking\n",
    "\n",
    "tuple packing\n",
    "packing or assigning multiple values to a single varibale"
   ]
  },
  {
   "cell_type": "code",
   "execution_count": 33,
   "metadata": {},
   "outputs": [
    {
     "name": "stdout",
     "output_type": "stream",
     "text": [
      "<class 'tuple'> (1, 2, 3, 4, 5)\n"
     ]
    }
   ],
   "source": [
    "a = 1,2,3,4,5 # tuple packing\n",
    "print(type(a) , a)"
   ]
  },
  {
   "cell_type": "code",
   "execution_count": 34,
   "metadata": {},
   "outputs": [
    {
     "name": "stdout",
     "output_type": "stream",
     "text": [
      "1\n",
      "2\n",
      "3\n",
      "4\n"
     ]
    }
   ],
   "source": [
    "# Tuple unpacking\n",
    "\n",
    "# fetching idividual value form the tuple\n",
    "\n",
    "a,b,c,d = (1,2,3,4)\n",
    "\n",
    "print(a)\n",
    "print(b)\n",
    "print(c)\n",
    "print(d)"
   ]
  },
  {
   "cell_type": "code",
   "execution_count": 35,
   "metadata": {},
   "outputs": [
    {
     "ename": "ValueError",
     "evalue": "not enough values to unpack (expected 5, got 4)",
     "output_type": "error",
     "traceback": [
      "\u001b[0;31m---------------------------------------------------------------------------\u001b[0m",
      "\u001b[0;31mValueError\u001b[0m                                Traceback (most recent call last)",
      "\u001b[0;32m<ipython-input-35-0ed87af8f23d>\u001b[0m in \u001b[0;36m<module>\u001b[0;34m\u001b[0m\n\u001b[0;32m----> 1\u001b[0;31m \u001b[0ma\u001b[0m\u001b[0;34m,\u001b[0m\u001b[0mb\u001b[0m\u001b[0;34m,\u001b[0m\u001b[0mc\u001b[0m\u001b[0;34m,\u001b[0m\u001b[0md\u001b[0m\u001b[0;34m,\u001b[0m\u001b[0me\u001b[0m \u001b[0;34m=\u001b[0m \u001b[0;34m(\u001b[0m\u001b[0;36m1\u001b[0m\u001b[0;34m,\u001b[0m\u001b[0;36m2\u001b[0m\u001b[0;34m,\u001b[0m\u001b[0;36m3\u001b[0m\u001b[0;34m,\u001b[0m\u001b[0;36m4\u001b[0m\u001b[0;34m)\u001b[0m\u001b[0;34m\u001b[0m\u001b[0;34m\u001b[0m\u001b[0m\n\u001b[0m\u001b[1;32m      2\u001b[0m \u001b[0;34m\u001b[0m\u001b[0m\n\u001b[1;32m      3\u001b[0m \u001b[0mprint\u001b[0m\u001b[0;34m(\u001b[0m\u001b[0ma\u001b[0m\u001b[0;34m)\u001b[0m\u001b[0;34m\u001b[0m\u001b[0;34m\u001b[0m\u001b[0m\n\u001b[1;32m      4\u001b[0m \u001b[0mprint\u001b[0m\u001b[0;34m(\u001b[0m\u001b[0mb\u001b[0m\u001b[0;34m)\u001b[0m\u001b[0;34m\u001b[0m\u001b[0;34m\u001b[0m\u001b[0m\n\u001b[1;32m      5\u001b[0m \u001b[0mprint\u001b[0m\u001b[0;34m(\u001b[0m\u001b[0mc\u001b[0m\u001b[0;34m)\u001b[0m\u001b[0;34m\u001b[0m\u001b[0;34m\u001b[0m\u001b[0m\n",
      "\u001b[0;31mValueError\u001b[0m: not enough values to unpack (expected 5, got 4)"
     ]
    }
   ],
   "source": [
    "a,b,c,d,e = (1,2,3,4)\n",
    "\n",
    "print(a)\n",
    "print(b)\n",
    "print(c)\n",
    "print(d)"
   ]
  },
  {
   "cell_type": "code",
   "execution_count": null,
   "metadata": {},
   "outputs": [],
   "source": [
    "#Rule - number of varibales in lhs = number of elements on rhs"
   ]
  },
  {
   "cell_type": "code",
   "execution_count": null,
   "metadata": {},
   "outputs": [],
   "source": [
    "# set\n",
    "\n",
    "# anything that can be written in curly brackets and elements are sep by commas"
   ]
  },
  {
   "cell_type": "code",
   "execution_count": 36,
   "metadata": {},
   "outputs": [
    {
     "name": "stdout",
     "output_type": "stream",
     "text": [
      "{1, 2, 3, 4, 5}\n"
     ]
    }
   ],
   "source": [
    "a = {1,2,3,4,5}\n",
    "print(a)"
   ]
  },
  {
   "cell_type": "code",
   "execution_count": null,
   "metadata": {},
   "outputs": [],
   "source": [
    "# Properties\n",
    "\n",
    "1. not a seq data type\n",
    "2. indexing and slicing is not supoorted\n",
    "3. collection of unique elements\n",
    "4. immutable"
   ]
  },
  {
   "cell_type": "code",
   "execution_count": 37,
   "metadata": {},
   "outputs": [
    {
     "ename": "TypeError",
     "evalue": "'set' object is not subscriptable",
     "output_type": "error",
     "traceback": [
      "\u001b[0;31m---------------------------------------------------------------------------\u001b[0m",
      "\u001b[0;31mTypeError\u001b[0m                                 Traceback (most recent call last)",
      "\u001b[0;32m<ipython-input-37-c3b52472fc16>\u001b[0m in \u001b[0;36m<module>\u001b[0;34m\u001b[0m\n\u001b[1;32m      1\u001b[0m \u001b[0ma\u001b[0m \u001b[0;34m=\u001b[0m \u001b[0;34m{\u001b[0m\u001b[0;36m1\u001b[0m\u001b[0;34m,\u001b[0m\u001b[0;36m2\u001b[0m\u001b[0;34m,\u001b[0m\u001b[0;36m3\u001b[0m\u001b[0;34m,\u001b[0m\u001b[0;36m4\u001b[0m\u001b[0;34m}\u001b[0m\u001b[0;34m\u001b[0m\u001b[0;34m\u001b[0m\u001b[0m\n\u001b[0;32m----> 2\u001b[0;31m \u001b[0ma\u001b[0m\u001b[0;34m[\u001b[0m\u001b[0;36m0\u001b[0m\u001b[0;34m]\u001b[0m\u001b[0;34m\u001b[0m\u001b[0;34m\u001b[0m\u001b[0m\n\u001b[0m",
      "\u001b[0;31mTypeError\u001b[0m: 'set' object is not subscriptable"
     ]
    }
   ],
   "source": [
    "a = {1,2,3,4}\n",
    "a[0]"
   ]
  },
  {
   "cell_type": "code",
   "execution_count": 38,
   "metadata": {},
   "outputs": [
    {
     "name": "stdout",
     "output_type": "stream",
     "text": [
      "{1, 2, 3}\n"
     ]
    }
   ],
   "source": [
    "# 3. collection of unique elements\n",
    "\n",
    "a = {1,2,3,1,1,1,2,3}\n",
    "print(a)"
   ]
  },
  {
   "cell_type": "code",
   "execution_count": 39,
   "metadata": {},
   "outputs": [
    {
     "ename": "TypeError",
     "evalue": "'set' object does not support item assignment",
     "output_type": "error",
     "traceback": [
      "\u001b[0;31m---------------------------------------------------------------------------\u001b[0m",
      "\u001b[0;31mTypeError\u001b[0m                                 Traceback (most recent call last)",
      "\u001b[0;32m<ipython-input-39-cc57d04ed3ac>\u001b[0m in \u001b[0;36m<module>\u001b[0;34m\u001b[0m\n\u001b[1;32m      2\u001b[0m \u001b[0;34m\u001b[0m\u001b[0m\n\u001b[1;32m      3\u001b[0m \u001b[0ma\u001b[0m \u001b[0;34m=\u001b[0m \u001b[0;34m{\u001b[0m\u001b[0;36m1\u001b[0m\u001b[0;34m,\u001b[0m\u001b[0;36m2\u001b[0m\u001b[0;34m,\u001b[0m\u001b[0;36m3\u001b[0m\u001b[0;34m}\u001b[0m\u001b[0;34m\u001b[0m\u001b[0;34m\u001b[0m\u001b[0m\n\u001b[0;32m----> 4\u001b[0;31m \u001b[0ma\u001b[0m\u001b[0;34m[\u001b[0m\u001b[0;36m0\u001b[0m\u001b[0;34m]\u001b[0m\u001b[0;34m=\u001b[0m\u001b[0;36m3\u001b[0m\u001b[0;34m\u001b[0m\u001b[0;34m\u001b[0m\u001b[0m\n\u001b[0m",
      "\u001b[0;31mTypeError\u001b[0m: 'set' object does not support item assignment"
     ]
    }
   ],
   "source": [
    "# 4. immutable\n",
    "\n",
    "a = {1,2,3}\n",
    "a[0]=3"
   ]
  },
  {
   "cell_type": "code",
   "execution_count": 41,
   "metadata": {},
   "outputs": [
    {
     "name": "stdout",
     "output_type": "stream",
     "text": [
      "{0, 1, 2, 3}\n"
     ]
    }
   ],
   "source": [
    "a = {1,2,3,0,False,True , 3,3,3,0}\n",
    "print(a)"
   ]
  },
  {
   "cell_type": "code",
   "execution_count": null,
   "metadata": {},
   "outputs": [],
   "source": [
    "true also means 1\n",
    "false also means 0\n",
    "\n",
    "{1,2,3,False}"
   ]
  },
  {
   "cell_type": "code",
   "execution_count": 42,
   "metadata": {},
   "outputs": [
    {
     "name": "stdout",
     "output_type": "stream",
     "text": [
      "{'mayank', 'dishali', 'sukanya', 'afsaan', 'aswin'}\n"
     ]
    }
   ],
   "source": [
    "a = ['afsaan' , 'dishali' , 'sukanya' , 'aswin' , 'aswin' , 'afsaan' , 'mayank' , 'dishali' , 'sukanya' , 'sukanya']\n",
    "\n",
    "b = set(a)\n",
    "\n",
    "print(b)"
   ]
  },
  {
   "cell_type": "markdown",
   "metadata": {},
   "source": [
    "# Dictionary Data type"
   ]
  },
  {
   "cell_type": "code",
   "execution_count": 43,
   "metadata": {},
   "outputs": [],
   "source": [
    "#name of en empoyye, age , salary\n",
    "\n",
    "a = ['Afsaan' , 24 , 70000]"
   ]
  },
  {
   "cell_type": "code",
   "execution_count": 44,
   "metadata": {},
   "outputs": [
    {
     "name": "stdout",
     "output_type": "stream",
     "text": [
      "Afsaan\n",
      "24\n",
      "70000\n"
     ]
    }
   ],
   "source": [
    "# extract name of an empoyee\n",
    "print(a[0])\n",
    "\n",
    "# extract the age of employee\n",
    "print(a[1])\n",
    "\n",
    "# extract the salary of employye\n",
    "print(a[2])"
   ]
  },
  {
   "cell_type": "code",
   "execution_count": 45,
   "metadata": {},
   "outputs": [],
   "source": [
    "a = ['Afsaan' , 24 , 24]\n",
    "\n",
    "\n",
    "# extract name of an empoyee\n",
    "print(a[0])\n",
    "\n",
    "# extract the age of employee\n",
    "print(a[1])\n",
    "\n",
    "# extract the salary of employye\n",
    "print(a[2])"
   ]
  },
  {
   "cell_type": "code",
   "execution_count": 47,
   "metadata": {},
   "outputs": [
    {
     "name": "stdout",
     "output_type": "stream",
     "text": [
      "24\n",
      "afsaan\n",
      "70000\n"
     ]
    }
   ],
   "source": [
    "a = [24 , 'afsaan' , 70000]\n",
    "\n",
    "# extract name of an empoyee\n",
    "print(a[0])\n",
    "\n",
    "# extract the age of employee\n",
    "print(a[1])\n",
    "\n",
    "# extract the salary of employye\n",
    "print(a[2])"
   ]
  },
  {
   "cell_type": "code",
   "execution_count": 49,
   "metadata": {},
   "outputs": [
    {
     "name": "stdout",
     "output_type": "stream",
     "text": [
      "Afsaan\n",
      "24\n",
      "70000\n"
     ]
    }
   ],
   "source": [
    "'''dic - anyhting closed inside a curly brackets and each elem is a key:value pair and each key:value pair\n",
    "        is sep by commas'''\n",
    "\n",
    "dic_employee = {'name':'Afsaan' , 'age':24 , 'salary':70000}\n",
    "\n",
    "# extract name of an empoyee\n",
    "print(dic_employee['name'])\n",
    "\n",
    "# extract the age of employee\n",
    "print(dic_employee['age'])\n",
    "\n",
    "# extract the salary of employye\n",
    "print(dic_employee['salary'])"
   ]
  },
  {
   "cell_type": "code",
   "execution_count": null,
   "metadata": {},
   "outputs": [],
   "source": [
    "dic_employee = {'name':'Afsaan' , 'age':24 , 'salary':24}\n",
    "\n",
    "# extract name of an empoyee\n",
    "print(dic_employee['name'])\n",
    "\n",
    "# extract the age of employee\n",
    "print(dic_employee['age'])\n",
    "\n",
    "# extract the salary of employye\n",
    "print(dic_employee['salary'])"
   ]
  },
  {
   "cell_type": "code",
   "execution_count": 50,
   "metadata": {},
   "outputs": [
    {
     "name": "stdout",
     "output_type": "stream",
     "text": [
      "Afsaan\n",
      "24\n",
      "24\n"
     ]
    }
   ],
   "source": [
    "dic_employee = {'age':24 , 'salary':24, 'name':'Afsaan' }\n",
    "\n",
    "# extract name of an empoyee\n",
    "print(dic_employee['name'])\n",
    "\n",
    "# extract the age of employee\n",
    "print(dic_employee['age'])\n",
    "\n",
    "# extract the salary of employye\n",
    "print(dic_employee['salary'])"
   ]
  },
  {
   "cell_type": "code",
   "execution_count": null,
   "metadata": {},
   "outputs": [],
   "source": [
    "# Properties of dic\n",
    "\n",
    "1. its a coolection of key value pair\n",
    "2. it is used to represent structured data\n",
    "3. key, value pair is called item\n",
    "4. items are sep by commas\n",
    "5. key and values are sep by (:)\n",
    "6. key cannot be duplicated hereas values can be duplicated\n",
    "7. key cannot be mutable i.e key should be immuatble\n",
    "8. value can be anything (mutable , immutable)\n",
    "9. dic is not a seq data type so der is no indexing , slicing , concaqtination , repetition\n",
    "10. membersip op is applicable only on keys\n",
    "11. identity is possible\n",
    "12. dic is mutable - u can chnage the dic , assignemnt is possible\n",
    "13. all the items are into curly brackets and sep by commas"
   ]
  },
  {
   "cell_type": "code",
   "execution_count": null,
   "metadata": {},
   "outputs": [],
   "source": [
    "# how to create a dic\n",
    "\n",
    "# 1. if you already know the element\n",
    "\n",
    "dic_employee = {'age':24 , 'salary':24, 'name':'Afsaan' }"
   ]
  },
  {
   "cell_type": "code",
   "execution_count": 52,
   "metadata": {},
   "outputs": [
    {
     "name": "stdout",
     "output_type": "stream",
     "text": [
      "please input the dic{1:2}\n",
      "{1: 2} <class 'dict'>\n"
     ]
    }
   ],
   "source": [
    "# 2. taking the user input\n",
    "\n",
    "dic_1 = eval(input('please input the dic'))\n",
    "print(dic_1 , type(dic_1))"
   ]
  },
  {
   "cell_type": "code",
   "execution_count": 55,
   "metadata": {},
   "outputs": [
    {
     "data": {
      "text/plain": [
       "{1: 2, 2: 3, 4: 5, 5: 6}"
      ]
     },
     "execution_count": 55,
     "metadata": {},
     "output_type": "execute_result"
    }
   ],
   "source": [
    "# 3 . using the dic fucntion - type casting\n",
    "\n",
    "\"\"\" dic fucntion takes a seq of inner seq where inner seq will have a pair of value and out of the pair\n",
    "the first value will be key and second will be value\n",
    "\"\"\"\n",
    "\n",
    "a = [[1,2] , [2,3] , [4,5] , [5,6]]\n",
    "a = ((1,2) , [2,3] , [4,5] , [5,6])\n",
    "\n",
    "dict(a)"
   ]
  },
  {
   "cell_type": "code",
   "execution_count": 59,
   "metadata": {},
   "outputs": [
    {
     "data": {
      "text/plain": [
       "{1: 'a', 2: 'f', 3: 's', 4: 'a'}"
      ]
     },
     "execution_count": 59,
     "metadata": {},
     "output_type": "execute_result"
    }
   ],
   "source": [
    "#4. zip function\n",
    "\n",
    "# syntax - zip(iterable1 , iterable2) # iterable 1 acts a key and iterable 2 acts as value\n",
    "\n",
    "dict(zip([1,2,3,4] , 'afsaan'))"
   ]
  },
  {
   "cell_type": "code",
   "execution_count": 60,
   "metadata": {},
   "outputs": [
    {
     "data": {
      "text/plain": [
       "{1: 'a', 2: 'f', 3: 's', 4: 'a'}"
      ]
     },
     "execution_count": 60,
     "metadata": {},
     "output_type": "execute_result"
    }
   ],
   "source": [
    "# 1. its a coolection of key value pair\n",
    "# 2. it is used to represent structured data\n",
    "# 3. key, value pair is called item\n",
    "# 4. items are sep by commas\n",
    "# 5. key and values are sep by (:)\n",
    "\n",
    "{1: 'a', 2: 'f', 3: 's', 4: 'a'}"
   ]
  },
  {
   "cell_type": "code",
   "execution_count": 61,
   "metadata": {},
   "outputs": [
    {
     "name": "stdout",
     "output_type": "stream",
     "text": [
      "{'name_1': 'afsaan', 'name_2': 'messi'}\n"
     ]
    }
   ],
   "source": [
    "# 6. key cannot be duplicated hereas values can be duplicated\n",
    "\n",
    "a = {'name_1':'afsaan' , 'name_2':'messi'}\n",
    "\n",
    "print(a)"
   ]
  },
  {
   "cell_type": "code",
   "execution_count": 62,
   "metadata": {},
   "outputs": [
    {
     "name": "stdout",
     "output_type": "stream",
     "text": [
      "{'name_1': 'ronaldo', 'name_2': 'messi'}\n"
     ]
    }
   ],
   "source": [
    "a = {'name_1':'afsaan' , 'name_2':'messi' , 'name_1':'ronaldo'}\n",
    "\n",
    "print(a)"
   ]
  },
  {
   "cell_type": "code",
   "execution_count": null,
   "metadata": {},
   "outputs": [],
   "source": [
    "'name_1':'ronaldo'\n",
    "'name_2':'messi'"
   ]
  },
  {
   "cell_type": "code",
   "execution_count": 63,
   "metadata": {},
   "outputs": [
    {
     "name": "stdout",
     "output_type": "stream",
     "text": [
      "{'name_1': 'kante', 'name_2': 'cavani'}\n"
     ]
    }
   ],
   "source": [
    "a = {'name_1':'afsaan' , 'name_2':'messi' , 'name_1':'ronaldo' , 'name_2':'cavani' , 'name_1':'kante'}\n",
    "\n",
    "print(a)"
   ]
  },
  {
   "cell_type": "code",
   "execution_count": 66,
   "metadata": {},
   "outputs": [
    {
     "name": "stdout",
     "output_type": "stream",
     "text": [
      "{'name_1': 'afsaan', 'name_2': 'afsaan'}\n"
     ]
    }
   ],
   "source": [
    "a = {'name_1':'afsaan' , 'name_2':'afsaan' , 'name_1':'afsaan' , 'name_2':'afsaan' , 'name_1':'afsaan'}\n",
    "\n",
    "print(a)"
   ]
  },
  {
   "cell_type": "code",
   "execution_count": 67,
   "metadata": {},
   "outputs": [
    {
     "name": "stdout",
     "output_type": "stream",
     "text": [
      "{'name_1': 'afsaan', 2: 'afsaan'}\n"
     ]
    }
   ],
   "source": [
    "# 7. key cannot be mutable i.e key should be immuatble\n",
    "\n",
    "a = {'name_1':'afsaan' , 2:'afsaan'}\n",
    "\n",
    "print(a)"
   ]
  },
  {
   "cell_type": "code",
   "execution_count": 68,
   "metadata": {},
   "outputs": [
    {
     "name": "stdout",
     "output_type": "stream",
     "text": [
      "{'name_1': 'afsaan', (1, 2, 3): 'afsaan'}\n"
     ]
    }
   ],
   "source": [
    "a = {'name_1':'afsaan' , (1,2,3):'afsaan'}\n",
    "\n",
    "print(a)"
   ]
  },
  {
   "cell_type": "code",
   "execution_count": 69,
   "metadata": {},
   "outputs": [
    {
     "ename": "TypeError",
     "evalue": "unhashable type: 'list'",
     "output_type": "error",
     "traceback": [
      "\u001b[0;31m---------------------------------------------------------------------------\u001b[0m",
      "\u001b[0;31mTypeError\u001b[0m                                 Traceback (most recent call last)",
      "\u001b[0;32m<ipython-input-69-ff5d99f10fc4>\u001b[0m in \u001b[0;36m<module>\u001b[0;34m\u001b[0m\n\u001b[0;32m----> 1\u001b[0;31m \u001b[0ma\u001b[0m \u001b[0;34m=\u001b[0m \u001b[0;34m{\u001b[0m\u001b[0;34m[\u001b[0m\u001b[0;34m'name_1'\u001b[0m\u001b[0;34m]\u001b[0m\u001b[0;34m:\u001b[0m\u001b[0;34m'afsaan'\u001b[0m \u001b[0;34m,\u001b[0m \u001b[0;34m(\u001b[0m\u001b[0;36m1\u001b[0m\u001b[0;34m,\u001b[0m\u001b[0;36m2\u001b[0m\u001b[0;34m,\u001b[0m\u001b[0;36m3\u001b[0m\u001b[0;34m)\u001b[0m\u001b[0;34m:\u001b[0m\u001b[0;34m'afsaan'\u001b[0m\u001b[0;34m}\u001b[0m\u001b[0;34m\u001b[0m\u001b[0;34m\u001b[0m\u001b[0m\n\u001b[0m\u001b[1;32m      2\u001b[0m \u001b[0;34m\u001b[0m\u001b[0m\n\u001b[1;32m      3\u001b[0m \u001b[0mprint\u001b[0m\u001b[0;34m(\u001b[0m\u001b[0ma\u001b[0m\u001b[0;34m)\u001b[0m\u001b[0;34m\u001b[0m\u001b[0;34m\u001b[0m\u001b[0m\n",
      "\u001b[0;31mTypeError\u001b[0m: unhashable type: 'list'"
     ]
    }
   ],
   "source": [
    "a = {['name_1']:'afsaan' , (1,2,3):'afsaan'}\n",
    "\n",
    "print(a)"
   ]
  },
  {
   "cell_type": "code",
   "execution_count": 70,
   "metadata": {},
   "outputs": [
    {
     "name": "stdout",
     "output_type": "stream",
     "text": [
      "{'name_1': ['afsaan'], (1, 2, 3): 'afsaan'}\n"
     ]
    }
   ],
   "source": [
    "# 8. value can be anything (mutable , immutable)\n",
    "\n",
    "a = {'name_1':['afsaan'] , (1,2,3):'afsaan'}\n",
    "\n",
    "print(a)"
   ]
  },
  {
   "cell_type": "code",
   "execution_count": 75,
   "metadata": {},
   "outputs": [
    {
     "ename": "TypeError",
     "evalue": "unsupported operand type(s) for +: 'dict' and 'dict'",
     "output_type": "error",
     "traceback": [
      "\u001b[0;31m---------------------------------------------------------------------------\u001b[0m",
      "\u001b[0;31mTypeError\u001b[0m                                 Traceback (most recent call last)",
      "\u001b[0;32m<ipython-input-75-3b943c177ee5>\u001b[0m in \u001b[0;36m<module>\u001b[0;34m\u001b[0m\n\u001b[1;32m     11\u001b[0m \u001b[0;34m\u001b[0m\u001b[0m\n\u001b[1;32m     12\u001b[0m \u001b[0;31m# concat\u001b[0m\u001b[0;34m\u001b[0m\u001b[0;34m\u001b[0m\u001b[0;34m\u001b[0m\u001b[0m\n\u001b[0;32m---> 13\u001b[0;31m \u001b[0ma\u001b[0m\u001b[0;34m+\u001b[0m\u001b[0mb\u001b[0m\u001b[0;34m\u001b[0m\u001b[0;34m\u001b[0m\u001b[0m\n\u001b[0m\u001b[1;32m     14\u001b[0m \u001b[0;34m\u001b[0m\u001b[0m\n\u001b[1;32m     15\u001b[0m \u001b[0;31m# repetion\u001b[0m\u001b[0;34m\u001b[0m\u001b[0;34m\u001b[0m\u001b[0;34m\u001b[0m\u001b[0m\n",
      "\u001b[0;31mTypeError\u001b[0m: unsupported operand type(s) for +: 'dict' and 'dict'"
     ]
    }
   ],
   "source": [
    "# 9. dic is not a seq data type so der is no indexing , slicing , concaqtination , repetition\n",
    "\n",
    "a = {'name_1':['afsaan'] , (1,2,3):'afsaan'}\n",
    "b = {'name_3':['afsaan'] , (1,2,3,4):'afsaan'}\n",
    "\n",
    "# # indexing\n",
    "# a[0]\n",
    "\n",
    "# # slicing\n",
    "# a[::]\n",
    "\n",
    "# concat\n",
    "a+b\n",
    "\n",
    "# repetion\n",
    "a*3"
   ]
  },
  {
   "cell_type": "code",
   "execution_count": 76,
   "metadata": {},
   "outputs": [
    {
     "name": "stdout",
     "output_type": "stream",
     "text": [
      "False\n"
     ]
    }
   ],
   "source": [
    "# 10. membersip op is applicable only on keys\n",
    "\n",
    "a = {'name_1':'afsaan' , 'name_2':'afsaan'}\n",
    "\n",
    "print('afsaan' in a)"
   ]
  },
  {
   "cell_type": "code",
   "execution_count": 77,
   "metadata": {},
   "outputs": [
    {
     "name": "stdout",
     "output_type": "stream",
     "text": [
      "True\n"
     ]
    }
   ],
   "source": [
    "a = {'name_1':'afsaan' , 'name_2':'afsaan'}\n",
    "\n",
    "print('name_1' in a)"
   ]
  },
  {
   "cell_type": "code",
   "execution_count": 78,
   "metadata": {},
   "outputs": [
    {
     "name": "stdout",
     "output_type": "stream",
     "text": [
      "False\n"
     ]
    }
   ],
   "source": [
    "# 11. identity is possible\n",
    "\n",
    "a = {'name_1':'afsaan' , 'name_2':'afsaan'}\n",
    "b = {'name_1':'afsaan' , 'name_2':'afsaan'}\n",
    "\n",
    "print( a is b)"
   ]
  },
  {
   "cell_type": "code",
   "execution_count": 80,
   "metadata": {},
   "outputs": [],
   "source": [
    "# 12. dic is mutable - u can chnage the dic , assignemnt is possible\n",
    "\n",
    "a = {'name_1':'afsaan' , 'name_2':'rahul'}\n",
    "\n",
    "a['name_2'] = 'messi'"
   ]
  },
  {
   "cell_type": "code",
   "execution_count": 81,
   "metadata": {},
   "outputs": [
    {
     "data": {
      "text/plain": [
       "{'name_1': 'afsaan', 'name_2': 'messi'}"
      ]
     },
     "execution_count": 81,
     "metadata": {},
     "output_type": "execute_result"
    }
   ],
   "source": [
    "a"
   ]
  },
  {
   "cell_type": "code",
   "execution_count": null,
   "metadata": {},
   "outputs": [],
   "source": [
    "# 13. all the items are into curly brackets and sep by commas\n",
    "\n",
    "\n",
    "a = {'name_1':'afsaan' , 'name_2':'rahul'}"
   ]
  },
  {
   "cell_type": "code",
   "execution_count": 82,
   "metadata": {},
   "outputs": [
    {
     "name": "stdout",
     "output_type": "stream",
     "text": [
      "{'name_1': {'first_name': 'afsaan', 'last_name': 'khan'}, 'name_2': {'first_name': 'Rahul', 'last_name': 'Tiwari'}}\n"
     ]
    }
   ],
   "source": [
    "a = {'name_1':{'first_name' : 'afsaan' , 'last_name':'khan'} , 'name_2':{'first_name' : 'Rahul' , 'last_name':'Tiwari'}}\n",
    "print(a)"
   ]
  },
  {
   "cell_type": "code",
   "execution_count": 84,
   "metadata": {},
   "outputs": [
    {
     "data": {
      "text/plain": [
       "'khan'"
      ]
     },
     "execution_count": 84,
     "metadata": {},
     "output_type": "execute_result"
    }
   ],
   "source": [
    "# extract lastname of employee name_1 from dic a\n",
    "\n",
    "a['name_1']['last_name']"
   ]
  },
  {
   "cell_type": "markdown",
   "metadata": {},
   "source": [
    "# Methods on Dic"
   ]
  },
  {
   "cell_type": "code",
   "execution_count": 85,
   "metadata": {},
   "outputs": [
    {
     "data": {
      "text/plain": [
       "['__class__',\n",
       " '__contains__',\n",
       " '__delattr__',\n",
       " '__delitem__',\n",
       " '__dir__',\n",
       " '__doc__',\n",
       " '__eq__',\n",
       " '__format__',\n",
       " '__ge__',\n",
       " '__getattribute__',\n",
       " '__getitem__',\n",
       " '__gt__',\n",
       " '__hash__',\n",
       " '__init__',\n",
       " '__init_subclass__',\n",
       " '__iter__',\n",
       " '__le__',\n",
       " '__len__',\n",
       " '__lt__',\n",
       " '__ne__',\n",
       " '__new__',\n",
       " '__reduce__',\n",
       " '__reduce_ex__',\n",
       " '__repr__',\n",
       " '__reversed__',\n",
       " '__setattr__',\n",
       " '__setitem__',\n",
       " '__sizeof__',\n",
       " '__str__',\n",
       " '__subclasshook__',\n",
       " 'clear',\n",
       " 'copy',\n",
       " 'fromkeys',\n",
       " 'get',\n",
       " 'items',\n",
       " 'keys',\n",
       " 'pop',\n",
       " 'popitem',\n",
       " 'setdefault',\n",
       " 'update',\n",
       " 'values']"
      ]
     },
     "execution_count": 85,
     "metadata": {},
     "output_type": "execute_result"
    }
   ],
   "source": [
    "dir(dict)"
   ]
  },
  {
   "cell_type": "code",
   "execution_count": null,
   "metadata": {},
   "outputs": [],
   "source": [
    "# methods to add and access the element from dic\n",
    "\n",
    "1. get\n",
    "2. setdefault\n",
    "3. update"
   ]
  },
  {
   "cell_type": "code",
   "execution_count": 88,
   "metadata": {},
   "outputs": [
    {
     "name": "stdout",
     "output_type": "stream",
     "text": [
      "None\n",
      "key is not present\n"
     ]
    }
   ],
   "source": [
    "# 1. get\n",
    "\n",
    "\"\"\"\n",
    "if the key is present it returns the value , else default value\n",
    "\"\"\"\n",
    "\n",
    "# a. if key is present\n",
    "\n",
    "employee_details = { 'emp1' : {'name':'Afsan' , 'age': 23 , 'salary':70000} , \n",
    "                      'emp2' : {'name':'rahul' , 'age': 23 , 'salary':6000}}\n",
    "\n",
    "employee_details.get('emp1')\n",
    "\n",
    "# a. if key is not present\n",
    "\n",
    "employee_details = { 'emp1' : {'name':'Afsan' , 'age': 23 , 'salary':70000} , \n",
    "                      'emp2' : {'name':'rahul' , 'age': 23 , 'salary':6000}}\n",
    "\n",
    "print(employee_details.get('emp3'))\n",
    "\n",
    "\n",
    "# we can deifne our own messgae of key is not der\n",
    "\n",
    "employee_details = { 'emp1' : {'name':'Afsan' , 'age': 23 , 'salary':70000} , \n",
    "                      'emp2' : {'name':'rahul' , 'age': 23 , 'salary':6000}}\n",
    "\n",
    "print(employee_details.get('emp3', 'key is not present'))"
   ]
  },
  {
   "cell_type": "code",
   "execution_count": 90,
   "metadata": {},
   "outputs": [
    {
     "name": "stdout",
     "output_type": "stream",
     "text": [
      "key is not present\n"
     ]
    }
   ],
   "source": [
    "employee_details = { 'emp1' : {'name':'Afsan' , 'age': 23 , 'salary':70000} , \n",
    "                      'emp2' : {'name':'rahul' , 'age': 23 , 'salary':6000},\n",
    "                   'emp3' : {'name':'Afsan' , 'age': 23 , 'salary':70000}\n",
    "                   }\n",
    "\n",
    "print(employee_details.get('emp5', 'key is not present'))"
   ]
  },
  {
   "cell_type": "code",
   "execution_count": 99,
   "metadata": {},
   "outputs": [
    {
     "data": {
      "text/plain": [
       "{'name': 'Afsan', 'age': 23, 'salary': 70000}"
      ]
     },
     "execution_count": 99,
     "metadata": {},
     "output_type": "execute_result"
    }
   ],
   "source": [
    "#2 , set deafult\n",
    "\n",
    "\"\"\"\n",
    "Insert the key with the value of the deafult if the key is not in the dic , else return the value\n",
    "\"\"\"\n",
    "\n",
    "\n",
    "# a. if key is present\n",
    "\n",
    "employee_details = { 'emp1' : {'name':'Afsan' , 'age': 23 , 'salary':70000} , \n",
    "                      'emp2' : {'name':'rahul' , 'age': 23 , 'salary':6000}}\n",
    "\n",
    "employee_details.setdefault('emp2')\n",
    "\n",
    "\n",
    "# a. if key is not present\n",
    "\n",
    "employee_details = { 'emp1' : {'name':'Afsan' , 'age': 23 , 'salary':70000} , \n",
    "                      'emp2' : {'name':'rahul' , 'age': 23 , 'salary':6000}}\n",
    "\n",
    "employee_details.setdefault('emp3')\n",
    "\n",
    "# define you own message\n",
    "\n",
    "employee_details = { 'emp1' : {'name':'Afsan' , 'age': 23 , 'salary':70000} , \n",
    "                      'emp2' : {'name':'rahul' , 'age': 23 , 'salary':6000}}\n",
    "\n",
    "employee_details.setdefault('emp1' , 'not present')"
   ]
  },
  {
   "cell_type": "code",
   "execution_count": 96,
   "metadata": {},
   "outputs": [
    {
     "data": {
      "text/plain": [
       "{'emp1': {'name': 'Afsan', 'age': 23, 'salary': 70000},\n",
       " 'emp2': {'name': 'rahul', 'age': 23, 'salary': 6000},\n",
       " 'emp3': 'not present'}"
      ]
     },
     "execution_count": 96,
     "metadata": {},
     "output_type": "execute_result"
    }
   ],
   "source": [
    "employee_details"
   ]
  },
  {
   "cell_type": "code",
   "execution_count": 101,
   "metadata": {},
   "outputs": [],
   "source": [
    "# 3. update\n",
    "\n",
    "'''\n",
    "updates the dic wiht the new dic\n",
    "'''\n",
    "employee_details = { 'emp1' : {'name':'Afsan' , 'age': 23 , 'salary':70000} , \n",
    "                      'emp2' : {'name':'rahul' , 'age': 23 , 'salary':6000}}\n",
    "\n",
    "\n",
    "new_employee = {'emp3' : {'name':'rahul' , 'age': 23 , 'salary':6000}}\n",
    "\n",
    "employee_details.update(new_employee)"
   ]
  },
  {
   "cell_type": "code",
   "execution_count": 102,
   "metadata": {},
   "outputs": [
    {
     "data": {
      "text/plain": [
       "{'emp1': {'name': 'Afsan', 'age': 23, 'salary': 70000},\n",
       " 'emp2': {'name': 'rahul', 'age': 23, 'salary': 6000},\n",
       " 'emp3': {'name': 'rahul', 'age': 23, 'salary': 6000}}"
      ]
     },
     "execution_count": 102,
     "metadata": {},
     "output_type": "execute_result"
    }
   ],
   "source": [
    "employee_details"
   ]
  },
  {
   "cell_type": "markdown",
   "metadata": {},
   "source": [
    "# Revision"
   ]
  },
  {
   "cell_type": "code",
   "execution_count": null,
   "metadata": {},
   "outputs": [],
   "source": [
    "Tuple packing and unpacking"
   ]
  },
  {
   "cell_type": "code",
   "execution_count": 103,
   "metadata": {},
   "outputs": [
    {
     "name": "stdout",
     "output_type": "stream",
     "text": [
      "(10, 20, 30, 40, 50)\n"
     ]
    }
   ],
   "source": [
    "a = 10,20,30,40,50\n",
    "\n",
    "print(a)"
   ]
  },
  {
   "cell_type": "code",
   "execution_count": 107,
   "metadata": {},
   "outputs": [
    {
     "name": "stdout",
     "output_type": "stream",
     "text": [
      "10 20 30 40 50\n"
     ]
    }
   ],
   "source": [
    "# unpacking\n",
    "\n",
    "a,b,c,d,e = 10,20,30,40,50\n",
    "\n",
    "\n",
    "print(a,b,c,d,e)"
   ]
  },
  {
   "cell_type": "code",
   "execution_count": null,
   "metadata": {},
   "outputs": [],
   "source": [
    "def\n",
    "return a,b"
   ]
  }
 ],
 "metadata": {
  "kernelspec": {
   "display_name": "Python 3",
   "language": "python",
   "name": "python3"
  },
  "language_info": {
   "codemirror_mode": {
    "name": "ipython",
    "version": 3
   },
   "file_extension": ".py",
   "mimetype": "text/x-python",
   "name": "python",
   "nbconvert_exporter": "python",
   "pygments_lexer": "ipython3",
   "version": "3.8.5"
  }
 },
 "nbformat": 4,
 "nbformat_minor": 4
}
