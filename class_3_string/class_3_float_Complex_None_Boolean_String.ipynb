{
 "cells": [
  {
   "cell_type": "code",
   "execution_count": null,
   "metadata": {},
   "outputs": [],
   "source": [
    "# Type casting\n",
    "\n",
    "- Converting one data type to another\n",
    "\n",
    "int() - converts to integer\n",
    "float() - whihc converts to float\n",
    "str() - converts to string\n",
    "bool() - converts to bool\n",
    "list() - converts to list\n",
    "tuple() - converts to tuple\n"
   ]
  },
  {
   "cell_type": "code",
   "execution_count": 1,
   "metadata": {},
   "outputs": [
    {
     "name": "stdout",
     "output_type": "stream",
     "text": [
      "<class 'int'>\n"
     ]
    }
   ],
   "source": [
    "a = 1\n",
    "print(type(a))"
   ]
  },
  {
   "cell_type": "code",
   "execution_count": 2,
   "metadata": {},
   "outputs": [
    {
     "name": "stdout",
     "output_type": "stream",
     "text": [
      "1.0\n"
     ]
    }
   ],
   "source": [
    "#1 way\n",
    "\n",
    "a = 1\n",
    "\n",
    "print(float(a))"
   ]
  },
  {
   "cell_type": "code",
   "execution_count": 3,
   "metadata": {},
   "outputs": [
    {
     "name": "stdout",
     "output_type": "stream",
     "text": [
      "1.0\n"
     ]
    }
   ],
   "source": [
    "#2 way\n",
    "\n",
    "a = float(1)\n",
    "\n",
    "print(a)"
   ]
  },
  {
   "cell_type": "code",
   "execution_count": 4,
   "metadata": {},
   "outputs": [
    {
     "name": "stdout",
     "output_type": "stream",
     "text": [
      "True\n"
     ]
    }
   ],
   "source": [
    "a = 200\n",
    "\n",
    "print(bool(a))"
   ]
  },
  {
   "cell_type": "code",
   "execution_count": 5,
   "metadata": {},
   "outputs": [
    {
     "name": "stdout",
     "output_type": "stream",
     "text": [
      "123 123.0 True\n"
     ]
    }
   ],
   "source": [
    "string = '123'\n",
    "\n",
    "a = int(string)\n",
    "b = float(string)\n",
    "c = bool(string)\n",
    "\n",
    "print(a , b , c)"
   ]
  },
  {
   "cell_type": "code",
   "execution_count": 7,
   "metadata": {},
   "outputs": [
    {
     "name": "stdout",
     "output_type": "stream",
     "text": [
      "123 123.0 True\n"
     ]
    }
   ],
   "source": [
    "string = '123'  # 0-9\n",
    "\n",
    "a = int(string)\n",
    "b = float(string)\n",
    "c = bool(string)\n",
    "\n",
    "print(a , b , c)"
   ]
  },
  {
   "cell_type": "code",
   "execution_count": 8,
   "metadata": {},
   "outputs": [
    {
     "ename": "ValueError",
     "evalue": "invalid literal for int() with base 10: '123@'",
     "output_type": "error",
     "traceback": [
      "\u001b[0;31m---------------------------------------------------------------------------\u001b[0m",
      "\u001b[0;31mValueError\u001b[0m                                Traceback (most recent call last)",
      "\u001b[0;32m<ipython-input-8-9900738efbe6>\u001b[0m in \u001b[0;36m<module>\u001b[0;34m\u001b[0m\n\u001b[1;32m      1\u001b[0m \u001b[0mstring\u001b[0m \u001b[0;34m=\u001b[0m \u001b[0;34m'123@'\u001b[0m  \u001b[0;31m# 0-9\u001b[0m\u001b[0;34m\u001b[0m\u001b[0;34m\u001b[0m\u001b[0m\n\u001b[1;32m      2\u001b[0m \u001b[0;34m\u001b[0m\u001b[0m\n\u001b[0;32m----> 3\u001b[0;31m \u001b[0ma\u001b[0m \u001b[0;34m=\u001b[0m \u001b[0mint\u001b[0m\u001b[0;34m(\u001b[0m\u001b[0mstring\u001b[0m\u001b[0;34m)\u001b[0m\u001b[0;34m\u001b[0m\u001b[0;34m\u001b[0m\u001b[0m\n\u001b[0m\u001b[1;32m      4\u001b[0m \u001b[0mb\u001b[0m \u001b[0;34m=\u001b[0m \u001b[0mfloat\u001b[0m\u001b[0;34m(\u001b[0m\u001b[0mstring\u001b[0m\u001b[0;34m)\u001b[0m\u001b[0;34m\u001b[0m\u001b[0;34m\u001b[0m\u001b[0m\n\u001b[1;32m      5\u001b[0m \u001b[0mc\u001b[0m \u001b[0;34m=\u001b[0m \u001b[0mbool\u001b[0m\u001b[0;34m(\u001b[0m\u001b[0mstring\u001b[0m\u001b[0;34m)\u001b[0m\u001b[0;34m\u001b[0m\u001b[0;34m\u001b[0m\u001b[0m\n",
      "\u001b[0;31mValueError\u001b[0m: invalid literal for int() with base 10: '123@'"
     ]
    }
   ],
   "source": [
    "string = '123@'  # 0-9\n",
    "\n",
    "a = int(string)\n",
    "b = float(string)\n",
    "c = bool(string)\n",
    "\n",
    "print(a , b , c)"
   ]
  },
  {
   "cell_type": "code",
   "execution_count": 11,
   "metadata": {},
   "outputs": [
    {
     "name": "stdout",
     "output_type": "stream",
     "text": [
      "123 123.3 True\n"
     ]
    }
   ],
   "source": [
    "string = '123.3'  # 0-9\n",
    "\n",
    "# a = int(string)\n",
    "b = float(string)\n",
    "c = bool(string)\n",
    "\n",
    "print(a , b , c)"
   ]
  },
  {
   "cell_type": "markdown",
   "metadata": {},
   "source": [
    "# Input and output functions in pyhton\n",
    "\n",
    "input function - input functiion is used to take input from the user"
   ]
  },
  {
   "cell_type": "code",
   "execution_count": 15,
   "metadata": {},
   "outputs": [
    {
     "name": "stdout",
     "output_type": "stream",
     "text": [
      "Enter the number: 1\n",
      "Enter the number: 2\n",
      "12\n"
     ]
    }
   ],
   "source": [
    "a = input('Enter the number: ')\n",
    "b = input('Enter the number: ')\n",
    "\n",
    "print(a + b)"
   ]
  },
  {
   "cell_type": "code",
   "execution_count": 16,
   "metadata": {},
   "outputs": [
    {
     "name": "stdout",
     "output_type": "stream",
     "text": [
      "Enter the number: 1\n",
      "Enter the number: 2\n",
      "3\n"
     ]
    }
   ],
   "source": [
    "#1 way\n",
    "a = input('Enter the number: ')\n",
    "b = input('Enter the number: ')\n",
    "\n",
    "print(int(a) + int(b))"
   ]
  },
  {
   "cell_type": "code",
   "execution_count": 17,
   "metadata": {},
   "outputs": [
    {
     "name": "stdout",
     "output_type": "stream",
     "text": [
      "Enter the number: 1\n",
      "Enter the number: 2\n",
      "3\n"
     ]
    }
   ],
   "source": [
    "#2 way\n",
    "a = int(input('Enter the number: '))\n",
    "b = int(input('Enter the number: '))\n",
    "\n",
    "print(a+b)"
   ]
  },
  {
   "cell_type": "markdown",
   "metadata": {},
   "source": [
    "# Coclusion\n",
    "\n",
    "- input will always return a String data type"
   ]
  },
  {
   "cell_type": "code",
   "execution_count": null,
   "metadata": {},
   "outputs": [],
   "source": [
    "1 . type casting\n",
    "2. eval function - eval(' < proper_datatype> ')"
   ]
  },
  {
   "cell_type": "code",
   "execution_count": null,
   "metadata": {},
   "outputs": [],
   "source": []
  },
  {
   "cell_type": "code",
   "execution_count": 22,
   "metadata": {},
   "outputs": [
    {
     "data": {
      "text/plain": [
       "'afsaan'"
      ]
     },
     "execution_count": 22,
     "metadata": {},
     "output_type": "execute_result"
    }
   ],
   "source": [
    "eval('\"afsaan\"')"
   ]
  },
  {
   "cell_type": "code",
   "execution_count": null,
   "metadata": {},
   "outputs": [],
   "source": [
    "1\n",
    "'afsaan'\n",
    "[1,2,3]\n",
    "True"
   ]
  },
  {
   "cell_type": "code",
   "execution_count": null,
   "metadata": {},
   "outputs": [],
   "source": [
    "print('a')"
   ]
  },
  {
   "cell_type": "code",
   "execution_count": 25,
   "metadata": {},
   "outputs": [
    {
     "name": "stdout",
     "output_type": "stream",
     "text": [
      "Enter the number: 'afsaan'\n",
      "Enter the number: 'khan'\n",
      "afsaankhan\n"
     ]
    }
   ],
   "source": [
    "a = eval(input('Enter the number: '))\n",
    "b = eval(input('Enter the number: '))\n",
    "\n",
    "print(a+b)"
   ]
  },
  {
   "cell_type": "code",
   "execution_count": null,
   "metadata": {},
   "outputs": [],
   "source": [
    "eval('afsaan')"
   ]
  },
  {
   "cell_type": "markdown",
   "metadata": {},
   "source": [
    "# Output Function\n",
    "\n",
    "- function that prints the value on the screen\n",
    "- print() is an output function"
   ]
  },
  {
   "cell_type": "code",
   "execution_count": 27,
   "metadata": {},
   "outputs": [
    {
     "name": "stdout",
     "output_type": "stream",
     "text": [
      "10\n",
      "20\n",
      "30\n"
     ]
    }
   ],
   "source": [
    "a = 10\n",
    "b = 20\n",
    "c = 30\n",
    "\n",
    "print(a)\n",
    "print(b)\n",
    "print(c)"
   ]
  },
  {
   "cell_type": "code",
   "execution_count": 28,
   "metadata": {},
   "outputs": [
    {
     "name": "stdout",
     "output_type": "stream",
     "text": [
      "10-->20-->30\n"
     ]
    }
   ],
   "source": [
    "a = 10\n",
    "b = 20\n",
    "c = 30\n",
    "\n",
    "print(a , end='-->')\n",
    "print(b , end='-->')\n",
    "print(c )"
   ]
  },
  {
   "cell_type": "code",
   "execution_count": 31,
   "metadata": {},
   "outputs": [
    {
     "name": "stdout",
     "output_type": "stream",
     "text": [
      "10**20**30\n"
     ]
    }
   ],
   "source": [
    "a = 10\n",
    "b = 20\n",
    "c = 30\n",
    "\n",
    "print(a,b,c,sep='**')"
   ]
  },
  {
   "cell_type": "code",
   "execution_count": 34,
   "metadata": {},
   "outputs": [
    {
     "name": "stdout",
     "output_type": "stream",
     "text": [
      "10**20\t30-->40\n"
     ]
    }
   ],
   "source": [
    "a = 10\n",
    "b = 20\n",
    "c = 30\n",
    "d = 40\n",
    "\n",
    "print(a,b,sep='**' , end ='\\t')\n",
    "print(c,end='-->')\n",
    "print(d)"
   ]
  },
  {
   "cell_type": "code",
   "execution_count": 33,
   "metadata": {},
   "outputs": [
    {
     "name": "stdout",
     "output_type": "stream",
     "text": [
      "a\tb\n"
     ]
    }
   ],
   "source": [
    "Q1. take user name and surname form the user and print on the screen"
   ]
  },
  {
   "cell_type": "code",
   "execution_count": 35,
   "metadata": {},
   "outputs": [
    {
     "name": "stdout",
     "output_type": "stream",
     "text": [
      "Enter username: afsaan\n",
      "Enter surname: khan\n",
      "afsaan khan\n"
     ]
    }
   ],
   "source": [
    "username = input(\"Enter username: \") \n",
    "surname = input(\"Enter surname: \") \n",
    "print(username, surname) "
   ]
  },
  {
   "cell_type": "code",
   "execution_count": 36,
   "metadata": {},
   "outputs": [
    {
     "name": "stdout",
     "output_type": "stream",
     "text": [
      "Enter username: afsan\n",
      "Enter surname: khan\n",
      "Username is:  afsan\n",
      "Surname is:  khan\n"
     ]
    }
   ],
   "source": [
    "username = input(\"Enter username: \") \n",
    "surname = input(\"Enter surname: \") \n",
    "print(\"Username is: \", username) \n",
    "print(\"Surname is: \", surname) "
   ]
  },
  {
   "cell_type": "markdown",
   "metadata": {},
   "source": [
    "# Sting format"
   ]
  },
  {
   "cell_type": "code",
   "execution_count": 38,
   "metadata": {},
   "outputs": [
    {
     "name": "stdout",
     "output_type": "stream",
     "text": [
      "please eneter the name: afsaan\n",
      "please enter the age24\n",
      "afsaan\n",
      "24\n"
     ]
    }
   ],
   "source": [
    "name = input('please eneter the name: ')\n",
    "age = input('please enter the age')\n",
    "print(name)\n",
    "print(age)"
   ]
  },
  {
   "cell_type": "code",
   "execution_count": null,
   "metadata": {},
   "outputs": [],
   "source": [
    "name = input('please eneter the name: ')\n",
    "age = input('please enter the age')\n",
    "print('my name is afsaan and my age is 24')"
   ]
  },
  {
   "cell_type": "code",
   "execution_count": 40,
   "metadata": {},
   "outputs": [
    {
     "name": "stdout",
     "output_type": "stream",
     "text": [
      "please eneter the name: afsan\n",
      "please enter the age24\n",
      "my name is afsan and my age is 24\n"
     ]
    }
   ],
   "source": [
    "name = input('please eneter the name: ')\n",
    "age = input('please enter the age')\n",
    "print(f'my name is {name} and my age is {age}')"
   ]
  },
  {
   "cell_type": "code",
   "execution_count": 41,
   "metadata": {},
   "outputs": [
    {
     "name": "stdout",
     "output_type": "stream",
     "text": [
      "please eneter the name: afsan\n",
      "please enter the agekhan\n",
      "my name is afsan and my age is khan\n"
     ]
    }
   ],
   "source": [
    "name = input('please eneter the name: ')\n",
    "age = input('please enter the age')\n",
    "print('my name is {} and my age is {}'.format(name , age))"
   ]
  },
  {
   "cell_type": "code",
   "execution_count": 42,
   "metadata": {},
   "outputs": [
    {
     "name": "stdout",
     "output_type": "stream",
     "text": [
      "please eneter the name: afsan\n",
      "please enter the age24\n",
      "my name is afsan and my age is 24\n"
     ]
    }
   ],
   "source": [
    "name = input('please eneter the name: ')\n",
    "age = int(input('please enter the age'))\n",
    "print('my name is {} and my age is {}'.format(name , age))"
   ]
  },
  {
   "cell_type": "markdown",
   "metadata": {},
   "source": [
    "# Float\n",
    "\n",
    "- any value with a decimal point"
   ]
  },
  {
   "cell_type": "code",
   "execution_count": 43,
   "metadata": {},
   "outputs": [
    {
     "name": "stdout",
     "output_type": "stream",
     "text": [
      "<class 'float'>\n"
     ]
    }
   ],
   "source": [
    "a = 10.2\n",
    "print(type(a))"
   ]
  },
  {
   "cell_type": "code",
   "execution_count": null,
   "metadata": {},
   "outputs": [],
   "source": [
    "Operations possible with floats\n",
    "\n",
    "- arthmetic op\n",
    "- compariosn op\n",
    "- Equality op\n",
    "- logical op\n",
    "- identity op\n",
    "- assignment op\n",
    "\n",
    "operations that is not possible with float\n",
    "\n",
    "- bitwise op\n",
    "- assignment op whihc includes bitwise operator\n",
    "\n",
    "Object reusabilty concept is not applicable with floats"
   ]
  },
  {
   "cell_type": "code",
   "execution_count": 44,
   "metadata": {},
   "outputs": [
    {
     "data": {
      "text/plain": [
       "0.3000000000000007"
      ]
     },
     "execution_count": 44,
     "metadata": {},
     "output_type": "execute_result"
    }
   ],
   "source": [
    "12.3%3"
   ]
  },
  {
   "cell_type": "markdown",
   "metadata": {},
   "source": [
    "# Complex data type\n",
    "\n",
    "- any value that can be represented in the form of a + bj is called as complex numbers"
   ]
  },
  {
   "cell_type": "code",
   "execution_count": 45,
   "metadata": {},
   "outputs": [
    {
     "name": "stdout",
     "output_type": "stream",
     "text": [
      "<class 'complex'>\n"
     ]
    }
   ],
   "source": [
    "a = 10 + 6j\n",
    "print(type(a))"
   ]
  },
  {
   "cell_type": "code",
   "execution_count": 48,
   "metadata": {},
   "outputs": [
    {
     "name": "stdout",
     "output_type": "stream",
     "text": [
      "10.0\n",
      "6.0\n"
     ]
    }
   ],
   "source": [
    "# extractuing the real and the img part - return value will be float\n",
    "\n",
    "print(a.real)\n",
    "print(a.imag)"
   ]
  },
  {
   "cell_type": "markdown",
   "metadata": {},
   "source": [
    "Operations possible with complex\n",
    "\n",
    "- arthmetic op except modulo\n",
    "- Equality op\n",
    "- logical op\n",
    "- identity op\n",
    "- assignment op excpet modulo and bitwise\n",
    "\n",
    "operations that is not possible with Complex\n",
    "\n",
    "- compariosn op\n",
    "- bitwise op\n",
    "- assignment op whihc includes bitwise operator\n",
    "\n",
    "Object reusabilty concept is not applicable with complex"
   ]
  },
  {
   "cell_type": "code",
   "execution_count": 49,
   "metadata": {},
   "outputs": [
    {
     "ename": "TypeError",
     "evalue": "can't mod complex numbers.",
     "output_type": "error",
     "traceback": [
      "\u001b[0;31m---------------------------------------------------------------------------\u001b[0m",
      "\u001b[0;31mTypeError\u001b[0m                                 Traceback (most recent call last)",
      "\u001b[0;32m<ipython-input-49-b251b6a17589>\u001b[0m in \u001b[0;36m<module>\u001b[0;34m\u001b[0m\n\u001b[0;32m----> 1\u001b[0;31m \u001b[0;36m10\u001b[0m\u001b[0;34m+\u001b[0m\u001b[0;36m6j\u001b[0m \u001b[0;34m%\u001b[0m \u001b[0;36m2\u001b[0m\u001b[0;34m\u001b[0m\u001b[0;34m\u001b[0m\u001b[0m\n\u001b[0m",
      "\u001b[0;31mTypeError\u001b[0m: can't mod complex numbers."
     ]
    }
   ],
   "source": [
    "10+6j % 2"
   ]
  },
  {
   "cell_type": "code",
   "execution_count": 50,
   "metadata": {},
   "outputs": [
    {
     "data": {
      "text/plain": [
       "(11+5j)"
      ]
     },
     "execution_count": 50,
     "metadata": {},
     "output_type": "execute_result"
    }
   ],
   "source": [
    "10+6j and 11+5j"
   ]
  },
  {
   "cell_type": "code",
   "execution_count": null,
   "metadata": {},
   "outputs": [],
   "source": [
    "# None Data type\n",
    "- used to represent a missing value\n",
    "\n",
    "\n",
    "name      id          sal\n",
    "\n",
    "xyz       None        None\n",
    "None      123         24k"
   ]
  },
  {
   "cell_type": "code",
   "execution_count": null,
   "metadata": {},
   "outputs": [],
   "source": [
    "float , complex and none"
   ]
  },
  {
   "cell_type": "code",
   "execution_count": 51,
   "metadata": {},
   "outputs": [
    {
     "name": "stdout",
     "output_type": "stream",
     "text": [
      "<class 'NoneType'>\n"
     ]
    }
   ],
   "source": [
    "a = None\n",
    "print(type(a))"
   ]
  },
  {
   "cell_type": "markdown",
   "metadata": {},
   "source": [
    "# Boolean Data type(True or False)\n",
    "\n",
    "- true also means 1\n",
    "- False also means 0"
   ]
  },
  {
   "cell_type": "code",
   "execution_count": 54,
   "metadata": {},
   "outputs": [
    {
     "name": "stdout",
     "output_type": "stream",
     "text": [
      "3\n"
     ]
    }
   ],
   "source": [
    "# proof 1\n",
    "\n",
    "int(True)\n",
    "\n",
    "# proof 2\n",
    "print(True + True + True)"
   ]
  },
  {
   "cell_type": "code",
   "execution_count": null,
   "metadata": {},
   "outputs": [],
   "source": [
    "#int\n",
    "0 is always false\n",
    "rest all is True\n",
    "\n",
    "# float\n",
    "0.0 is false\n",
    "rest all true\n",
    "\n",
    "# string\n",
    "'' is false\n",
    "rest all true\n",
    "\n",
    "# complex\n",
    "0+0j is always false\n",
    "rest all true\n",
    "\n",
    "None is always false\n",
    "\n",
    "Derived data types\n",
    "\n",
    "empty list , empty tuple , empty set empty dic asre all false"
   ]
  },
  {
   "cell_type": "code",
   "execution_count": 65,
   "metadata": {},
   "outputs": [
    {
     "name": "stdout",
     "output_type": "stream",
     "text": [
      "False\n",
      "True\n",
      "----------------------\n",
      "False\n",
      "True\n",
      "----------------------\n",
      "False\n",
      "True\n",
      "----------------------\n",
      "False\n",
      "True\n",
      "----------------------\n",
      "False\n",
      "----------------------\n",
      "False\n",
      "----------------------\n",
      "False\n",
      "----------------------\n",
      "False\n"
     ]
    }
   ],
   "source": [
    "# int\n",
    "print(bool(0))\n",
    "print(bool(-100))\n",
    "\n",
    "print('----------------------')\n",
    "# float\n",
    "print(bool(0.0))\n",
    "print(bool(-100.0))\n",
    "\n",
    "print('----------------------')\n",
    "# string\n",
    "print(bool(''))\n",
    "print(bool('-100.0'))\n",
    "\n",
    "print('----------------------')\n",
    "# Complex\n",
    "print(bool(0+0j))\n",
    "print(bool(1+6j))\n",
    "\n",
    "print('----------------------')\n",
    "# Complex\n",
    "print(bool(None))\n",
    "\n",
    "\n",
    "print('----------------------')\n",
    "# Complex\n",
    "print(bool([]))\n",
    "\n",
    "print('----------------------')\n",
    "# Complex\n",
    "print(bool(()))\n",
    "\n",
    "\n",
    "print('----------------------')\n",
    "# Complex\n",
    "print(bool({}))"
   ]
  },
  {
   "cell_type": "markdown",
   "metadata": {},
   "source": [
    "# String-\n",
    "\n",
    "anything that can be written inside a '..' , \"...\" , '''....''' , \"\"\".....\"\"\""
   ]
  },
  {
   "cell_type": "code",
   "execution_count": 68,
   "metadata": {},
   "outputs": [
    {
     "name": "stdout",
     "output_type": "stream",
     "text": [
      "python\n",
      "<class 'str'>\n"
     ]
    }
   ],
   "source": [
    "a = 'python'\n",
    "print(a)\n",
    "print(type(a))"
   ]
  },
  {
   "cell_type": "code",
   "execution_count": 69,
   "metadata": {},
   "outputs": [
    {
     "name": "stdout",
     "output_type": "stream",
     "text": [
      "python\n",
      "python\n",
      "python\n"
     ]
    }
   ],
   "source": [
    "a = 'python'\n",
    "b = \"python\"\n",
    "c = \"\"\"python\"\"\"\n",
    "\n",
    "print(a)\n",
    "print(b)\n",
    "print(c)"
   ]
  },
  {
   "cell_type": "code",
   "execution_count": 70,
   "metadata": {},
   "outputs": [
    {
     "ename": "SyntaxError",
     "evalue": "invalid syntax (<ipython-input-70-507be9b832ef>, line 3)",
     "output_type": "error",
     "traceback": [
      "\u001b[0;36m  File \u001b[0;32m\"<ipython-input-70-507be9b832ef>\"\u001b[0;36m, line \u001b[0;32m3\u001b[0m\n\u001b[0;31m    statment1 = 'it's a python class today'\u001b[0m\n\u001b[0m                    ^\u001b[0m\n\u001b[0;31mSyntaxError\u001b[0m\u001b[0;31m:\u001b[0m invalid syntax\n"
     ]
    }
   ],
   "source": [
    "a = 'python'\n",
    "\n",
    "statment1 = 'it's a python class today'"
   ]
  },
  {
   "cell_type": "code",
   "execution_count": 72,
   "metadata": {},
   "outputs": [
    {
     "name": "stdout",
     "output_type": "stream",
     "text": [
      "it's a python class today\n"
     ]
    }
   ],
   "source": [
    "statment1 = \"it's a python class today\"\n",
    "print(statment1)"
   ]
  },
  {
   "cell_type": "code",
   "execution_count": 75,
   "metadata": {},
   "outputs": [
    {
     "ename": "SyntaxError",
     "evalue": "EOL while scanning string literal (<ipython-input-75-446a5c0263a2>, line 3)",
     "output_type": "error",
     "traceback": [
      "\u001b[0;36m  File \u001b[0;32m\"<ipython-input-75-446a5c0263a2>\"\u001b[0;36m, line \u001b[0;32m3\u001b[0m\n\u001b[0;31m    str1 = \"\u001b[0m\n\u001b[0m            ^\u001b[0m\n\u001b[0;31mSyntaxError\u001b[0m\u001b[0;31m:\u001b[0m EOL while scanning string literal\n"
     ]
    }
   ],
   "source": [
    "# multiple lines\n",
    "\n",
    "str1 = \"\n",
    "hey\n",
    "hello world\n",
    "tutort\n",
    "\""
   ]
  },
  {
   "cell_type": "code",
   "execution_count": 74,
   "metadata": {},
   "outputs": [
    {
     "name": "stdout",
     "output_type": "stream",
     "text": [
      "\n",
      "hey\n",
      "hello world\n",
      "tutort\n",
      "\n"
     ]
    }
   ],
   "source": [
    "print(str1)"
   ]
  },
  {
   "cell_type": "code",
   "execution_count": null,
   "metadata": {},
   "outputs": [],
   "source": [
    "# String properties\n",
    "\n",
    "- String is Seq data type - it allows indexing as well as sliciing\n",
    "- supports both +ve and -ve indexing\n",
    "- +ve indexing starts from l to right with starting of 0\n",
    "- -ve indexing starts from r to l with starting index -1\n",
    "- indexing (accesing one element) - slicing (accesing multiple element at a time)\n",
    "- syntax indexing (var_name[index_value]) - syntax for slicing (var_name[start:stop:step])"
   ]
  },
  {
   "cell_type": "code",
   "execution_count": null,
   "metadata": {},
   "outputs": [],
   "source": []
  },
  {
   "cell_type": "code",
   "execution_count": 76,
   "metadata": {},
   "outputs": [
    {
     "name": "stdout",
     "output_type": "stream",
     "text": [
      "140686744088752\n"
     ]
    }
   ],
   "source": [
    "a = 'python'\n",
    "\n",
    "print(id(a))"
   ]
  },
  {
   "cell_type": "code",
   "execution_count": 77,
   "metadata": {},
   "outputs": [
    {
     "name": "stdout",
     "output_type": "stream",
     "text": [
      "y\n",
      "y\n"
     ]
    }
   ],
   "source": [
    "# +ve indexing\n",
    "print(a[1])\n",
    "\n",
    "# -ve indeinxg\n",
    "print(a[-5])"
   ]
  },
  {
   "cell_type": "code",
   "execution_count": 78,
   "metadata": {},
   "outputs": [
    {
     "name": "stdout",
     "output_type": "stream",
     "text": [
      "140686747836784\n",
      "y\n"
     ]
    }
   ],
   "source": [
    "# +ve indexing\n",
    "print(id(a[1]))\n",
    "\n",
    "# -ve indeinxg\n",
    "print(a[-5])"
   ]
  },
  {
   "cell_type": "code",
   "execution_count": 81,
   "metadata": {},
   "outputs": [
    {
     "name": "stdout",
     "output_type": "stream",
     "text": [
      "140686749310448\n",
      "140686750008880\n"
     ]
    }
   ],
   "source": [
    "# why\n",
    "\n",
    "a = 'python'\n",
    "b = 'cython'\n",
    "\n",
    "print(id(a[0]))\n",
    "print(id(b[0]))"
   ]
  },
  {
   "cell_type": "code",
   "execution_count": 82,
   "metadata": {},
   "outputs": [
    {
     "name": "stdout",
     "output_type": "stream",
     "text": [
      "140686747836784\n",
      "140686747836784\n"
     ]
    }
   ],
   "source": [
    "print(id(a[1]))\n",
    "print(id(b[1]))"
   ]
  },
  {
   "cell_type": "code",
   "execution_count": 83,
   "metadata": {},
   "outputs": [
    {
     "data": {
      "text/plain": [
       "'y'"
      ]
     },
     "execution_count": 83,
     "metadata": {},
     "output_type": "execute_result"
    }
   ],
   "source": [
    "a[1]"
   ]
  },
  {
   "cell_type": "code",
   "execution_count": 84,
   "metadata": {},
   "outputs": [
    {
     "data": {
      "text/plain": [
       "1"
      ]
     },
     "execution_count": 84,
     "metadata": {},
     "output_type": "execute_result"
    }
   ],
   "source": [
    "indexing - it means extracting 1 char at a time\n",
    "slicing - extracting multiple character at a time"
   ]
  },
  {
   "cell_type": "code",
   "execution_count": 85,
   "metadata": {},
   "outputs": [
    {
     "data": {
      "text/plain": [
       "'pyt'"
      ]
     },
     "execution_count": 85,
     "metadata": {},
     "output_type": "execute_result"
    }
   ],
   "source": [
    "a = 'python'\n",
    "\n",
    "# synatx = a[start_index:stop_index]\n",
    "\n",
    "a[0:3]"
   ]
  },
  {
   "cell_type": "code",
   "execution_count": 87,
   "metadata": {},
   "outputs": [
    {
     "data": {
      "text/plain": [
       "'ytho'"
      ]
     },
     "execution_count": 87,
     "metadata": {},
     "output_type": "execute_result"
    }
   ],
   "source": [
    "# extract 'ytho' -- using +ve as well as -ve\n",
    "\n",
    "a[1:5]\n",
    "\n",
    "a[-5:-1]"
   ]
  },
  {
   "cell_type": "code",
   "execution_count": 90,
   "metadata": {},
   "outputs": [
    {
     "data": {
      "text/plain": [
       "'thon'"
      ]
     },
     "execution_count": 90,
     "metadata": {},
     "output_type": "execute_result"
    }
   ],
   "source": [
    "# 'thon' --- using +ve and -ve indexing\n",
    "\n",
    "\n",
    "a[-4:] 3 special case"
   ]
  },
  {
   "cell_type": "code",
   "execution_count": 91,
   "metadata": {},
   "outputs": [
    {
     "data": {
      "text/plain": [
       "'thon'"
      ]
     },
     "execution_count": 91,
     "metadata": {},
     "output_type": "execute_result"
    }
   ],
   "source": [
    "a[2:]"
   ]
  },
  {
   "cell_type": "code",
   "execution_count": null,
   "metadata": {},
   "outputs": [],
   "source": []
  }
 ],
 "metadata": {
  "kernelspec": {
   "display_name": "Python 3",
   "language": "python",
   "name": "python3"
  },
  "language_info": {
   "codemirror_mode": {
    "name": "ipython",
    "version": 3
   },
   "file_extension": ".py",
   "mimetype": "text/x-python",
   "name": "python",
   "nbconvert_exporter": "python",
   "pygments_lexer": "ipython3",
   "version": "3.8.5"
  }
 },
 "nbformat": 4,
 "nbformat_minor": 4
}
