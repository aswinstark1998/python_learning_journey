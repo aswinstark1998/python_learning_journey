{
  "nbformat": 4,
  "nbformat_minor": 0,
  "metadata": {
    "kernelspec": {
      "display_name": "Python 3",
      "language": "python",
      "name": "python3"
    },
    "language_info": {
      "codemirror_mode": {
        "name": "ipython",
        "version": 3
      },
      "file_extension": ".py",
      "mimetype": "text/x-python",
      "name": "python",
      "nbconvert_exporter": "python",
      "pygments_lexer": "ipython3",
      "version": "3.8.5"
    },
    "colab": {
      "name": "Copy of Map_Reduce_Filter_question.ipynb",
      "provenance": [],
      "collapsed_sections": []
    }
  },
  "cells": [
    {
      "cell_type": "code",
      "metadata": {
        "id": "wzmcnHvq7JT_",
        "colab": {
          "base_uri": "https://localhost:8080/"
        },
        "outputId": "40e8f4f9-89f0-4e0b-ed98-268e1c53c71d"
      },
      "source": [
        "# Write a Python program to triple all numbers of a given list of integers. Use Python map\n",
        "\n",
        "list_num = eval(input(\"Enter list of number(s): \"))\n",
        "\n",
        "list_out = list(map(lambda a: a*3, list_num))\n",
        "\n",
        "print(list_out)\n"
      ],
      "execution_count": 2,
      "outputs": [
        {
          "output_type": "stream",
          "name": "stdout",
          "text": [
            "Enter list of number(s): [1,2,3]\n",
            "[3, 6, 9]\n"
          ]
        }
      ]
    },
    {
      "cell_type": "code",
      "metadata": {
        "id": "SrtEyjpP7JUD",
        "colab": {
          "base_uri": "https://localhost:8080/"
        },
        "outputId": "641da4b4-a040-4a7c-d43e-ab02b443648a"
      },
      "source": [
        "# Write a Python program to add three given lists using Python map and lambda\n",
        "\n",
        "list_1 = [10, 10, 10, 10, 10]\n",
        "list_2 = [10, 10, 10, 10]\n",
        "list_3 = [10, 10, 10, 10, 10]\n",
        "list_out = []\n",
        "\n",
        "max = 0\n",
        "\n",
        "if len(list_1)>=len(list_2):\n",
        "  max = len(list_1)\n",
        "else:\n",
        "  max = len(list_2)\n",
        "\n",
        "if len(list_3)>=max:\n",
        "  max = len(list_3)\n",
        "\n",
        "print(\"max length: \", max)\n",
        "\n",
        "for i in range(len(list_1), max):\n",
        "  list_1.append(0)\n",
        "\n",
        "for i in range(len(list_2), max):\n",
        "  list_2.append(0)\n",
        "\n",
        "for i in range(len(list_3), max):\n",
        "  list_3.append(0)\n",
        "\n",
        "print(list_1)\n",
        "print(list_2)\n",
        "print(list_3)\n",
        "\n",
        "print('-'*max*5)\n",
        "\n",
        "list_out = list(map(lambda a,b,c: a+b+c , list_1, list_2, list_3))\n",
        "\n",
        "print(list_out)\n"
      ],
      "execution_count": 39,
      "outputs": [
        {
          "output_type": "stream",
          "name": "stdout",
          "text": [
            "max length:  5\n",
            "[10, 10, 10, 10, 10]\n",
            "[10, 10, 10, 10, 0]\n",
            "[10, 10, 10, 10, 10]\n",
            "-------------------------\n",
            "[30, 30, 30, 30, 20]\n"
          ]
        }
      ]
    },
    {
      "cell_type": "code",
      "metadata": {
        "id": "6we43qFI7JUD",
        "colab": {
          "base_uri": "https://localhost:8080/"
        },
        "outputId": "1600bc32-b9c8-4ba2-8c2f-1c52e7fe77b9"
      },
      "source": [
        "\n",
        "# Write a Python program to add two given lists and find the difference between lists\n",
        "\n",
        "\"\"\"\n",
        "sample list\n",
        "nums1 = [6, 5, 3, 9]\n",
        "nums2 = [0, 1, 7, 7]\n",
        "\n",
        "\n",
        "output  - [(6, 6), (6, 4), (10, -4), (16, 2)]\n",
        "\n",
        "\"\"\"\n",
        "list_1 = [6, 5, 3, 9]\n",
        "list_2 = [0, 1, 7, 7]\n",
        "list_out = []\n",
        "\n",
        "max = 0\n",
        "\n",
        "if len(list_1)>=len(list_2):\n",
        "  max = len(list_1)\n",
        "else:\n",
        "  max = len(list_2)\n",
        "\n",
        "print(\"max length: \", max)\n",
        "\n",
        "for i in range(len(list_1), max):\n",
        "  list_1.append(0)\n",
        "\n",
        "for i in range(len(list_2), max):\n",
        "  list_2.append(0)\n",
        "\n",
        "\n",
        "print(list_1)\n",
        "print(list_2)\n",
        "\n",
        "list_out = list(map(lambda a, b: (a+b, a-b), list_1, list_2))\n",
        "print(list_out)\n"
      ],
      "execution_count": 43,
      "outputs": [
        {
          "output_type": "stream",
          "name": "stdout",
          "text": [
            "max length:  4\n",
            "[6, 5, 3, 9]\n",
            "[0, 1, 7, 7]\n",
            "[(6, 6), (6, 4), (10, -4), (16, 2)]\n"
          ]
        }
      ]
    },
    {
      "cell_type": "code",
      "metadata": {
        "id": "S1251PV37JUE",
        "colab": {
          "base_uri": "https://localhost:8080/"
        },
        "outputId": "5d5dce45-01c0-4cd8-ccf3-a1660dadc7e9"
      },
      "source": [
        "# Write a Python program to convert all the characters in uppercase and lowercase and eliminate duplicate letters from a given sequence\n",
        "\n",
        "global_var = \"\"\n",
        "used_char = []\n",
        "def removeDuplicates(c):\n",
        "  if global_var.count(c)==1:\n",
        "      return True\n",
        "  else:\n",
        "    if c in used_char:\n",
        "      return False\n",
        "    else:\n",
        "      used_char.append(c)\n",
        "      return True\n",
        "  return False\n",
        "\n",
        "inp_string = eval(input(\"Enter a sequence: \"))\n",
        "\n",
        "inp_upper_case = list(map(lambda a: a.upper(), inp_string))\n",
        "inp_lower_case = list(map(lambda a: a.lower(), inp_string))\n",
        "\n",
        "print(\"Upper Case: \", \"\".join(inp_upper_case))\n",
        "print(\"Lower Case: \", \"\".join(inp_lower_case))\n",
        "global_var = inp_lower_case\n",
        "\n",
        "remove_dup = list(filter(removeDuplicates, inp_lower_case))\n",
        "print(\"After removing duplicates: \",\"\".join(remove_dup))\n"
      ],
      "execution_count": 85,
      "outputs": [
        {
          "output_type": "stream",
          "name": "stdout",
          "text": [
            "Enter a sequence: 'Aswin is a GOOD BOY'\n",
            "Upper Case:  ASWIN IS A GOOD BOY\n",
            "Lower Case:  aswin is a good boy\n",
            "aswin godby\n"
          ]
        }
      ]
    },
    {
      "cell_type": "code",
      "metadata": {
        "id": "vz0Nhqvs7JUF",
        "colab": {
          "base_uri": "https://localhost:8080/"
        },
        "outputId": "8c440cff-493f-4e2a-d3c5-c883ec8ba982"
      },
      "source": [
        "# Filter out the fruits that start with A \n",
        "\n",
        "inp_list = ['Apple', 'Banana', 'Avacado', 'Amla', 'Pomogranate']\n",
        "output = filter(lambda a: True if a[0]=='A' or a[0]=='a' else False,  inp_list)\n",
        "print(list(output))"
      ],
      "execution_count": 73,
      "outputs": [
        {
          "output_type": "stream",
          "name": "stdout",
          "text": [
            "['Apple', 'Avacado', 'Amla']\n"
          ]
        }
      ]
    },
    {
      "cell_type": "code",
      "metadata": {
        "id": "jvpUwxIc7JUF",
        "colab": {
          "base_uri": "https://localhost:8080/"
        },
        "outputId": "c6d884b6-8676-4db6-cc97-d235d6859204"
      },
      "source": [
        "# Filter out the positve number from a list\n",
        "\n",
        "inp_list = [1, 2, 3, -2, 0, -9, 3, -10]\n",
        "positive_list = list(filter(lambda a: True if a>=0 else False, inp_list))\n",
        "\n",
        "print(positive_list)"
      ],
      "execution_count": 86,
      "outputs": [
        {
          "output_type": "stream",
          "name": "stdout",
          "text": [
            "[1, 2, 3, 0, 3]\n"
          ]
        }
      ]
    },
    {
      "cell_type": "code",
      "metadata": {
        "id": "x4_mjVYK7JUG",
        "colab": {
          "base_uri": "https://localhost:8080/"
        },
        "outputId": "5c8c6cc7-edbd-4bd4-d685-21fa00536bda"
      },
      "source": [
        "# filter out the multiples of 3 and 5 from a list\n",
        "\n",
        "inp_list = [1, 2, 3, -2, 0, -9, 3, -10, 15, 18, 20]\n",
        "multiples_list = list(filter(lambda a: True if a%5==0 or a%3==0 else False, inp_list))\n",
        "print(multiples_list)\n"
      ],
      "execution_count": 98,
      "outputs": [
        {
          "output_type": "stream",
          "name": "stdout",
          "text": [
            "[3, 0, -9, 3, -10, 15, 18, 20]\n"
          ]
        }
      ]
    },
    {
      "cell_type": "code",
      "metadata": {
        "id": "_wVRmCGf7JUH",
        "colab": {
          "base_uri": "https://localhost:8080/"
        },
        "outputId": "5a56479d-4639-497c-cc6d-e77bc214a5c8"
      },
      "source": [
        "# find the max string using reuduce function\n",
        "from functools import reduce\n",
        "\n",
        "inp_list = ['Aswin', 'Afsaan', 'Mayank', 'Dishali', 'Sukanya', 'Krismin']\n",
        "\n",
        "max_list = reduce(lambda a, b: a if a>=b else b, inp_list)\n",
        "print(\"\".join(max_list))"
      ],
      "execution_count": 96,
      "outputs": [
        {
          "output_type": "stream",
          "name": "stdout",
          "text": [
            "Sukanya\n"
          ]
        }
      ]
    },
    {
      "cell_type": "code",
      "metadata": {
        "id": "yJT_wtZG7JUH",
        "colab": {
          "base_uri": "https://localhost:8080/"
        },
        "outputId": "14549743-7e80-4e10-c1b9-7db58e49fd9c"
      },
      "source": [
        "# find the mean , max and min of a given list using reduce function\n",
        "from functools import reduce\n",
        "\n",
        "num_list = [1, 2, 3, 4, 5, 6, 7, 8, 9, 10]\n",
        "\n",
        "mean = reduce(lambda a, b: (a+b)/2, num_list)\n",
        "max = reduce(lambda a, b: a if a>=b else b, num_list)\n",
        "min = reduce(lambda a, b: a if a<b else b, num_list)\n",
        "\n",
        "print(\"Mean:\",  mean)\n",
        "print(\"Max:\",  max)\n",
        "print(\"Min:\",  min)\n",
        "\n"
      ],
      "execution_count": 99,
      "outputs": [
        {
          "output_type": "stream",
          "name": "stdout",
          "text": [
            "Mean: 9.001953125\n",
            "Max: 10\n",
            "Min: 1\n"
          ]
        }
      ]
    },
    {
      "cell_type": "code",
      "metadata": {
        "id": "H9IgK2kL5BKE"
      },
      "source": [
        ""
      ],
      "execution_count": null,
      "outputs": []
    }
  ]
}